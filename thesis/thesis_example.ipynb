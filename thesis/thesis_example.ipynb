{
 "cells": [
  {
   "cell_type": "markdown",
   "metadata": {},
   "source": [
    "# Thesis ABM model\n",
    "\n",
    "Network model between agents that creates stochastic payment shocks then settles payments. Agents are affliliated to a bank. If with the same bank, settlement occurs in period. If with different bank, payment occurs every fourth period due to \"batching\".\n",
    "\n",
    "## Configuring the model\n",
    "\n",
    "In the Black Rhino framework, parameters are stored in xml files. Using this notebook, you can set change them. First, you need to import the elementree from the xml Python module."
   ]
  },
  {
   "cell_type": "code",
   "execution_count": 73,
   "metadata": {},
   "outputs": [],
   "source": [
    "import xml.etree.ElementTree as ET"
   ]
  },
  {
   "cell_type": "markdown",
   "metadata": {},
   "source": [
    "Below you will find the parameter inputs for this model. Change the parameter values for different configurations of the model."
   ]
  },
  {
   "cell_type": "code",
   "execution_count": 74,
   "metadata": {},
   "outputs": [],
   "source": [
    "parameter_values = (('num_sweeps', '10'),\n",
    "                    ('num_simulations', '1'),\n",
    "                    ('num_households', '8'),\n",
    "                    ('num_banks', '2'),\n",
    "                    ('batch', '4'),\n",
    "                    ('household_directory', 'agents/gen_households/'),\n",
    "                    ('bank_directory', 'agents/gen_banks/'),\n",
    "                    ('central_bank_directory', 'agents/central_bank/'),\n",
    "                    ('measurement_config', 'measurements/test_output.xml')\n",
    "                   )"
   ]
  },
  {
   "cell_type": "markdown",
   "metadata": {},
   "source": [
    "To translate this to an xml document, which the framework can read, we first need create an ET element. "
   ]
  },
  {
   "cell_type": "code",
   "execution_count": 75,
   "metadata": {},
   "outputs": [],
   "source": [
    "environment = ET.Element('environment', identifier = \"CBDC_parameters\")"
   ]
  },
  {
   "cell_type": "markdown",
   "metadata": {},
   "source": [
    "And create parameter elements and give them the values seen below to add to the tree object."
   ]
  },
  {
   "cell_type": "code",
   "execution_count": 76,
   "metadata": {},
   "outputs": [],
   "source": [
    "parameters = []\n",
    "for x in range(len(parameter_values)):\n",
    "    parameters.append(ET.SubElement(environment, 'parameter'))\n",
    "    \n",
    "for idx, p in enumerate(parameters):\n",
    "    p.set('type', 'static')\n",
    "    p.set('name', parameter_values[idx][0])\n",
    "    p.set('value', parameter_values[idx][1])"
   ]
  },
  {
   "cell_type": "markdown",
   "metadata": {},
   "source": [
    "This object can now be transformed to a string and written to an xml file using the code below. "
   ]
  },
  {
   "cell_type": "code",
   "execution_count": 77,
   "metadata": {},
   "outputs": [],
   "source": [
    "xml_params = ET.tostring(environment, encoding=\"UTF-8\")\n",
    "myfile = open(\"environments/CBDC_parameters.xml\", \"w\")\n",
    "xml_params = \"<?xml version='1.0' encoding='UTF-8'?>\\n\" + str(xml_params, encoding = \"UTF-8\")\n",
    "myfile.write(xml_params)\n",
    "myfile.close()"
   ]
  },
  {
   "cell_type": "markdown",
   "metadata": {},
   "source": [
    "Now, the parameter xml file has been generated and the model can be run. Before, running the model, you need to import a couple of extra modules. These are the Python logging module, the Black Rhino environment class, and the Black Rhino runner class."
   ]
  },
  {
   "cell_type": "code",
   "execution_count": 78,
   "metadata": {},
   "outputs": [],
   "source": [
    "import logging\n",
    "import os\n",
    "from src.environment import Environment\n",
    "from src.runner import Runner"
   ]
  },
  {
   "cell_type": "markdown",
   "metadata": {},
   "source": [
    "Then, before running the model, the logger needs to be initialized."
   ]
  },
  {
   "cell_type": "code",
   "execution_count": 79,
   "metadata": {},
   "outputs": [],
   "source": [
    "log_directory = \"log/\"\n",
    "identifier = \"/CBDC_parameters\"\n",
    "environment_directory = \"environments/\"\n",
    "if not os.path.exists('log'):\n",
    "    os.makedirs('log')\n",
    "logging.basicConfig(format='%(asctime)s %(message)s', datefmt='%m/%d/%Y %H:%M:%S',\n",
    "                    filename=log_directory + identifier + \".log\", level=logging.INFO)\n",
    "logging.info('START logging for run: %s',  environment_directory + identifier + \".xml\")"
   ]
  },
  {
   "cell_type": "markdown",
   "metadata": {},
   "source": [
    "Generate banks and households using the generate agents class. First remove any agents still in directories. Then generate agents, the number of households and banks needs to be specified. In the generate banks method, the number of banks is the second argument. In the generate households method, the number of households it the second argument and the number of banks is the thrid argument."
   ]
  },
  {
   "cell_type": "code",
   "execution_count": 80,
   "metadata": {},
   "outputs": [],
   "source": [
    "import os\n",
    "remove = True\n",
    "\n",
    "bank_dir = os.getcwd()+'/agents/gen_banks/'\n",
    "house_dir = os.getcwd()+'/agents/gen_households/'\n",
    "if remove:\n",
    "    bank_list = [ f for f in os.listdir(bank_dir) if f.startswith(\"bank\") ]\n",
    "    house_list = [ f for f in os.listdir(house_dir) if f.startswith(\"house\") ]\n",
    "for f in bank_list:\n",
    "    os.remove(os.path.join(bank_dir, f))\n",
    "for f in house_list:\n",
    "    os.remove(os.path.join(house_dir, f))\n"
   ]
  },
  {
   "cell_type": "code",
   "execution_count": 81,
   "metadata": {},
   "outputs": [],
   "source": [
    "from src.br_generate_agents import Generate_Agents\n",
    "gen_agents = Generate_Agents()\n",
    "\n",
    "gen_agents.generate_households(parameter_values[2][1], parameter_values[3][1], \"./agents/gen_households/\")\n",
    "\n",
    "gen_agents.generate_banks(parameter_values[3][1], \"./agents/gen_banks/\")"
   ]
  },
  {
   "cell_type": "markdown",
   "metadata": {},
   "source": [
    "First, the environment will be initialized. It contains the model parameters and variables. The environment also contains a list of agents. In the Solow model, the environment contains one bank, one firm, and one household. Finally, it also contains initialized transactions for these agents."
   ]
  },
  {
   "cell_type": "code",
   "execution_count": 82,
   "metadata": {},
   "outputs": [],
   "source": [
    "environment = Environment(environment_directory, identifier)"
   ]
  },
  {
   "cell_type": "markdown",
   "metadata": {},
   "source": [
    "Next up, the runner object is created. As the name suggests, the runner object handles the running of the model. But that is not all, it also initializes the updater."
   ]
  },
  {
   "cell_type": "code",
   "execution_count": 83,
   "metadata": {},
   "outputs": [],
   "source": [
    "runner = Runner(environment)"
   ]
  },
  {
   "cell_type": "markdown",
   "metadata": {},
   "source": [
    "Now you can actually run the model. Since the agent-based model is simulated using Monte Carlo methods. This means that the model will be run multiple times (num_simulations). For every simulation run, the environment and runner will be (re-)initialized. Then, the runner will run the Solow model. During the run, the runner will write data about capital to a csv file specified within the Measurement class and print out all the transactions happening and the books of firm and household at the end of each sweep."
   ]
  },
  {
   "cell_type": "code",
   "execution_count": 84,
   "metadata": {
    "tags": []
   },
   "outputs": [
    {
     "name": "stdout",
     "output_type": "stream",
     "text": [
      "measurements/test_output.xml\n",
      "bank_0 has 48.0 reserves, and 48.0 Open Market Transactions\n",
      "bank_1 has 48.0 reserves, and 48.0 Open Market Transactions\n",
      "CBDC settlement of household_3_1 to 8.8328715823094 complete\n",
      "Bank Notes settlement of household_3_1 to 0.0 complete\n",
      "household_3_1 chose 15.1671284176906 deposits, 8.8328715823094 cbdc, and 0.0 bank_notes\n",
      "CBDC settlement of household_1_1 to 14.144625410243687 complete\n",
      "Bank Notes settlement of household_1_1 to 0.0 complete\n",
      "household_1_1 chose 9.855374589756313 deposits, 14.144625410243687 cbdc, and 0.0 bank_notes\n",
      "CBDC settlement of household_5_1 to 6.491429462199363 complete\n",
      "Bank Notes settlement of household_5_1 to 0.0 complete\n",
      "household_5_1 chose 17.508570537800637 deposits, 6.491429462199363 cbdc, and 0.0 bank_notes\n",
      "CBDC settlement of household_7_0 to 12.227697684334144 complete\n",
      "Bank Notes settlement of household_7_0 to 0.0 complete\n",
      "household_7_0 chose 11.772302315665856 deposits, 12.227697684334144 cbdc, and 0.0 bank_notes\n",
      "CBDC settlement of household_0_0 to 11.224178145522425 complete\n",
      "Bank Notes settlement of household_0_0 to 0.0 complete\n",
      "household_0_0 chose 12.775821854477575 deposits, 11.224178145522425 cbdc, and 0.0 bank_notes\n",
      "CBDC settlement of household_2_1 to 10.865854393251812 complete\n",
      "Bank Notes settlement of household_2_1 to 0.0 complete\n",
      "household_2_1 chose 13.134145606748188 deposits, 10.865854393251812 cbdc, and 0.0 bank_notes\n",
      "CBDC settlement of household_6_0 to 7.062057770811752 complete\n",
      "Bank Notes settlement of household_6_0 to 0.0 complete\n",
      "household_6_0 chose 16.93794222918825 deposits, 7.062057770811752 cbdc, and 0.0 bank_notes\n",
      "CBDC settlement of household_4_0 to 7.171979080440547 complete\n",
      "Bank Notes settlement of household_4_0 to 0.0 complete\n",
      "household_4_0 chose 16.828020919559453 deposits, 7.171979080440547 cbdc, and 0.0 bank_notes\n",
      "measurements/test_output.xml\n",
      "household_1_1s paid 14.144625410243687f of cbdc to central_banks for household_7_0s at time 1d.\n",
      "central_banks settled 14.144625410243687f of cbdc to household_7_0s at time 1d.\n",
      "household_1_1s paid 0.0f of cbdc to central_banks for household_7_0s at time 1d.\n",
      "central_banks settled 0.0f of cbdc to household_7_0s at time 1d.\n",
      "household_1_1s paid 0.6372159035767719 to bank_1 for household_7_0 at time 1.\n",
      "household_5_1s paid 5.120444016784225f of cbdc to central_banks for household_4_0s at time 1d.\n",
      "central_banks settled 5.120444016784225f of cbdc to household_4_0s at time 1d.\n",
      "household_7_0s paid 25.29767960134664f of cbdc to central_banks for household_1_1s at time 1d.\n",
      "central_banks settled 25.29767960134664f of cbdc to household_1_1s at time 1d.\n",
      "household_0_0s paid 11.224178145522425f of cbdc to central_banks for household_5_1s at time 1d.\n",
      "central_banks settled 11.224178145522425f of cbdc to household_5_1s at time 1d.\n",
      "household_0_0s paid 0.0f of cbdc to central_banks for household_5_1s at time 1d.\n",
      "central_banks settled 0.0f of cbdc to household_5_1s at time 1d.\n",
      "household_0_0s paid 4.311990137629932 to bank_0 for household_5_1 at time 1.\n",
      "household_2_1s paid 7.418888822079988f of cbdc to central_banks for household_0_0s at time 1d.\n",
      "central_banks settled 7.418888822079988f of cbdc to household_0_0s at time 1d.\n",
      "household_6_0s paid 7.880716456910645 to bank_0 for household_0_0 at time 1.\n",
      "household_4_0s paid 12.292423097224772f of cbdc to central_banks for household_3_1s at time 1d.\n",
      "central_banks settled 12.292423097224772f of cbdc to household_3_1s at time 1d.\n",
      "household_4_0s paid 0.0f of cbdc to central_banks for household_3_1s at time 1d.\n",
      "central_banks settled 0.0f of cbdc to household_3_1s at time 1d.\n",
      "household_4_0s paid 6.675672914483743 to bank_0 for household_3_1 at time 1.\n",
      "bank_0s transferred deposits of 7.880716456910645f to household_0_0s at time 1d.\n",
      "measurements/test_output.xml\n",
      "household_0_0s paid 7.418888822079988f of cbdc to central_banks for household_1_1s at time 2d.\n",
      "central_banks settled 7.418888822079988f of cbdc to household_1_1s at time 2d.\n",
      "household_0_0s paid 0.0f of cbdc to central_banks for household_1_1s at time 2d.\n",
      "central_banks settled 0.0f of cbdc to household_1_1s at time 2d.\n",
      "household_0_0s paid 8.029369825684395 to bank_0 for household_1_1 at time 2.\n",
      "household_6_0s paid 7.7442721240584005 to bank_0 for household_0_0 at time 2.\n",
      "household_4_0s paid 0.0f of cbdc to central_banks for household_1_1s at time 2d.\n",
      "central_banks settled 0.0f of cbdc to household_1_1s at time 2d.\n",
      "household_4_0s paid 0.0f of cbdc to central_banks for household_1_1s at time 2d.\n",
      "central_banks settled 0.0f of cbdc to household_1_1s at time 2d.\n",
      "household_4_0s paid 2.9415565555851635 to bank_0 for household_1_1 at time 2.\n",
      "bank_0s transferred deposits of 7.7442721240584005f to household_0_0s at time 2d.\n",
      "measurements/test_output.xml\n",
      "household_1_1s paid 28.664662693675368f of cbdc to central_banks for household_6_0s at time 3d.\n",
      "central_banks settled 28.664662693675368f of cbdc to household_6_0s at time 3d.\n",
      "household_0_0s paid 0.0f of cbdc to central_banks for household_5_1s at time 3d.\n",
      "central_banks settled 0.0f of cbdc to household_5_1s at time 3d.\n",
      "household_0_0s paid 0.0f of cbdc to central_banks for household_5_1s at time 3d.\n",
      "central_banks settled 0.0f of cbdc to household_5_1s at time 3d.\n",
      "household_0_0s paid 8.085334409805794 to bank_0 for household_5_1 at time 3.\n",
      "household_6_0s paid 1.312953648219204 to bank_0 for household_0_0 at time 3.\n",
      "household_6_0s paid 23.362835237261464f of cbdc to central_banks for household_0_0s at time 3d.\n",
      "central_banks settled 23.362835237261464f of cbdc to household_0_0s at time 3d.\n",
      "bank_0s transferred deposits of 1.312953648219204f to household_0_0s at time 3d.\n",
      "measurements/test_output.xml\n",
      "household_3_1s paid 21.12529467953417f of cbdc to central_banks for household_4_0s at time 4d.\n",
      "central_banks settled 21.12529467953417f of cbdc to household_4_0s at time 4d.\n",
      "household_3_1s paid 0.0f of cbdc to central_banks for household_4_0s at time 4d.\n",
      "central_banks settled 0.0f of cbdc to household_4_0s at time 4d.\n",
      "household_3_1s paid 1.8547648355857334 to bank_1 for household_4_0 at time 4.\n",
      "household_1_1s paid 6.081038885924187 to bank_1 for household_2_1 at time 4.\n",
      "household_5_1s paid 16.33607376287501 to bank_1 for household_3_1 at time 4.\n",
      "household_7_0s paid 1.0746434932311892f of cbdc to central_banks for household_1_1s at time 4d.\n",
      "central_banks settled 1.0746434932311892f of cbdc to household_1_1s at time 4d.\n",
      "household_7_0s paid 0.0f of cbdc to central_banks for household_1_1s at time 4d.\n",
      "central_banks settled 0.0f of cbdc to household_1_1s at time 4d.\n",
      "household_7_0s paid 6.2183525403839806 to bank_0 for household_1_1 at time 4.\n",
      "household_0_0s paid 21.095122907678824f of cbdc to central_banks for household_5_1s at time 4d.\n",
      "central_banks settled 21.095122907678824f of cbdc to household_5_1s at time 4d.\n",
      "household_2_1s paid 3.446965571171824f of cbdc to central_banks for household_4_0s at time 4d.\n",
      "central_banks settled 3.446965571171824f of cbdc to household_4_0s at time 4d.\n",
      "household_2_1s paid 0.0f of cbdc to central_banks for household_4_0s at time 4d.\n",
      "central_banks settled 0.0f of cbdc to household_4_0s at time 4d.\n",
      "household_2_1s paid 4.7205985053960875 to bank_1 for household_4_0 at time 4.\n",
      "household_6_0s paid 0.0 to bank_0 for household_0_0 at time 4.\n",
      "household_6_0s paid 2.8389860224034664f of cbdc to central_banks for household_0_0s at time 4d.\n",
      "central_banks settled 2.8389860224034664f of cbdc to household_0_0s at time 4d.\n",
      "household_4_0s paid 12.103525692317785f of cbdc to central_banks for household_1_1s at time 4d.\n",
      "central_banks settled 12.103525692317785f of cbdc to household_1_1s at time 4d.\n",
      "bank_1 settled payment of 4.311990137629932 to household_5_1 at time 4.\n",
      "central_bank RTGSed 4.311990137629932 of reserves to bank_1 at time 1d.\n",
      "bank_0s RTGSed reserves of 4.311990137629932f  to central_banks at time 4d.\n",
      "bank_1 settled payment of 6.675672914483743 to household_3_1 at time 4.\n",
      "central_bank RTGSed 6.675672914483743 of reserves to bank_1 at time 1d.\n",
      "bank_0s RTGSed reserves of 6.675672914483743f  to central_banks at time 4d.\n",
      "bank_1 settled payment of 8.029369825684395 to household_1_1 at time 4.\n",
      "central_bank RTGSed 8.029369825684395 of reserves to bank_1 at time 2d.\n",
      "bank_0s RTGSed reserves of 8.029369825684395f  to central_banks at time 4d.\n",
      "bank_1 settled payment of 2.9415565555851635 to household_1_1 at time 4.\n",
      "central_bank RTGSed 2.9415565555851635 of reserves to bank_1 at time 2d.\n",
      "bank_0s RTGSed reserves of 2.9415565555851635f  to central_banks at time 4d.\n",
      "bank_1 settled payment of 8.085334409805794 to household_5_1 at time 4.\n",
      "central_bank RTGSed 8.085334409805794 of reserves to bank_1 at time 3d.\n",
      "bank_0s RTGSed reserves of 8.085334409805794f  to central_banks at time 4d.\n",
      "bank_1 settled payment of 6.2183525403839806 to household_1_1 at time 4.\n",
      "central_bank RTGSed 6.2183525403839806 of reserves to bank_1 at time 4d.\n",
      "bank_0s RTGSed reserves of 6.2183525403839806f  to central_banks at time 4d.\n",
      "bank_0s transferred deposits of 0.0f to household_0_0s at time 4d.\n",
      "bank_0 settled payment of 0.6372159035767719 to household_7_0 at time 4.\n",
      "central_bank RTGSed 0.6372159035767719 of reserves to bank_0 at time 1d.\n",
      "bank_1s RTGSed reserves of 0.6372159035767719f  to central_banks at time 4d.\n",
      "bank_0 settled payment of 1.8547648355857334 to household_4_0 at time 4.\n",
      "central_bank RTGSed 1.8547648355857334 of reserves to bank_0 at time 4d.\n",
      "bank_1s RTGSed reserves of 1.8547648355857334f  to central_banks at time 4d.\n",
      "bank_1s transferred deposits of 6.081038885924187f to household_2_1s at time 4d.\n",
      "bank_1s transferred deposits of 16.33607376287501f to household_3_1s at time 4d.\n",
      "bank_0 settled payment of 4.7205985053960875 to household_4_0 at time 4.\n",
      "central_bank RTGSed 4.7205985053960875 of reserves to bank_0 at time 4d.\n",
      "bank_1s RTGSed reserves of 4.7205985053960875f  to central_banks at time 4d.\n",
      "measurements/test_output.xml\n",
      "household_3_1s paid 12.666134135219378 to bank_1 for household_1_1 at time 5.\n",
      "household_5_1s paid 13.569821322361353 to bank_1 for household_3_1 at time 5.\n",
      "household_5_1s paid 14.23177399399177f of cbdc to central_banks for household_3_1s at time 5d.\n",
      "central_banks settled 14.23177399399177f of cbdc to household_3_1s at time 5d.\n",
      "household_7_0s paid 0.0f of cbdc to central_banks for household_1_1s at time 5d.\n",
      "central_banks settled 0.0f of cbdc to household_1_1s at time 5d.\n",
      "household_7_0s paid 0.0f of cbdc to central_banks for household_1_1s at time 5d.\n",
      "central_banks settled 0.0f of cbdc to household_1_1s at time 5d.\n",
      "household_7_0s paid 3.959011644729784 to bank_0 for household_1_1 at time 5.\n",
      "household_0_0s paid 5.106698351986106f of cbdc to central_banks for household_1_1s at time 5d.\n",
      "central_banks settled 5.106698351986106f of cbdc to household_1_1s at time 5d.\n",
      "household_0_0s paid 0.0f of cbdc to central_banks for household_1_1s at time 5d.\n",
      "central_banks settled 0.0f of cbdc to household_1_1s at time 5d.\n",
      "household_0_0s paid 4.114451792320368 to bank_0 for household_1_1 at time 5.\n",
      "bank_1s transferred deposits of 12.666134135219378f to household_1_1s at time 5d.\n",
      "bank_1s transferred deposits of 13.569821322361353f to household_3_1s at time 5d.\n",
      "measurements/test_output.xml\n",
      "household_3_1s paid 14.23177399399177f of cbdc to central_banks for household_6_0s at time 6d.\n",
      "central_banks settled 14.23177399399177f of cbdc to household_6_0s at time 6d.\n",
      "household_3_1s paid 0.0f of cbdc to central_banks for household_6_0s at time 6d.\n",
      "central_banks settled 0.0f of cbdc to household_6_0s at time 6d.\n",
      "household_3_1s paid 17.949395100927372 to bank_1 for household_6_0 at time 6.\n",
      "household_5_1s paid 8.5502772943704f of cbdc to central_banks for household_4_0s at time 6d.\n",
      "central_banks settled 8.5502772943704f of cbdc to household_4_0s at time 6d.\n",
      "household_0_0s paid 0.0f of cbdc to central_banks for household_1_1s at time 6d.\n",
      "central_banks settled 0.0f of cbdc to household_1_1s at time 6d.\n",
      "household_0_0s paid 0.0f of cbdc to central_banks for household_1_1s at time 6d.\n",
      "central_banks settled 0.0f of cbdc to household_1_1s at time 6d.\n",
      "household_0_0s paid 1.4376412946597277 to bank_0 for household_1_1 at time 6.\n",
      "household_2_1s paid 9.310676486373904 to bank_1 for household_1_1 at time 6.\n",
      "household_6_0s paid 5.768800936531793f of cbdc to central_banks for household_5_1s at time 6d.\n",
      "central_banks settled 5.768800936531793f of cbdc to household_5_1s at time 6d.\n",
      "bank_1s transferred deposits of 9.310676486373904f to household_1_1s at time 6d.\n",
      "measurements/test_output.xml\n",
      "household_1_1s paid 18.181919829482755f of cbdc to central_banks for household_7_0s at time 7d.\n",
      "central_banks settled 18.181919829482755f of cbdc to household_7_0s at time 7d.\n",
      "household_7_0s paid 4.567016225154729f of cbdc to central_banks for household_1_1s at time 7d.\n",
      "central_banks settled 4.567016225154729f of cbdc to household_1_1s at time 7d.\n",
      "household_2_1s paid 0.0f of cbdc to central_banks for household_0_0s at time 7d.\n",
      "central_banks settled 0.0f of cbdc to household_0_0s at time 7d.\n",
      "household_2_1s paid 0.0f of cbdc to central_banks for household_0_0s at time 7d.\n",
      "central_banks settled 0.0f of cbdc to household_0_0s at time 7d.\n",
      "household_2_1s paid 1.8677522239977378 to bank_1 for household_0_0 at time 7.\n",
      "household_6_0s paid 12.350789937467683f of cbdc to central_banks for household_5_1s at time 7d.\n",
      "central_banks settled 12.350789937467683f of cbdc to household_5_1s at time 7d.\n",
      "measurements/test_output.xml\n",
      "household_1_1s paid 17.987673486756147 to bank_1 for household_2_1 at time 8.\n",
      "household_5_1s paid 20.197511499078818f of cbdc to central_banks for household_0_0s at time 8d.\n",
      "central_banks settled 20.197511499078818f of cbdc to household_0_0s at time 8d.\n",
      "household_7_0s paid 5.222139779359854f of cbdc to central_banks for household_3_1s at time 8d.\n",
      "central_banks settled 5.222139779359854f of cbdc to household_3_1s at time 8d.\n",
      "household_2_1s paid 0.0f of cbdc to central_banks for household_4_0s at time 8d.\n",
      "central_banks settled 0.0f of cbdc to household_4_0s at time 8d.\n",
      "household_2_1s paid 0.0f of cbdc to central_banks for household_4_0s at time 8d.\n",
      "central_banks settled 0.0f of cbdc to household_4_0s at time 8d.\n",
      "household_2_1s paid 1.7536499840722115 to bank_1 for household_4_0 at time 8.\n",
      "household_4_0s paid 21.01901185275861f of cbdc to central_banks for household_3_1s at time 8d.\n",
      "central_banks settled 21.01901185275861f of cbdc to household_3_1s at time 8d.\n",
      "household_4_0s paid 0.0f of cbdc to central_banks for household_3_1s at time 8d.\n",
      "central_banks settled 0.0f of cbdc to household_3_1s at time 8d.\n",
      "household_4_0s paid 0.07851955599553051 to bank_0 for household_3_1 at time 8.\n",
      "bank_1 settled payment of 3.959011644729784 to household_1_1 at time 8.\n",
      "central_bank RTGSed 3.959011644729784 of reserves to bank_1 at time 5d.\n",
      "bank_0s RTGSed reserves of 3.959011644729784f  to central_banks at time 8d.\n",
      "bank_1 settled payment of 4.114451792320368 to household_1_1 at time 8.\n",
      "central_bank RTGSed 4.114451792320368 of reserves to bank_1 at time 5d.\n",
      "bank_0s RTGSed reserves of 4.114451792320368f  to central_banks at time 8d.\n",
      "bank_1 settled payment of 1.4376412946597277 to household_1_1 at time 8.\n",
      "central_bank RTGSed 1.4376412946597277 of reserves to bank_1 at time 6d.\n",
      "bank_0s RTGSed reserves of 1.4376412946597277f  to central_banks at time 8d.\n",
      "bank_1 settled payment of 0.07851955599553051 to household_3_1 at time 8.\n",
      "central_bank RTGSed 0.07851955599553051 of reserves to bank_1 at time 8d.\n",
      "bank_0s RTGSed reserves of 0.07851955599553051f  to central_banks at time 8d.\n",
      "bank_0 settled payment of 17.949395100927372 to household_6_0 at time 8.\n",
      "central_bank RTGSed 17.949395100927372 of reserves to bank_0 at time 6d.\n",
      "bank_1s RTGSed reserves of 17.949395100927372f  to central_banks at time 8d.\n",
      "bank_0 settled payment of 1.8677522239977378 to household_0_0 at time 8.\n",
      "central_bank RTGSed 1.8677522239977378 of reserves to bank_0 at time 7d.\n",
      "bank_1s RTGSed reserves of 1.8677522239977378f  to central_banks at time 8d.\n",
      "bank_1s transferred deposits of 17.987673486756147f to household_2_1s at time 8d.\n",
      "bank_0 settled payment of 1.7536499840722115 to household_4_0 at time 8.\n",
      "central_bank RTGSed 1.7536499840722115 of reserves to bank_0 at time 8d.\n",
      "bank_1s RTGSed reserves of 1.7536499840722115f  to central_banks at time 8d.\n",
      "measurements/test_output.xml\n",
      "household_1_1s paid 8.721869662958314f of cbdc to central_banks for household_0_0s at time 9d.\n",
      "central_banks settled 8.721869662958314f of cbdc to household_0_0s at time 9d.\n",
      "household_1_1s paid 0.0f of cbdc to central_banks for household_0_0s at time 9d.\n",
      "central_banks settled 0.0f of cbdc to household_0_0s at time 9d.\n",
      "household_1_1s paid 15.723253417050879 to bank_1 for household_0_0 at time 9.\n",
      "household_5_1s paid 2.236550085010988f of cbdc to central_banks for household_4_0s at time 9d.\n",
      "central_banks settled 2.236550085010988f of cbdc to household_4_0s at time 9d.\n",
      "household_0_0s paid 14.766641613109146f of cbdc to central_banks for household_5_1s at time 9d.\n",
      "central_banks settled 14.766641613109146f of cbdc to household_5_1s at time 9d.\n",
      "household_6_0s paid 10.428846171562853 to bank_0 for household_7_0 at time 9.\n",
      "household_4_0s paid 10.559162955317932 to bank_0 for household_0_0 at time 9.\n",
      "bank_0s transferred deposits of 10.428846171562853f to household_7_0s at time 9d.\n",
      "bank_0s transferred deposits of 10.559162955317932f to household_0_0s at time 9d.\n"
     ]
    }
   ],
   "source": [
    "for i in range(int(environment.num_simulations)):\n",
    "    logging.info('  STARTED with run %s',  str(i))\n",
    "    environment.initialize(environment_directory,  identifier)\n",
    "    runner.initialize(environment)\n",
    "    \n",
    "    runner.do_run(environment)\n",
    "    logging.info('  DONE')"
   ]
  },
  {
   "cell_type": "code",
   "execution_count": 85,
   "metadata": {},
   "outputs": [],
   "source": [
    "import pandas as pd\n",
    "thesis_data = pd.read_csv('measurements/TestMeasurement.csv', index_col=0) "
   ]
  },
  {
   "cell_type": "code",
   "execution_count": 86,
   "metadata": {},
   "outputs": [
    {
     "name": "stdout",
     "output_type": "stream",
     "text": [
      "      Deposit Balance        B_0        B_1  B_2  B_3  B_4  Total_Payments  \\\n",
      "Step                                                                         \n",
      "1          113.979306  58.314087  55.665219  NaN  NaN  NaN        0.000000   \n",
      "2          102.354428  47.326424  55.028003  NaN  NaN  NaN       95.003835   \n",
      "3           91.383501  36.355498  55.028003  NaN  NaN  NaN      121.137922   \n",
      "\n",
      "      CBDC Balance  Batch Balance  CBDC_Payments  Deposits_Payments  \n",
      "Step                                                                 \n",
      "1        78.020694       0.000000       0.000000           0.000000  \n",
      "2        78.020694      11.624879      75.498239          19.505595  \n",
      "3        78.020694      22.595805      82.917128          38.220794  \n",
      "      Deposit Balance        B_0        B_1  B_2  B_3  B_4  Total_Payments  \\\n",
      "Step                                                                         \n",
      "7           86.518807  19.753285  66.765521  NaN  NaN  NaN      390.355531   \n",
      "8           84.651054  19.753285  64.897769  NaN  NaN  NaN      427.323009   \n",
      "9          113.979306  41.245563  72.733743  NaN  NaN  NaN      493.581515   \n",
      "10          98.256053  41.245563  57.010490  NaN  NaN  NaN      556.017839   \n",
      "\n",
      "      CBDC Balance  Batch Balance  CBDC_Payments  Deposits_Payments  \n",
      "Step                                                                 \n",
      "7        78.020694      27.460500     244.518489         145.837042  \n",
      "8        78.020694      29.328252     279.618215         147.704795  \n",
      "9        78.020694       0.000000     326.056878         167.524638  \n",
      "10       78.020694      15.723253     351.781939         204.235900  \n"
     ]
    }
   ],
   "source": [
    "print(thesis_data.head(3))\n",
    "print(thesis_data.tail(4))"
   ]
  },
  {
   "cell_type": "markdown",
   "metadata": {},
   "source": [
    "Check consistency of Households, Banks and Central Bank"
   ]
  },
  {
   "cell_type": "code",
   "execution_count": 87,
   "metadata": {},
   "outputs": [
    {
     "name": "stdout",
     "output_type": "stream",
     "text": [
      "True\n",
      "True\n",
      "True\n"
     ]
    }
   ],
   "source": [
    "bank = True\n",
    "for banks in environment.banks:\n",
    "    bank *= banks.check_consistency()\n",
    "if bank:\n",
    "    print(\"True\")\n",
    "else:\n",
    "    print(\"False\")\n",
    "\n",
    "house = True\n",
    "for houses in environment.banks:\n",
    "    house *= houses.check_consistency()\n",
    "if house:\n",
    "    print(\"True\")\n",
    "else:\n",
    "    print(\"False\")\n",
    "\n",
    "print(environment.central_bank[0].check_consistency())"
   ]
  },
  {
   "cell_type": "code",
   "execution_count": 88,
   "metadata": {},
   "outputs": [],
   "source": [
    "import matplotlib.pyplot as plt"
   ]
  },
  {
   "cell_type": "code",
   "execution_count": 89,
   "metadata": {},
   "outputs": [
    {
     "name": "stderr",
     "output_type": "stream",
     "text": [
      "/var/folders/nx/sfr0g06x255301jlc_nyn7c00000gn/T/ipykernel_786/666665751.py:4: FutureWarning: In a future version of pandas all arguments of DataFrame.drop except for the argument 'labels' will be keyword-only\n",
      "  ax.plot(thesis_data.index, thesis_data.drop([\"Total_Payments\", \"CBDC Balance\", \"Batch Balance\", \"CBDC_Payments\", \"Deposits_Payments\"], 1))\n"
     ]
    },
    {
     "data": {
      "image/png": "[encoded data removed]",
      "text/plain": [
       "<Figure size 720x432 with 1 Axes>"
      ]
     },
     "metadata": {
      "needs_background": "light"
     },
     "output_type": "display_data"
    }
   ],
   "source": [
    "%matplotlib inline\n",
    "fig, ax = plt.subplots(nrows=1, ncols=1, figsize=(10,6))\n",
    "\n",
    "ax.plot(thesis_data.index, thesis_data.drop([\"Total_Payments\", \"CBDC Balance\", \"Batch Balance\", \"CBDC_Payments\", \"Deposits_Payments\"], 1))\n",
    "ax.set_xlabel('Time', fontsize='14')\n",
    "ax.set_ylabel('Balance', fontsize='14')\n",
    "ax.legend(['Household Balance', 'B_0', 'B_1', 'B_2', 'B_3', 'B_4'])\n",
    "\n",
    "fig.savefig('deposit_balances.png')"
   ]
  },
  {
   "cell_type": "code",
   "execution_count": 90,
   "metadata": {},
   "outputs": [
    {
     "data": {
      "image/png": "[encoded data removed]",
      "text/plain": [
       "<Figure size 432x288 with 1 Axes>"
      ]
     },
     "metadata": {},
     "output_type": "display_data"
    }
   ],
   "source": [
    "import networkx as nx\n",
    "nx.draw_shell(environment.network)"
   ]
  },
  {
   "cell_type": "code",
   "execution_count": null,
   "metadata": {},
   "outputs": [],
   "source": []
  }
 ],
 "metadata": {
  "interpreter": {
   "hash": "d4806bff4a844a3c1d6cecab0e681fdf35ff66f2077edc5510564ef94e7176f8"
  },
  "kernelspec": {
   "display_name": "Python 2.7.16 64-bit ('venv': venv)",
   "name": "python3"
  },
  "language_info": {
   "codemirror_mode": {
    "name": "ipython",
    "version": 3
   },
   "file_extension": ".py",
   "mimetype": "text/x-python",
   "name": "python",
   "nbconvert_exporter": "python",
   "pygments_lexer": "ipython3",
   "version": "3.9.2"
  }
 },
 "nbformat": 4,
 "nbformat_minor": 2
}
