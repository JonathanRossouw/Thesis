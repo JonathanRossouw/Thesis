{
 "cells": [
  {
   "cell_type": "markdown",
   "source": [
    "# Thesis ABM model\n",
    "\n",
    "Network model between agents that creates stochastic payment shocks then settles payments. Agents are affliliated to a bank. If with the same bank, settlement occurs in period. If with different bank, payment occurs every fourth period due to \"batching\".\n",
    "\n",
    "## Configuring the model\n",
    "\n",
    "In the Black Rhino framework, parameters are stored in xml files. Using this notebook, you can set change them. First, you need to import the elementree from the xml Python module."
   ],
   "metadata": {}
  },
  {
   "cell_type": "code",
   "execution_count": 1,
   "source": [
    "import xml.etree.ElementTree as ET"
   ],
   "outputs": [],
   "metadata": {}
  },
  {
   "cell_type": "markdown",
   "source": [
    "Below you will find the parameter inputs for this model.  "
   ],
   "metadata": {}
  },
  {
   "cell_type": "code",
   "execution_count": 2,
   "source": [
    "parameter_values = (('num_sweeps', '8'),\n",
    "                    ('num_simulations', '1'),\n",
    "                    ('num_households', '8'),\n",
    "                    ('num_banks', '2'),\n",
    "                    ('batch', '4'),\n",
    "                    ('household_directory', 'agents/households'),\n",
    "                    ('bank_directory', 'agents/banks'),\n",
    "                    ('measurement_config', 'measurements/test_output.xml')\n",
    "                   )"
   ],
   "outputs": [],
   "metadata": {}
  },
  {
   "cell_type": "markdown",
   "source": [
    "To translate this to an xml document, which the framework can read, we first need create an ET element. "
   ],
   "metadata": {}
  },
  {
   "cell_type": "code",
   "execution_count": 3,
   "source": [
    "environment = ET.Element('environment')"
   ],
   "outputs": [],
   "metadata": {}
  },
  {
   "cell_type": "markdown",
   "source": [
    "And create parameter elements and give them the values seen below to add to the tree object."
   ],
   "metadata": {}
  },
  {
   "cell_type": "code",
   "execution_count": 4,
   "source": [
    "parameters = []\n",
    "for x in range(len(parameter_values)):\n",
    "    parameters.append(ET.SubElement(environment, 'parameter'))\n",
    "    \n",
    "for idx, p in enumerate(parameters):\n",
    "    p.set('type', 'static')\n",
    "    p.set('name', parameter_values[idx][0])\n",
    "    p.set('value', parameter_values[idx][1])"
   ],
   "outputs": [],
   "metadata": {}
  },
  {
   "cell_type": "markdown",
   "source": [
    "This object can now be transformed to a string and written to an xml file using the code below. "
   ],
   "metadata": {}
  },
  {
   "cell_type": "code",
   "execution_count": 5,
   "source": [
    "xml_params = ET.tostring(environment, encoding=\"UTF-8\")\n",
    "myfile = open(\"environments/solow_parameters.xml\", \"w\")\n",
    "myfile.write(xml_params)\n",
    "myfile.close()"
   ],
   "outputs": [],
   "metadata": {}
  },
  {
   "cell_type": "markdown",
   "source": [
    "Now, the parameter xml file has been generated and the model can be run. Before, running the model, you need to import a couple of extra modules. These are the Python logging module, the Black Rhino environment class, and the Black Rhino runner class."
   ],
   "metadata": {}
  },
  {
   "cell_type": "code",
   "execution_count": 6,
   "source": [
    "import logging\n",
    "import os\n",
    "from src.environment import Environment\n",
    "from src.runner import Runner"
   ],
   "outputs": [],
   "metadata": {}
  },
  {
   "cell_type": "markdown",
   "source": [
    "Then, before running the model, the logger needs to be initialized."
   ],
   "metadata": {}
  },
  {
   "cell_type": "code",
   "execution_count": 7,
   "source": [
    "log_directory = \"log/\"\n",
    "identifier = \"test_all_methods\"\n",
    "environment_directory = \"environments/\"\n",
    "if not os.path.exists('log'):\n",
    "    os.makedirs('log')\n",
    "logging.basicConfig(format='%(asctime)s %(message)s', datefmt='%m/%d/%Y %H:%M:%S',\n",
    "                    filename=log_directory + identifier + \".log\", level=logging.INFO)\n",
    "logging.info('START logging for run: %s',  environment_directory + identifier + \".xml\")"
   ],
   "outputs": [],
   "metadata": {}
  },
  {
   "cell_type": "markdown",
   "source": [
    "First, the environment will be initialized. It contains the model parameters and variables. The environment also contains a list of agents. In the Solow model, the environment contains one bank, one firm, and one household. Finally, it also contains initialized transactions for these agents."
   ],
   "metadata": {}
  },
  {
   "cell_type": "code",
   "execution_count": 8,
   "source": [
    "environment = Environment(environment_directory, identifier)"
   ],
   "outputs": [],
   "metadata": {}
  },
  {
   "cell_type": "markdown",
   "source": [
    "Next up, the runner object is created. As the name suggests, the runner object handles the running of the model. But that is not all, it also initializes the updater."
   ],
   "metadata": {}
  },
  {
   "cell_type": "code",
   "execution_count": 9,
   "source": [
    "runner = Runner(environment)"
   ],
   "outputs": [],
   "metadata": {}
  },
  {
   "cell_type": "markdown",
   "source": [
    "Now you can actually run the model. Since the agent-based model is simulated using Monte Carlo methods. This means that the model will be run multiple times (num_simulations). For every simulation run, the environment and runner will be (re-)initialized. Then, the runner will run the Solow model. During the run, the runner will write data about capital to a csv file specified within the Measurement class and print out all the transactions happening and the books of firm and household at the end of each sweep."
   ],
   "metadata": {}
  },
  {
   "cell_type": "code",
   "execution_count": 10,
   "source": [
    "for i in range(int(environment.num_simulations)):\n",
    "    logging.info('  STARTED with run %s',  str(i))\n",
    "    environment.initialize(environment_directory,  identifier)\n",
    "    runner.initialize(environment)\n",
    "    \n",
    "    runner.do_run(environment)\n",
    "    logging.info('  DONE')"
   ],
   "outputs": [
    {
     "output_type": "stream",
     "name": "stdout",
     "text": [
      "measurements/test_output.xml\n",
      "household_1_1s balance is 24.0f\n",
      "household_1_1s balance is 20.0f\n",
      "household_1_1s paid 4.0f to bank_1s for household_2_1s at time 0d.\n",
      "household_2_2s balance is 24.0f\n",
      "household_2_2s balance is 21.0f\n",
      "household_2_2s paid 3.0f to bank_2s for household_2_1s at time 0d.\n",
      "2\n",
      "1\n",
      "bank_1s balance is 4.0f\n",
      "bank_1s balance is 0.0f\n",
      "bank_1s batch settled payment of 4.0f to household_2_1s at time 0d.\n",
      "2\n",
      "bank_2s balance is 3.0f\n",
      "bank_2s balance is 0.0f\n",
      "bank_2s settled payment of 3.0f to household_2_1s at time 0d.\n",
      "0\n",
      "measurements/test_output.xml\n",
      "household_1_1s balance is 20.0f\n",
      "household_1_1s balance is 14.0f\n",
      "household_1_1s paid 6.0f to bank_1s for household_1_2s at time 1d.\n",
      "household_1_2s balance is 24.0f\n",
      "household_1_2s balance is 22.0f\n",
      "household_1_2s paid 2.0f to bank_1s for household_2_2s at time 1d.\n",
      "2\n",
      "1\n",
      "bank_1s balance is 8.0f\n",
      "bank_1s balance is 2.0f\n",
      "bank_1s settled payment of 6.0f to household_1_2s at time 1d.\n",
      "2\n",
      "1\n",
      "measurements/test_output.xml\n",
      "household_1_1s balance is 14.0f\n",
      "household_1_1s balance is 12.0f\n",
      "household_1_1s paid 2.0f to bank_1s for household_2_1s at time 2d.\n",
      "household_2_2s balance is 21.0f\n",
      "household_2_2s balance is 15.0f\n",
      "household_2_2s paid 6.0f to bank_2s for household_1_1s at time 2d.\n",
      "3\n",
      "1\n",
      "2\n",
      "3\n",
      "3\n",
      "measurements/test_output.xml\n",
      "household_2_1s balance is 31.0f\n",
      "household_2_1s balance is 27.0f\n",
      "household_2_1s paid 4.0f to bank_2s for household_2_2s at time 3d.\n",
      "household_1_2s balance is 28.0f\n",
      "household_1_2s balance is 20.0f\n",
      "household_1_2s paid 8.0f to bank_1s for household_2_2s at time 3d.\n",
      "5\n",
      "1\n",
      "2\n",
      "3\n",
      "4\n",
      "bank_2s balance is 10.0f\n",
      "bank_2s balance is 6.0f\n",
      "bank_2s settled payment of 4.0f to household_2_2s at time 3d.\n",
      "5\n",
      "4\n",
      "measurements/test_output.xml\n",
      "household_2_2s balance is 19.0f\n",
      "household_2_2s balance is 15.0f\n",
      "household_2_2s paid 4.0f to bank_2s for household_1_1s at time 4d.\n",
      "household_1_1s balance is 12.0f\n",
      "household_1_1s balance is 10.0f\n",
      "household_1_1s paid 2.0f to bank_1s for household_1_2s at time 4d.\n",
      "6\n",
      "1\n",
      "bank_1s balance is 14.0f\n",
      "bank_1s balance is 12.0f\n",
      "bank_1s batch settled payment of 2.0f to household_2_2s at time 4d.\n",
      "2\n",
      "bank_1s balance is 12.0f\n",
      "bank_1s balance is 10.0f\n",
      "bank_1s batch settled payment of 2.0f to household_2_1s at time 4d.\n",
      "3\n",
      "bank_2s balance is 10.0f\n",
      "bank_2s balance is 4.0f\n",
      "bank_2s batch settled payment of 6.0f to household_1_1s at time 4d.\n",
      "4\n",
      "bank_1s balance is 10.0f\n",
      "bank_1s balance is 2.0f\n",
      "bank_1s batch settled payment of 8.0f to household_2_2s at time 4d.\n",
      "5\n",
      "bank_2s balance is 4.0f\n",
      "bank_2s balance is 0.0f\n",
      "bank_2s batch settled payment of 4.0f to household_1_1s at time 4d.\n",
      "6\n",
      "bank_1s balance is 2.0f\n",
      "bank_1s balance is 0.0f\n",
      "bank_1s settled payment of 2.0f to household_1_2s at time 4d.\n",
      "0\n",
      "measurements/test_output.xml\n",
      "household_2_1s balance is 29.0f\n",
      "household_2_1s balance is 22.0f\n",
      "household_2_1s paid 7.0f to bank_2s for household_2_2s at time 5d.\n",
      "household_1_2s balance is 22.0f\n",
      "household_1_2s balance is 19.0f\n",
      "household_1_2s paid 3.0f to bank_1s for household_2_2s at time 5d.\n",
      "2\n",
      "1\n",
      "bank_2s balance is 7.0f\n",
      "bank_2s balance is 0.0f\n",
      "bank_2s settled payment of 7.0f to household_2_2s at time 5d.\n",
      "2\n",
      "1\n",
      "measurements/test_output.xml\n",
      "household_1_2s balance is 19.0f\n",
      "household_1_2s balance is 16.0f\n",
      "household_1_2s paid 3.0f to bank_1s for household_2_1s at time 6d.\n",
      "household_1_1s balance is 20.0f\n",
      "household_1_1s balance is 15.0f\n",
      "household_1_1s paid 5.0f to bank_1s for household_2_1s at time 6d.\n",
      "3\n",
      "1\n",
      "2\n",
      "3\n",
      "3\n",
      "measurements/test_output.xml\n",
      "household_1_2s balance is 16.0f\n",
      "household_1_2s balance is 13.0f\n",
      "household_1_2s paid 3.0f to bank_1s for household_1_1s at time 7d.\n",
      "household_2_2s balance is 32.0f\n",
      "household_2_2s balance is 29.0f\n",
      "household_2_2s paid 3.0f to bank_2s for household_1_1s at time 7d.\n",
      "5\n",
      "1\n",
      "2\n",
      "3\n",
      "4\n",
      "bank_1s balance is 14.0f\n",
      "bank_1s balance is 11.0f\n",
      "bank_1s settled payment of 3.0f to household_1_1s at time 7d.\n",
      "5\n",
      "4\n",
      "measurements/test_output.xml\n",
      "household_2_1s balance is 22.0f\n",
      "household_2_1s balance is 20.0f\n",
      "household_2_1s paid 2.0f to bank_2s for household_1_1s at time 8d.\n",
      "household_1_2s balance is 13.0f\n",
      "household_1_2s balance is 12.0f\n",
      "household_1_2s paid 1.0f to bank_1s for household_2_2s at time 8d.\n",
      "6\n",
      "1\n",
      "bank_1s balance is 12.0f\n",
      "bank_1s balance is 9.0f\n",
      "bank_1s batch settled payment of 3.0f to household_2_2s at time 8d.\n",
      "2\n",
      "bank_1s balance is 9.0f\n",
      "bank_1s balance is 6.0f\n",
      "bank_1s batch settled payment of 3.0f to household_2_1s at time 8d.\n",
      "3\n",
      "bank_1s balance is 6.0f\n",
      "bank_1s balance is 1.0f\n",
      "bank_1s batch settled payment of 5.0f to household_2_1s at time 8d.\n",
      "4\n",
      "bank_2s balance is 5.0f\n",
      "bank_2s balance is 2.0f\n",
      "bank_2s batch settled payment of 3.0f to household_1_1s at time 8d.\n",
      "5\n",
      "bank_2s balance is 2.0f\n",
      "bank_2s balance is 0.0f\n",
      "bank_2s batch settled payment of 2.0f to household_1_1s at time 8d.\n",
      "6\n",
      "bank_1s balance is 1.0f\n",
      "bank_1s balance is 0.0f\n",
      "bank_1s batch settled payment of 1.0f to household_2_2s at time 8d.\n",
      "0\n"
     ]
    }
   ],
   "metadata": {
    "tags": []
   }
  },
  {
   "cell_type": "code",
   "execution_count": 11,
   "source": [
    "import pandas as pd\n",
    "thesis_data = pd.read_csv('measurements/TestMeasurement.csv', index_col=0) "
   ],
   "outputs": [],
   "metadata": {}
  },
  {
   "cell_type": "code",
   "execution_count": 17,
   "source": [
    "print(thesis_data.head())\n",
    "print(thesis_data.tail())"
   ],
   "outputs": [
    {
     "output_type": "stream",
     "name": "stdout",
     "text": [
      "      Balance  H_1_1  H_1_2  H_2_1  H_2_2  Balance_bank\n",
      "Step                                                   \n",
      "1        96.0   24.0   20.0   21.0   31.0           0.0\n",
      "2        94.0   28.0   14.0   21.0   31.0           2.0\n",
      "3        86.0   28.0   12.0   15.0   31.0          10.0\n",
      "4        78.0   20.0   12.0   19.0   27.0          18.0\n",
      "5        96.0   22.0   20.0   25.0   29.0           0.0\n",
      "      Balance  H_1_1  H_1_2  H_2_1  H_2_2  Balance_bank\n",
      "Step                                                   \n",
      "5        96.0   22.0   20.0   25.0   29.0           0.0\n",
      "6        93.0   19.0   20.0   32.0   22.0           3.0\n",
      "7        85.0   16.0   15.0   32.0   22.0          11.0\n",
      "8        82.0   13.0   18.0   29.0   22.0          14.0\n",
      "9        96.0   12.0   23.0   33.0   28.0           0.0\n"
     ]
    }
   ],
   "metadata": {}
  },
  {
   "cell_type": "code",
   "execution_count": 13,
   "source": [
    "import matplotlib.pyplot as plt"
   ],
   "outputs": [],
   "metadata": {}
  },
  {
   "cell_type": "code",
   "execution_count": 14,
   "source": [
    "fig, ax = plt.subplots(nrows=1, ncols=1, figsize=(10,6))\n",
    "\n",
    "ax.plot(thesis_data.index, thesis_data)\n",
    "ax.set_xlabel('Time', fontsize='14')\n",
    "ax.set_ylabel('Deposits', fontsize='14')\n",
    "ax.legend(['Balance', 'H_1_1',  'H_1_2', 'H_2_1', 'H_2_2', 'Bank_Balance'])\n",
    "\n",
    "fig.savefig('solow_capital.png')"
   ],
   "outputs": [
    {
     "output_type": "display_data",
     "data": {
      "image/png": "[encoded data removed]",
      "text/plain": [
       "<Figure size 720x432 with 1 Axes>"
      ]
     },
     "metadata": {
      "needs_background": "light"
     }
    }
   ],
   "metadata": {}
  }
 ],
 "metadata": {
  "orig_nbformat": 4,
  "language_info": {
   "mimetype": "text/x-python",
   "nbconvert_exporter": "python",
   "name": "python",
   "pygments_lexer": "ipython2",
   "version": "2.7.16",
   "file_extension": ".py",
   "codemirror_mode": {
    "version": 2,
    "name": "ipython"
   }
  },
  "kernelspec": {
   "name": "python3",
   "display_name": "Python 2.7.16 64-bit ('venv': venv)"
  },
  "interpreter": {
   "hash": "a93b582a2cbe3857b39d21af75f8f4467167a7955a698dbe5c73853c48b1d502"
  }
 },
 "nbformat": 4,
 "nbformat_minor": 2
}