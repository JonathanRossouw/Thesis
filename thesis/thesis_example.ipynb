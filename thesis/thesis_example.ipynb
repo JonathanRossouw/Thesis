{
 "cells": [
  {
   "cell_type": "markdown",
   "metadata": {},
   "source": [
    "# Thesis ABM model\n",
    "\n",
    "Network model between agents that creates stochastic payment shocks then settles payments. Agents are affliliated to a bank. If with the same bank, settlement occurs in period. If with different bank, payment occurs every fourth period due to \"batching\".\n",
    "\n",
    "## Configuring the model\n",
    "\n",
    "In the Black Rhino framework, parameters are stored in xml files. Using this notebook, you can set change them. First, you need to import the elementree from the xml Python module."
   ]
  },
  {
   "cell_type": "code",
   "execution_count": 20,
   "metadata": {},
   "outputs": [],
   "source": [
    "import xml.etree.ElementTree as ET"
   ]
  },
  {
   "cell_type": "markdown",
   "metadata": {},
   "source": [
    "Below you will find the parameter inputs for this model. Change the parameter values for different configurations of the model."
   ]
  },
  {
   "cell_type": "code",
   "execution_count": 21,
   "metadata": {},
   "outputs": [],
   "source": [
    "parameter_values = (('num_sweeps', '10'),\n",
    "                    ('num_simulations', '1'),\n",
    "                    ('num_households', '8'),\n",
    "                    ('num_banks', '2'),\n",
    "                    ('batch', '4'),\n",
    "                    ('household_directory', 'agents/gen_households/'),\n",
    "                    ('bank_directory', 'agents/gen_banks/'),\n",
    "                    ('central_bank_directory', 'agents/central_bank/'),\n",
    "                    ('measurement_config', 'measurements/test_output.xml')\n",
    "                   )"
   ]
  },
  {
   "cell_type": "markdown",
   "metadata": {},
   "source": [
    "To translate this to an xml document, which the framework can read, we first need create an ET element. "
   ]
  },
  {
   "cell_type": "code",
   "execution_count": 22,
   "metadata": {},
   "outputs": [],
   "source": [
    "environment = ET.Element('environment', identifier = \"CBDC_parameters\")"
   ]
  },
  {
   "cell_type": "markdown",
   "metadata": {},
   "source": [
    "And create parameter elements and give them the values seen below to add to the tree object."
   ]
  },
  {
   "cell_type": "code",
   "execution_count": 23,
   "metadata": {},
   "outputs": [],
   "source": [
    "parameters = []\n",
    "for x in range(len(parameter_values)):\n",
    "    parameters.append(ET.SubElement(environment, 'parameter'))\n",
    "    \n",
    "for idx, p in enumerate(parameters):\n",
    "    p.set('type', 'static')\n",
    "    p.set('name', parameter_values[idx][0])\n",
    "    p.set('value', parameter_values[idx][1])"
   ]
  },
  {
   "cell_type": "markdown",
   "metadata": {},
   "source": [
    "This object can now be transformed to a string and written to an xml file using the code below. "
   ]
  },
  {
   "cell_type": "code",
   "execution_count": 24,
   "metadata": {},
   "outputs": [],
   "source": [
    "xml_params = ET.tostring(environment, encoding=\"UTF-8\")\n",
    "myfile = open(\"environments/CBDC_parameters.xml\", \"w\")\n",
    "myfile.write(xml_params)\n",
    "myfile.close()"
   ]
  },
  {
   "cell_type": "markdown",
   "metadata": {},
   "source": [
    "Now, the parameter xml file has been generated and the model can be run. Before, running the model, you need to import a couple of extra modules. These are the Python logging module, the Black Rhino environment class, and the Black Rhino runner class."
   ]
  },
  {
   "cell_type": "code",
   "execution_count": 25,
   "metadata": {},
   "outputs": [],
   "source": [
    "import logging\n",
    "import os\n",
    "from src.environment import Environment\n",
    "from src.runner import Runner"
   ]
  },
  {
   "cell_type": "markdown",
   "metadata": {},
   "source": [
    "Then, before running the model, the logger needs to be initialized."
   ]
  },
  {
   "cell_type": "code",
   "execution_count": 26,
   "metadata": {},
   "outputs": [],
   "source": [
    "log_directory = \"log/\"\n",
    "identifier = \"/CBDC_parameters\"\n",
    "environment_directory = \"environments/\"\n",
    "if not os.path.exists('log'):\n",
    "    os.makedirs('log')\n",
    "logging.basicConfig(format='%(asctime)s %(message)s', datefmt='%m/%d/%Y %H:%M:%S',\n",
    "                    filename=log_directory + identifier + \".log\", level=logging.INFO)\n",
    "logging.info('START logging for run: %s',  environment_directory + identifier + \".xml\")"
   ]
  },
  {
   "cell_type": "markdown",
   "metadata": {},
   "source": [
    "Generate banks and households using the generate agents class. First remove any agents still in directories. Then generate agents, the number of households and banks needs to be specified. In the generate banks method, the number of banks is the second argument. In the generate households method, the number of households it the second argument and the number of banks is the thrid argument."
   ]
  },
  {
   "cell_type": "code",
   "execution_count": 27,
   "metadata": {},
   "outputs": [],
   "source": [
    "import os\n",
    "remove = True\n",
    "\n",
    "bank_dir = os.getcwd()+'/agents/gen_banks/'\n",
    "house_dir = os.getcwd()+'/agents/gen_households/'\n",
    "if remove:\n",
    "    bank_list = [ f for f in os.listdir(bank_dir) if f.startswith(\"bank\") ]\n",
    "    house_list = [ f for f in os.listdir(house_dir) if f.startswith(\"house\") ]\n",
    "for f in bank_list:\n",
    "    os.remove(os.path.join(bank_dir, f))\n",
    "for f in house_list:\n",
    "    os.remove(os.path.join(house_dir, f))\n"
   ]
  },
  {
   "cell_type": "code",
   "execution_count": 28,
   "metadata": {},
   "outputs": [],
   "source": [
    "from src.br_generate_agents import Generate_Agents\n",
    "gen_agents = Generate_Agents()\n",
    "\n",
    "gen_agents.generate_households(parameter_values[2][1], parameter_values[3][1], \"./agents/gen_households/\")\n",
    "\n",
    "gen_agents.generate_banks(parameter_values[3][1], \"./agents/gen_banks/\")"
   ]
  },
  {
   "cell_type": "markdown",
   "metadata": {},
   "source": [
    "First, the environment will be initialized. It contains the model parameters and variables. The environment also contains a list of agents. In the Solow model, the environment contains one bank, one firm, and one household. Finally, it also contains initialized transactions for these agents."
   ]
  },
  {
   "cell_type": "code",
   "execution_count": 29,
   "metadata": {},
   "outputs": [],
   "source": [
    "environment = Environment(environment_directory, identifier)"
   ]
  },
  {
   "cell_type": "markdown",
   "metadata": {},
   "source": [
    "Next up, the runner object is created. As the name suggests, the runner object handles the running of the model. But that is not all, it also initializes the updater."
   ]
  },
  {
   "cell_type": "code",
   "execution_count": 30,
   "metadata": {},
   "outputs": [],
   "source": [
    "runner = Runner(environment)"
   ]
  },
  {
   "cell_type": "markdown",
   "metadata": {},
   "source": [
    "Now you can actually run the model. Since the agent-based model is simulated using Monte Carlo methods. This means that the model will be run multiple times (num_simulations). For every simulation run, the environment and runner will be (re-)initialized. Then, the runner will run the Solow model. During the run, the runner will write data about capital to a csv file specified within the Measurement class and print out all the transactions happening and the books of firm and household at the end of each sweep."
   ]
  },
  {
   "cell_type": "code",
   "execution_count": 31,
   "metadata": {
    "tags": []
   },
   "outputs": [
    {
     "name": "stdout",
     "output_type": "stream",
     "text": [
      "measurements/test_output.xml\n",
      "bank_0 has 48.0 reserves, and 48.0 Open Market Transactions\n",
      "bank_1 has 48.0 reserves, and 48.0 Open Market Transactions\n",
      "CBDC settlement of household_3_1 to 5.35849034265 complete\n",
      "Bank Notes settlement of household_3_1 to 0.0 complete\n",
      "household_3_1 chose 18.6415096573 deposits, 5.35849034265 cbdc, and 0.0 bank_notes\n",
      "CBDC settlement of household_1_0 to 9.02969404463 complete\n",
      "Bank Notes settlement of household_1_0 to 0.0 complete\n",
      "household_1_0 chose 14.9703059554 deposits, 9.02969404463 cbdc, and 0.0 bank_notes\n",
      "CBDC settlement of household_5_0 to 7.22405045796 complete\n",
      "Bank Notes settlement of household_5_0 to 0.0 complete\n",
      "household_5_0 chose 16.775949542 deposits, 7.22405045796 cbdc, and 0.0 bank_notes\n",
      "CBDC settlement of household_7_0 to 12.9680622453 complete\n",
      "Bank Notes settlement of household_7_0 to 0.0 complete\n",
      "household_7_0 chose 11.0319377547 deposits, 12.9680622453 cbdc, and 0.0 bank_notes\n",
      "CBDC settlement of household_0_0 to 6.64803780485 complete\n",
      "Bank Notes settlement of household_0_0 to 0.0 complete\n",
      "household_0_0 chose 17.3519621951 deposits, 6.64803780485 cbdc, and 0.0 bank_notes\n",
      "CBDC settlement of household_2_0 to 13.3415338314 complete\n",
      "Bank Notes settlement of household_2_0 to 0.0 complete\n",
      "household_2_0 chose 10.6584661686 deposits, 13.3415338314 cbdc, and 0.0 bank_notes\n",
      "CBDC settlement of household_6_1 to 7.10321090684 complete\n",
      "Bank Notes settlement of household_6_1 to 0.0 complete\n",
      "household_6_1 chose 16.8967890932 deposits, 7.10321090684 cbdc, and 0.0 bank_notes\n",
      "CBDC settlement of household_4_1 to 9.89865386342 complete\n",
      "Bank Notes settlement of household_4_1 to 0.0 complete\n",
      "household_4_1 chose 14.1013461366 deposits, 9.89865386342 cbdc, and 0.0 bank_notes\n",
      "measurements/test_output.xml\n",
      "household_3_1s paid 5.35849034265f of cbdc to central_banks for household_1_0s at time 1d.\n",
      "central_banks settled 5.35849034265f of cbdc to household_1_0s at time household_1_0d.\n",
      "household_3_1s paid 0.0f of cbdc to central_banks for household_1_0s at time 1d.\n",
      "central_banks settled 0.0f of cbdc to household_1_0s at time household_1_0d.\n",
      "household_3_1s paid 10.8858971259f to bank_1s for household_1_0s at time 1d.\n",
      "household_5_0s paid 7.22405045796f of cbdc to central_banks for household_6_1s at time 1d.\n",
      "central_banks settled 7.22405045796f of cbdc to household_6_1s at time household_6_1d.\n",
      "household_5_0s paid 0.0f of cbdc to central_banks for household_6_1s at time 1d.\n",
      "central_banks settled 0.0f of cbdc to household_6_1s at time household_6_1d.\n",
      "household_5_0s paid 0.857587091892f to bank_0s for household_6_1s at time 1d.\n",
      "household_7_0s paid 11.0319377547f to bank_0s for household_0_0s at time 1d.\n",
      "household_7_0s paid 2.05431089585f of cbdc to central_banks for household_0_0s at time 1d.\n",
      "central_banks settled 2.05431089585f of cbdc to household_0_0s at time household_0_0d.\n",
      "household_2_0s paid 10.9320728563f of cbdc to central_banks for household_6_1s at time 1d.\n",
      "central_banks settled 10.9320728563f of cbdc to household_6_1s at time household_6_1d.\n",
      "household_6_1s paid 10.626013991f of cbdc to central_banks for household_7_0s at time 1d.\n",
      "central_banks settled 10.626013991f of cbdc to household_7_0s at time household_7_0d.\n",
      "bank_0s transferred deposits of 11.0319377547f to household_0_0s at time 1d.\n",
      "measurements/test_output.xml\n",
      "household_1_0s paid 13.4493131753f to bank_0s for household_5_0s at time 2d.\n",
      "household_7_0s paid 0.0f to bank_0s for household_0_0s at time 2d.\n",
      "household_7_0s paid 9.20111923157f of cbdc to central_banks for household_0_0s at time 2d.\n",
      "central_banks settled 9.20111923157f of cbdc to household_0_0s at time household_0_0d.\n",
      "household_6_1s paid 14.6333202301f of cbdc to central_banks for household_2_0s at time 2d.\n",
      "central_banks settled 14.6333202301f of cbdc to household_2_0s at time household_2_0d.\n",
      "household_6_1s paid 0.0f of cbdc to central_banks for household_2_0s at time 2d.\n",
      "central_banks settled 0.0f of cbdc to household_2_0s at time household_2_0d.\n",
      "household_6_1s paid 4.85813863129f to bank_1s for household_2_0s at time 2d.\n",
      "bank_0s transferred deposits of 13.4493131753f to household_5_0s at time 2d.\n",
      "bank_0s transferred deposits of 0.0f to household_0_0s at time 2d.\n",
      "measurements/test_output.xml\n",
      "household_1_0s paid 6.77284098523f of cbdc to central_banks for household_4_1s at time 3d.\n",
      "central_banks settled 6.77284098523f of cbdc to household_4_1s at time household_4_1d.\n",
      "household_5_0s paid 0.0f of cbdc to central_banks for household_4_1s at time 3d.\n",
      "central_banks settled 0.0f of cbdc to household_4_1s at time household_4_1d.\n",
      "household_5_0s paid 0.0f of cbdc to central_banks for household_4_1s at time 3d.\n",
      "central_banks settled 0.0f of cbdc to household_4_1s at time household_4_1d.\n",
      "household_5_0s paid 13.9773638301f to bank_0s for household_4_1s at time 3d.\n",
      "household_7_0s paid 0.0f to bank_0s for household_0_0s at time 3d.\n",
      "household_7_0s paid 6.9931947636f of cbdc to central_banks for household_0_0s at time 3d.\n",
      "central_banks settled 6.9931947636f of cbdc to household_0_0s at time household_0_0d.\n",
      "household_0_0s paid 22.2878899597f to bank_0s for household_7_0s at time 3d.\n",
      "household_6_1s paid 6.45549635467f to bank_1s for household_4_1s at time 3d.\n",
      "bank_0s transferred deposits of 0.0f to household_0_0s at time 3d.\n",
      "bank_0s transferred deposits of 22.2878899597f to household_7_0s at time 3d.\n",
      "bank_1s transferred deposits of 6.45549635467f to household_4_1s at time 3d.\n",
      "measurements/test_output.xml\n",
      "household_5_0s paid 10.6959566611f to bank_0s for household_2_0s at time 4d.\n",
      "household_2_0s paid 10.6584661686f to bank_0s for household_1_0s at time 4d.\n",
      "household_2_0s paid 6.84534548028f of cbdc to central_banks for household_1_0s at time 4d.\n",
      "central_banks settled 6.84534548028f of cbdc to household_1_0s at time household_1_0d.\n",
      "household_6_1s paid 0.0f of cbdc to central_banks for household_7_0s at time 4d.\n",
      "central_banks settled 0.0f of cbdc to household_7_0s at time household_7_0d.\n",
      "household_6_1s paid 0.0f of cbdc to central_banks for household_7_0s at time 4d.\n",
      "central_banks settled 0.0f of cbdc to household_7_0s at time household_7_0d.\n",
      "household_6_1s paid 3.54989693401f to bank_1s for household_7_0s at time 4d.\n",
      "household_4_1s paid 7.59832393415f of cbdc to central_banks for household_2_0s at time 4d.\n",
      "central_banks settled 7.59832393415f of cbdc to household_2_0s at time household_2_0d.\n",
      "bank_1s settled payment of 0.857587091892f to household_6_1s at time 4d.\n",
      "central_bank RTGSed 0.857587091892 of reserves to bank_1 at time 1d.\n",
      "bank_0s RTGSed reserves of 0.857587091892f  to central_banks at time 4d.\n",
      "bank_1s settled payment of 13.9773638301f to household_4_1s at time 4d.\n",
      "central_bank RTGSed 13.9773638301 of reserves to bank_1 at time 3d.\n",
      "bank_0s RTGSed reserves of 13.9773638301f  to central_banks at time 4d.\n",
      "bank_0s transferred deposits of 10.6959566611f to household_2_0s at time 4d.\n",
      "bank_0s transferred deposits of 10.6584661686f to household_1_0s at time 4d.\n",
      "bank_0s settled payment of 10.8858971259f to household_1_0s at time 4d.\n",
      "central_bank RTGSed 10.8858971259 of reserves to bank_0 at time 1d.\n",
      "bank_1s RTGSed reserves of 10.8858971259f  to central_banks at time 4d.\n",
      "bank_0s settled payment of 4.85813863129f to household_2_0s at time 4d.\n",
      "central_bank RTGSed 4.85813863129 of reserves to bank_0 at time 2d.\n",
      "bank_1s RTGSed reserves of 4.85813863129f  to central_banks at time 4d.\n",
      "bank_0s settled payment of 3.54989693401f to household_7_0s at time 4d.\n",
      "central_bank RTGSed 3.54989693401 of reserves to bank_0 at time 4d.\n",
      "bank_1s RTGSed reserves of 3.54989693401f  to central_banks at time 4d.\n",
      "measurements/test_output.xml\n",
      "household_7_0s paid 13.3041135505f to bank_0s for household_1_0s at time 5d.\n",
      "household_0_0s paid 6.66234228533f of cbdc to central_banks for household_4_1s at time 5d.\n",
      "central_banks settled 6.66234228533f of cbdc to household_4_1s at time household_4_1d.\n",
      "household_2_0s paid 14.3159012753f to bank_0s for household_1_0s at time 5d.\n",
      "household_6_1s paid 0.0f of cbdc to central_banks for household_1_0s at time 5d.\n",
      "central_banks settled 0.0f of cbdc to household_1_0s at time household_1_0d.\n",
      "household_6_1s paid 0.0f of cbdc to central_banks for household_1_0s at time 5d.\n",
      "central_banks settled 0.0f of cbdc to household_1_0s at time household_1_0d.\n",
      "household_6_1s paid 0.967442593134f to bank_1s for household_1_0s at time 5d.\n",
      "household_4_1s paid 15.7355131998f of cbdc to central_banks for household_2_0s at time 5d.\n",
      "central_banks settled 15.7355131998f of cbdc to household_2_0s at time household_2_0d.\n",
      "household_4_1s paid 0.0f of cbdc to central_banks for household_2_0s at time 5d.\n",
      "central_banks settled 0.0f of cbdc to household_2_0s at time household_2_0d.\n",
      "household_4_1s paid 9.54185636519f to bank_1s for household_2_0s at time 5d.\n",
      "bank_0s transferred deposits of 13.3041135505f to household_1_0s at time 5d.\n",
      "bank_0s transferred deposits of 14.3159012753f to household_1_0s at time 5d.\n",
      "measurements/test_output.xml\n",
      "household_3_1s paid 4.88842686349f to bank_1s for household_6_1s at time 6d.\n",
      "household_5_0s paid 0.0f of cbdc to central_banks for household_4_1s at time 6d.\n",
      "central_banks settled 0.0f of cbdc to household_4_1s at time household_4_1d.\n",
      "household_5_0s paid 0.0f of cbdc to central_banks for household_4_1s at time 6d.\n",
      "central_banks settled 0.0f of cbdc to household_4_1s at time household_4_1d.\n",
      "household_5_0s paid 2.275658523f to bank_0s for household_4_1s at time 6d.\n",
      "household_7_0s paid 5.34545134529f of cbdc to central_banks for household_4_1s at time 6d.\n",
      "central_banks settled 5.34545134529f of cbdc to household_4_1s at time household_4_1d.\n",
      "household_7_0s paid 0.0f of cbdc to central_banks for household_4_1s at time 6d.\n",
      "central_banks settled 0.0f of cbdc to household_4_1s at time household_4_1d.\n",
      "household_7_0s paid 2.18685709613f to bank_0s for household_4_1s at time 6d.\n",
      "household_0_0s paid 6.09600999015f to bank_0s for household_1_0s at time 6d.\n",
      "household_0_0s paid 6.83462808711f of cbdc to central_banks for household_1_0s at time 6d.\n",
      "central_banks settled 6.83462808711f of cbdc to household_1_0s at time household_1_0d.\n",
      "household_2_0s paid 19.4169722558f of cbdc to central_banks for household_6_1s at time 6d.\n",
      "central_banks settled 19.4169722558f of cbdc to household_6_1s at time household_6_1d.\n",
      "household_4_1s paid 5.34545134529f of cbdc to central_banks for household_0_0s at time 6d.\n",
      "central_banks settled 5.34545134529f of cbdc to household_0_0s at time household_0_0d.\n",
      "household_4_1s paid 0.0f of cbdc to central_banks for household_0_0s at time 6d.\n",
      "central_banks settled 0.0f of cbdc to household_0_0s at time household_0_0d.\n",
      "household_4_1s paid 12.2135519863f to bank_1s for household_0_0s at time 6d.\n",
      "bank_0s transferred deposits of 6.09600999015f to household_1_0s at time 6d.\n",
      "bank_1s transferred deposits of 4.88842686349f to household_6_1s at time 6d.\n",
      "measurements/test_output.xml\n",
      "household_7_0s paid 5.87638642125f to bank_0s for household_1_0s at time 7d.\n",
      "household_0_0s paid 9.12078515344f of cbdc to central_banks for household_6_1s at time 7d.\n",
      "central_banks settled 9.12078515344f of cbdc to household_6_1s at time household_6_1d.\n",
      "household_2_0s paid 9.99000772165f of cbdc to central_banks for household_6_1s at time 7d.\n",
      "central_banks settled 9.99000772165f of cbdc to household_6_1s at time household_6_1d.\n",
      "bank_0s transferred deposits of 5.87638642125f to household_1_0s at time 7d.\n",
      "measurements/test_output.xml\n",
      "household_3_1s paid 1.22467391507f to bank_1s for household_4_1s at time 8d.\n",
      "household_1_0s paid 21.2953169694f of cbdc to central_banks for household_4_1s at time 8d.\n",
      "central_banks settled 21.2953169694f of cbdc to household_4_1s at time household_4_1d.\n",
      "household_1_0s paid 0.0f of cbdc to central_banks for household_4_1s at time 8d.\n",
      "central_banks settled 0.0f of cbdc to household_4_1s at time household_4_1d.\n",
      "household_1_0s paid 32.8259940109f to bank_0s for household_4_1s at time 8d.\n",
      "household_5_0s paid 0.487530873521f to bank_0s for household_2_0s at time 8d.\n",
      "household_2_0s paid 3.41518659417f of cbdc to central_banks for household_4_1s at time 8d.\n",
      "central_banks settled 3.41518659417f of cbdc to household_4_1s at time household_4_1d.\n",
      "household_4_1s paid 12.1128080318f of cbdc to central_banks for household_0_0s at time 8d.\n",
      "central_banks settled 12.1128080318f of cbdc to household_0_0s at time household_0_0d.\n",
      "bank_1s settled payment of 2.275658523f to household_4_1s at time 8d.\n",
      "central_bank RTGSed 2.275658523 of reserves to bank_1 at time 6d.\n",
      "bank_0s RTGSed reserves of 2.275658523f  to central_banks at time 8d.\n",
      "bank_1s settled payment of 2.18685709613f to household_4_1s at time 8d.\n",
      "central_bank RTGSed 2.18685709613 of reserves to bank_1 at time 6d.\n",
      "bank_0s RTGSed reserves of 2.18685709613f  to central_banks at time 8d.\n",
      "bank_1s settled payment of 32.8259940109f to household_4_1s at time 8d.\n",
      "central_bank RTGSed 32.8259940109 of reserves to bank_1 at time 8d.\n",
      "bank_0s RTGSed reserves of 32.8259940109f  to central_banks at time 8d.\n",
      "bank_0s transferred deposits of 0.487530873521f to household_2_0s at time 8d.\n",
      "bank_0s settled payment of 0.967442593134f to household_1_0s at time 8d.\n",
      "central_bank RTGSed 0.967442593134 of reserves to bank_0 at time 5d.\n",
      "bank_1s RTGSed reserves of 0.967442593134f  to central_banks at time 8d.\n",
      "bank_0s settled payment of 9.54185636519f to household_2_0s at time 8d.\n",
      "central_bank RTGSed 9.54185636519 of reserves to bank_0 at time 5d.\n",
      "bank_1s RTGSed reserves of 9.54185636519f  to central_banks at time 8d.\n",
      "bank_0s settled payment of 12.2135519863f to household_0_0s at time 8d.\n",
      "central_bank RTGSed 12.2135519863 of reserves to bank_0 at time 6d.\n",
      "bank_1s RTGSed reserves of 12.2135519863f  to central_banks at time 8d.\n",
      "bank_1s transferred deposits of 1.22467391507f to household_4_1s at time 8d.\n",
      "measurements/test_output.xml\n",
      "household_5_0s paid 0.476721245901f to bank_0s for household_2_0s at time 9d.\n",
      "household_7_0s paid 2.97942468546f to bank_0s for household_0_0s at time 9d.\n",
      "household_2_0s paid 0.709106287269f of cbdc to central_banks for household_4_1s at time 9d.\n",
      "central_banks settled 0.709106287269f of cbdc to household_4_1s at time household_4_1d.\n",
      "household_2_0s paid 0.0f of cbdc to central_banks for household_4_1s at time 9d.\n",
      "central_banks settled 0.0f of cbdc to household_4_1s at time household_4_1d.\n",
      "household_2_0s paid 5.91015640934f to bank_0s for household_4_1s at time 9d.\n",
      "household_6_1s paid 26.6553814605f of cbdc to central_banks for household_7_0s at time 9d.\n",
      "central_banks settled 26.6553814605f of cbdc to household_7_0s at time household_7_0d.\n",
      "household_4_1s paid 13.3068018191f of cbdc to central_banks for household_2_0s at time 9d.\n",
      "central_banks settled 13.3068018191f of cbdc to household_2_0s at time household_2_0d.\n",
      "household_4_1s paid 0.0f of cbdc to central_banks for household_2_0s at time 9d.\n",
      "central_banks settled 0.0f of cbdc to household_2_0s at time household_2_0d.\n",
      "household_4_1s paid 1.36884868886f to bank_1s for household_2_0s at time 9d.\n",
      "bank_0s transferred deposits of 0.476721245901f to household_2_0s at time 9d.\n",
      "bank_0s transferred deposits of 2.97942468546f to household_0_0s at time 9d.\n"
     ]
    }
   ],
   "source": [
    "for i in range(int(environment.num_simulations)):\n",
    "    logging.info('  STARTED with run %s',  str(i))\n",
    "    environment.initialize(environment_directory,  identifier)\n",
    "    runner.initialize(environment)\n",
    "    \n",
    "    runner.do_run(environment)\n",
    "    logging.info('  DONE')"
   ]
  },
  {
   "cell_type": "code",
   "execution_count": 32,
   "metadata": {},
   "outputs": [],
   "source": [
    "import pandas as pd\n",
    "thesis_data = pd.read_csv('measurements/TestMeasurement.csv', index_col=0) "
   ]
  },
  {
   "cell_type": "code",
   "execution_count": 34,
   "metadata": {},
   "outputs": [
    {
     "name": "stdout",
     "output_type": "stream",
     "text": [
      "      Deposit Balance        B_0        B_1  B_2  B_3  B_4  Total_Payments  \\\n",
      "Step                                                                         \n",
      "1          120.428267  70.788622  49.639645  NaN  NaN  NaN        0.000000   \n",
      "2          108.684782  69.931035  38.753748  NaN  NaN  NaN       58.970361   \n",
      "3          103.826644  69.931035  33.895609  NaN  NaN  NaN      101.112252   \n",
      "\n",
      "      CBDC Balance  Batch Balance  CBDC_Payments  Deposits_Payments  \n",
      "Step                                                                 \n",
      "1        71.571733       0.000000       0.000000           0.000000  \n",
      "2        71.571733      11.743484      36.194939          22.775422  \n",
      "3        71.571733      16.601623      60.029378          41.082874  \n",
      "      Deposit Balance        B_0        B_1  B_2  B_3  B_4  Total_Payments  \\\n",
      "Step                                                                         \n",
      "7           93.242900  70.785088  22.457812  NaN  NaN  NaN      322.077204   \n",
      "8           93.242900  70.785088  22.457812  NaN  NaN  NaN      347.064383   \n",
      "9          120.428267  60.681945  59.746322  NaN  NaN  NaN      418.425893   \n",
      "10         113.149261  54.771788  58.377473  NaN  NaN  NaN      469.832334   \n",
      "\n",
      "      CBDC Balance  Batch Balance  CBDC_Payments  Deposits_Payments  \n",
      "Step                                                                 \n",
      "7        71.571733      27.185367     147.579442         174.497762  \n",
      "8        71.571733      27.185367     166.690235         180.374148  \n",
      "9        71.571733       0.000000     203.513546         214.912347  \n",
      "10       71.571733       7.279005     244.184836         225.647498  \n"
     ]
    }
   ],
   "source": [
    "print(thesis_data.head(3))\n",
    "print(thesis_data.tail(4))"
   ]
  },
  {
   "cell_type": "markdown",
   "metadata": {},
   "source": [
    "Check consistency of Households, Banks and Central Bank"
   ]
  },
  {
   "cell_type": "code",
   "execution_count": 35,
   "metadata": {},
   "outputs": [
    {
     "name": "stdout",
     "output_type": "stream",
     "text": [
      "True\n",
      "True\n",
      "True\n"
     ]
    }
   ],
   "source": [
    "bank = True\n",
    "for banks in environment.banks:\n",
    "    bank *= banks.check_consistency()\n",
    "if bank:\n",
    "    print(\"True\")\n",
    "else:\n",
    "    print(\"False\")\n",
    "\n",
    "house = True\n",
    "for houses in environment.banks:\n",
    "    house *= houses.check_consistency()\n",
    "if house:\n",
    "    print(\"True\")\n",
    "else:\n",
    "    print(\"False\")\n",
    "\n",
    "print(environment.central_bank[0].check_consistency())"
   ]
  },
  {
   "cell_type": "code",
   "execution_count": 36,
   "metadata": {},
   "outputs": [],
   "source": [
    "import matplotlib.pyplot as plt"
   ]
  },
  {
   "cell_type": "code",
   "execution_count": 37,
   "metadata": {},
   "outputs": [
    {
     "data": {
      "image/png": "[encoded data removed]",
      "text/plain": [
       "<Figure size 720x432 with 1 Axes>"
      ]
     },
     "metadata": {
      "needs_background": "light"
     },
     "output_type": "display_data"
    }
   ],
   "source": [
    "fig, ax = plt.subplots(nrows=1, ncols=1, figsize=(10,6))\n",
    "\n",
    "ax.plot(thesis_data.index, thesis_data.drop([\"Total_Payments\", \"CBDC Balance\", \"Batch Balance\", \"CBDC_Payments\", \"Deposits_Payments\"], 1))\n",
    "ax.set_xlabel('Time', fontsize='14')\n",
    "ax.set_ylabel('Balance', fontsize='14')\n",
    "ax.legend(['Household Balance', 'B_0', 'B_1', 'B_2', 'B_3', 'B_4'])\n",
    "\n",
    "fig.savefig('deposit_balances.png')"
   ]
  },
  {
   "cell_type": "code",
   "execution_count": 38,
   "metadata": {},
   "outputs": [
    {
     "data": {
      "image/png": "[encoded data removed]",
      "text/plain": [
       "<Figure size 432x288 with 1 Axes>"
      ]
     },
     "metadata": {},
     "output_type": "display_data"
    }
   ],
   "source": [
    "import networkx as nx\n",
    "nx.draw_shell(environment.network)"
   ]
  }
 ],
 "metadata": {
  "interpreter": {
   "hash": "d4806bff4a844a3c1d6cecab0e681fdf35ff66f2077edc5510564ef94e7176f8"
  },
  "kernelspec": {
   "display_name": "Python 2.7.16 64-bit ('venv': venv)",
   "name": "python3"
  },
  "language_info": {
   "codemirror_mode": {
    "name": "ipython",
    "version": 2
   },
   "file_extension": ".py",
   "mimetype": "text/x-python",
   "name": "python",
   "nbconvert_exporter": "python",
   "pygments_lexer": "ipython2",
   "version": "2.7.16"
  },
  "orig_nbformat": 4
 },
 "nbformat": 4,
 "nbformat_minor": 2
}
