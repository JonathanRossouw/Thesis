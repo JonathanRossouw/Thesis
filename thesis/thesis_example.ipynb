{
 "cells": [
  {
   "cell_type": "markdown",
   "metadata": {},
   "source": [
    "# Thesis ABM model\n",
    "\n",
    "Network model between agents that creates stochastic payment shocks then settles payments. Agents are affliliated to a bank. If with the same bank, settlement occurs in period. If with different bank, payment occurs every fourth period due to \"batching\".\n",
    "\n",
    "## Configuring the model\n",
    "\n",
    "In the Black Rhino framework, parameters are stored in xml files. Using this notebook, you can set change them. First, you need to import the elementree from the xml Python module."
   ]
  },
  {
   "cell_type": "code",
   "execution_count": 1,
   "metadata": {},
   "outputs": [],
   "source": [
    "import xml.etree.ElementTree as ET"
   ]
  },
  {
   "cell_type": "markdown",
   "metadata": {},
   "source": [
    "Below you will find the parameter inputs for this model. Change the parameter values for different configurations of the model."
   ]
  },
  {
   "cell_type": "code",
   "execution_count": 2,
   "metadata": {},
   "outputs": [],
   "source": [
    "parameter_values = (('num_sweeps', '2'),\n",
    "                    ('num_simulations', '1'),\n",
    "                    ('num_households', '1'),\n",
    "                    ('num_firms', '1'),\n",
    "                    ('num_banks', '1'),\n",
    "                    ('num_central_bank', '1'),\n",
    "                    ('batch', '1'),\n",
    "                    ('household_directory', 'agents/gen_households/'),\n",
    "                    ('firm_directory', 'agents/gen_firms/'),\n",
    "                    ('bank_directory', 'agents/gen_banks/'),\n",
    "                    ('central_bank_directory', 'agents/central_bank/'),\n",
    "                    ('measurement_config', 'measurements/test_output.xml')\n",
    "                   )"
   ]
  },
  {
   "cell_type": "markdown",
   "metadata": {},
   "source": [
    "To translate this to an xml document, which the framework can read, we first need create an ET element. "
   ]
  },
  {
   "cell_type": "code",
   "execution_count": 3,
   "metadata": {},
   "outputs": [],
   "source": [
    "environment = ET.Element('environment', identifier = \"CBDC_parameters\")"
   ]
  },
  {
   "cell_type": "markdown",
   "metadata": {},
   "source": [
    "And create parameter elements and give them the values seen below to add to the tree object."
   ]
  },
  {
   "cell_type": "code",
   "execution_count": 4,
   "metadata": {},
   "outputs": [],
   "source": [
    "parameters = []\n",
    "for x in range(len(parameter_values)):\n",
    "    parameters.append(ET.SubElement(environment, 'parameter'))\n",
    "    \n",
    "for idx, p in enumerate(parameters):\n",
    "    p.set('type', 'static')\n",
    "    p.set('name', parameter_values[idx][0])\n",
    "    p.set('value', parameter_values[idx][1])"
   ]
  },
  {
   "cell_type": "markdown",
   "metadata": {},
   "source": [
    "This object can now be transformed to a string and written to an xml file using the code below. "
   ]
  },
  {
   "cell_type": "code",
   "execution_count": 5,
   "metadata": {},
   "outputs": [],
   "source": [
    "xml_params = ET.tostring(environment, encoding=\"UTF-8\")\n",
    "myfile = open(\"environments/CBDC_parameters.xml\", \"w\")\n",
    "xml_params = \"<?xml version='1.0' encoding='UTF-8'?>\\n\" + str(xml_params, encoding = \"UTF-8\")\n",
    "myfile.write(xml_params)\n",
    "myfile.close()"
   ]
  },
  {
   "cell_type": "markdown",
   "metadata": {},
   "source": [
    "Now, the parameter xml file has been generated and the model can be run. Before, running the model, you need to import a couple of extra modules. These are the Python logging module, the Black Rhino environment class, and the Black Rhino runner class."
   ]
  },
  {
   "cell_type": "code",
   "execution_count": 6,
   "metadata": {},
   "outputs": [],
   "source": [
    "import logging\n",
    "import os\n",
    "from src.environment import Environment\n",
    "from src.runner import Runner"
   ]
  },
  {
   "cell_type": "markdown",
   "metadata": {},
   "source": [
    "Then, before running the model, the logger needs to be initialized."
   ]
  },
  {
   "cell_type": "code",
   "execution_count": 7,
   "metadata": {},
   "outputs": [],
   "source": [
    "log_directory = \"log/\"\n",
    "identifier = \"/CBDC_parameters\"\n",
    "environment_directory = \"environments/\"\n",
    "if not os.path.exists('log'):\n",
    "    os.makedirs('log')\n",
    "logging.basicConfig(format='%(asctime)s %(message)s', datefmt='%m/%d/%Y %H:%M:%S',\n",
    "                    filename=log_directory + identifier + \".log\", level=logging.INFO)\n",
    "logging.info('START logging for run: %s',  environment_directory + identifier + \".xml\")"
   ]
  },
  {
   "cell_type": "markdown",
   "metadata": {},
   "source": [
    "Generate banks and households using the generate agents class. First remove any agents still in directories. Then generate agents, the number of households and banks needs to be specified. In the generate banks method, the number of banks is the second argument. In the generate households method, the number of households it the second argument and the number of banks is the thrid argument."
   ]
  },
  {
   "cell_type": "code",
   "execution_count": 8,
   "metadata": {},
   "outputs": [],
   "source": [
    "import os\n",
    "remove = True\n",
    "\n",
    "bank_dir = os.getcwd()+'/agents/gen_banks/'\n",
    "house_dir = os.getcwd()+'/agents/gen_households/'\n",
    "firm_dir = os.getcwd()+'/agents/gen_firms/'\n",
    "if remove:\n",
    "    bank_list = [ f for f in os.listdir(bank_dir) if f.startswith(\"bank\") ]\n",
    "    house_list = [ f for f in os.listdir(house_dir) if f.startswith(\"house\") ]\n",
    "    firm_list = [ f for f in os.listdir(firm_dir) if f.startswith(\"firm\") ]\n",
    "for f in bank_list:\n",
    "    os.remove(os.path.join(bank_dir, f))\n",
    "for f in house_list:\n",
    "    os.remove(os.path.join(house_dir, f))\n",
    "for f in firm_list:\n",
    "    os.remove(os.path.join(firm_dir, f))"
   ]
  },
  {
   "cell_type": "code",
   "execution_count": 9,
   "metadata": {},
   "outputs": [],
   "source": [
    "from src.br_generate_agents import Generate_Agents\n",
    "gen_agents = Generate_Agents()\n",
    "\n",
    "gen_agents.generate_households(parameter_values[2][1], \"./agents/gen_households/\")\n",
    "\n",
    "gen_agents.generate_firms(parameter_values[3][1], \"./agents/gen_firms/\")\n",
    "\n",
    "gen_agents.generate_banks(parameter_values[4][1], \"./agents/gen_banks/\")"
   ]
  },
  {
   "cell_type": "markdown",
   "metadata": {},
   "source": [
    "First, the environment will be initialized. It contains the model parameters and variables. The environment also contains a list of agents. In the Solow model, the environment contains one bank, one firm, and one household. Finally, it also contains initialized transactions for these agents."
   ]
  },
  {
   "cell_type": "code",
   "execution_count": 10,
   "metadata": {},
   "outputs": [],
   "source": [
    "environment = Environment(environment_directory, identifier)"
   ]
  },
  {
   "cell_type": "markdown",
   "metadata": {},
   "source": [
    "Next up, the runner object is created. As the name suggests, the runner object handles the running of the model. But that is not all, it also initializes the updater."
   ]
  },
  {
   "cell_type": "code",
   "execution_count": 11,
   "metadata": {},
   "outputs": [],
   "source": [
    "runner = Runner(environment)"
   ]
  },
  {
   "cell_type": "markdown",
   "metadata": {},
   "source": [
    "Now you can actually run the model. Since the agent-based model is simulated using Monte Carlo methods. This means that the model will be run multiple times (num_simulations). For every simulation run, the environment and runner will be (re-)initialized. Then, the runner will run the Solow model. During the run, the runner will write data about capital to a csv file specified within the Measurement class and print out all the transactions happening and the books of firm and household at the end of each sweep."
   ]
  },
  {
   "cell_type": "code",
   "execution_count": 12,
   "metadata": {
    "tags": []
   },
   "outputs": [
    {
     "name": "stdout",
     "output_type": "stream",
     "text": [
      "measurements/test_output.xml\n",
      "{'firm_0': {'assets': {'fixed_assets': 10.0, 'deposits': 0.0, 'cbdc': 0.0, 'wage_agreement': 0.0}, 'liabilities': {'capital_firm': 10.0, 'loans': 0.0, 'output_agreement': 0.0}}}\n",
      "10.0 new loan from bank_0 to firm_0 for capitalizing bank\n",
      "{'bank_0': {'assets': {'loans': 10.0, 'reserves': 0.0}, 'liabilities': {'capital_bank': 10.0, 'deposits': 0.0, 'open_market_operations': 0.0}}}\n",
      "{'household_0': {'assets': {'capital_firm': 10.0, 'capital_bank': 10.0, 'deposits': 0.0, 'cbdc': 0.0, 'bank_notes': 0.0, 'output_agreement': 0.0}, 'liabilities': {'equity': 20.0, 'loans': 0.0, 'wage_agreement': 0.0}}}\n",
      "household_0 took out new loan of 20.0 at bank_0\n",
      "{'bank_0': {'assets': {'loans': 30.0, 'reserves': 0.0}, 'liabilities': {'capital_bank': 10.0, 'deposits': 20.0, 'open_market_operations': 0.0}}}\n",
      "{'household_0': {'assets': {'capital_firm': 10.0, 'capital_bank': 10.0, 'deposits': 20.0, 'cbdc': 0.0, 'bank_notes': 0.0, 'output_agreement': 0.0}, 'liabilities': {'equity': 20.0, 'loans': 20.0, 'wage_agreement': 0.0}}}\n",
      "firm_0 took out new loan of 30.0 at bank_0\n",
      "{'bank_0': {'assets': {'loans': 60.0, 'reserves': 0.0}, 'liabilities': {'capital_bank': 10.0, 'deposits': 50.0, 'open_market_operations': 0.0}}}\n",
      "bank_0 has 10.0 reserves, and 10.0 Open Market Operations\n",
      "{'bank_0': {'assets': {'loans': 60.0, 'reserves': 10.0}, 'liabilities': {'capital_bank': 10.0, 'deposits': 50.0, 'open_market_operations': 10.0}}}\n",
      "CBDC settlement of 5.0 to household_0 complete\n",
      "{'central_bank': {'assets': {'open_market_operations': 15.0}, 'liabilities': {'reserves': 10.0, 'cbdc': 5.0, 'bank_notes': 0.0}}}\n",
      "Bank Notes settlement of 5.0 to household_0 complete\n",
      "{'central_bank': {'assets': {'open_market_operations': 20.0}, 'liabilities': {'reserves': 10.0, 'cbdc': 5.0, 'bank_notes': 5.0}}}\n",
      "household_0 chose 10.0 deposits, 5.0 cbdc, and 5.0 bank_notes\n",
      "{'household_0': {'assets': {'capital_firm': 10.0, 'capital_bank': 10.0, 'deposits': 10.0, 'cbdc': 5.0, 'bank_notes': 5.0, 'output_agreement': 0.0}, 'liabilities': {'equity': 20.0, 'loans': 20.0, 'wage_agreement': 0.0}}}\n",
      "CBDC settlement of 10.0 to firm_0 complete\n",
      "{'central_bank': {'assets': {'open_market_operations': 30.0}, 'liabilities': {'reserves': 10.0, 'cbdc': 15.0, 'bank_notes': 5.0}}}\n",
      "Bank Notes settlement of 0.0 to firm_0 complete\n",
      "{'central_bank': {'assets': {'open_market_operations': 30.0}, 'liabilities': {'reserves': 10.0, 'cbdc': 15.0, 'bank_notes': 5.0}}}\n",
      "firm_0 chose 20.0 deposits, 10.0 cbdc, and 0.0 bank_notes\n",
      "{'firm_0': {'assets': {'fixed_assets': 20.0, 'deposits': 20.0, 'cbdc': 10.0, 'wage_agreement': 0.0}, 'liabilities': {'capital_firm': 10.0, 'loans': 40.0, 'output_agreement': 0.0}}}\n",
      "measurements/test_output.xml\n",
      "firm_0 took out new loan of 100.0 at bank_0\n",
      "{'bank_0': {'assets': {'loans': 160.0, 'reserves': 10.0}, 'liabilities': {'capital_bank': 10.0, 'deposits': 130.0, 'open_market_operations': 30.0}}}\n",
      "firm_0s paid 100.0 to bank_0 for household_0 at time 1.\n",
      "{'bank_0': {'assets': {'loans': 160.0, 'reserves': 10.0}, 'liabilities': {'capital_bank': 10.0, 'deposits': 30.0, 'open_market_operations': 30.0}}}\n",
      "100.0 unit wage agreement with household_0 for labour\n",
      "{'firm_0': {'assets': {'fixed_assets': 20.0, 'deposits': 20.0, 'cbdc': 10.0, 'wage_agreement': 100.0}, 'liabilities': {'capital_firm': 10.0, 'loans': 140.0, 'output_agreement': 0.0}}}\n",
      "household_0s paid 100.0 to bank_0 for firm_0 at time 1.\n",
      "{'bank_0': {'assets': {'loans': 160.0, 'reserves': 10.0}, 'liabilities': {'capital_bank': 10.0, 'deposits': -70.0, 'open_market_operations': 30.0}}}\n",
      "100.0 units output agreement with household_0\n",
      "{'firm_0': {'assets': {'fixed_assets': 20.0, 'deposits': 20.0, 'cbdc': 10.0, 'wage_agreement': 100.0}, 'liabilities': {'capital_firm': 10.0, 'loans': 140.0, 'output_agreement': 100.0}}}\n",
      "firm_0 repaid loan of 100.0 at bank_0\n",
      "{'bank_0': {'assets': {'loans': 60.0, 'reserves': 10.0}, 'liabilities': {'capital_bank': 10.0, 'deposits': -170.0, 'open_market_operations': 30.0}}}\n",
      "100.0 of output transferred from firm_0 to household_0 at time 1\n",
      "bank_0s transferred deposits of 100.0f to household_0s at time 1d.\n",
      "{'bank_0': {'assets': {'loans': 60.0, 'reserves': 10.0}, 'liabilities': {'capital_bank': 10.0, 'deposits': -70.0, 'open_market_operations': 30.0}}}\n",
      "bank_0s transferred deposits of 100.0f to firm_0s at time 1d.\n",
      "{'bank_0': {'assets': {'loans': 60.0, 'reserves': 10.0}, 'liabilities': {'capital_bank': 10.0, 'deposits': 30.0, 'open_market_operations': 30.0}}}\n"
     ]
    }
   ],
   "source": [
    "for i in range(int(environment.num_simulations)):\n",
    "    logging.info('  STARTED with run %s',  str(i))\n",
    "    environment.initialize(environment_directory,  identifier)\n",
    "    runner.initialize(environment)\n",
    "    \n",
    "    runner.do_run(environment)\n",
    "    logging.info('  DONE')"
   ]
  },
  {
   "cell_type": "code",
   "execution_count": 13,
   "metadata": {},
   "outputs": [
    {
     "name": "stdout",
     "output_type": "stream",
     "text": [
      "All households have consistent balance sheets\n",
      "All firms have consistent balance sheets\n",
      "All banks have consistent balance sheets\n",
      "Central Bank has consistent balance sheets\n"
     ]
    }
   ],
   "source": [
    "house = True\n",
    "for houses in environment.households:\n",
    "    house *= houses.check_consistency()\n",
    "if house:\n",
    "    print(\"All households have consistent balance sheets\")\n",
    "else:\n",
    "    print(\"Not all households have consistent balance sheets\")\n",
    "\n",
    "firm = True\n",
    "for firms in environment.firms:\n",
    "    firm *= firms.check_consistency()\n",
    "if firm:\n",
    "    print(\"All firms have consistent balance sheets\")\n",
    "else:\n",
    "    print(\"Not all firms have consistent balance sheets\")\n",
    "\n",
    "bank = True\n",
    "for banks in environment.banks:\n",
    "    bank *= banks.check_consistency()\n",
    "if bank:\n",
    "    print(\"All banks have consistent balance sheets\")\n",
    "else:\n",
    "    print(\"Not all banks have consistent balance sheets\")\n",
    "\n",
    "if environment.central_bank[0].check_consistency():\n",
    "    print(\"Central Bank has consistent balance sheets\")\n",
    "elif environment.central_bank[0].check_consistency() is False:\n",
    "    print(\"Central Bank does not consistent balance sheets\")"
   ]
  },
  {
   "cell_type": "code",
   "execution_count": 14,
   "metadata": {},
   "outputs": [
    {
     "name": "stdout",
     "output_type": "stream",
     "text": [
      "household_0 balance sheet\n",
      "                  assets  liabilities\n",
      "capital_firm        10.0          NaN\n",
      "capital_bank        10.0          NaN\n",
      "deposits            10.0          NaN\n",
      "cbdc                 5.0          NaN\n",
      "bank_notes           5.0          NaN\n",
      "output_agreement     0.0          NaN\n",
      "equity               NaN         20.0\n",
      "loans                NaN         20.0\n",
      "wage_agreement       NaN          0.0\n",
      "firm_0 balance sheet\n",
      "                  assets  liabilities\n",
      "fixed_assets        20.0          NaN\n",
      "deposits            20.0          NaN\n",
      "cbdc                10.0          NaN\n",
      "wage_agreement       0.0          NaN\n",
      "capital_firm         NaN         10.0\n",
      "loans                NaN         40.0\n",
      "output_agreement     NaN          0.0\n",
      "bank_0 balance sheet\n",
      "                        assets  liabilities\n",
      "loans                     60.0          NaN\n",
      "reserves                  10.0          NaN\n",
      "capital_bank               NaN         10.0\n",
      "deposits                   NaN         30.0\n",
      "open_market_operations     NaN         30.0\n",
      "central_bank balance sheet\n",
      "                        assets  liabilities\n",
      "open_market_operations    30.0          NaN\n",
      "reserves                   NaN         10.0\n",
      "cbdc                       NaN         15.0\n",
      "bank_notes                 NaN          5.0\n"
     ]
    }
   ],
   "source": [
    "import pandas as pd\n",
    "\n",
    "house = environment.households[0]\n",
    "balance_sheet = house.balance_sheet()\n",
    "mark = pd.DataFrame.from_dict(balance_sheet[house.identifier], orient=\"columns\")\n",
    "print(f\"{house.identifier} balance sheet\")\n",
    "print(mark)\n",
    "\n",
    "firm = environment.firms[0]\n",
    "balance_sheet = firm.balance_sheet()\n",
    "mark = pd.DataFrame.from_dict(balance_sheet[firm.identifier], orient=\"columns\")\n",
    "print(f\"{firm.identifier} balance sheet\")\n",
    "print(mark)\n",
    "\n",
    "bank = environment.banks[0]\n",
    "balance_sheet = bank.balance_sheet()\n",
    "mark = pd.DataFrame.from_dict(balance_sheet[bank.identifier], orient=\"columns\")\n",
    "print(f\"{bank.identifier} balance sheet\")\n",
    "print(mark)\n",
    "\n",
    "central_bank = environment.central_bank[0]\n",
    "balance_sheet = central_bank.balance_sheet()\n",
    "mark = pd.DataFrame.from_dict(balance_sheet[central_bank.identifier], orient=\"columns\")\n",
    "print(f\"{central_bank.identifier} balance sheet\")\n",
    "print(mark)"
   ]
  },
  {
   "cell_type": "code",
   "execution_count": 15,
   "metadata": {},
   "outputs": [],
   "source": [
    "import pandas as pd\n",
    "thesis_data = pd.read_csv('measurements/TestMeasurement.csv', index_col=0) "
   ]
  },
  {
   "cell_type": "code",
   "execution_count": 16,
   "metadata": {},
   "outputs": [
    {
     "name": "stdout",
     "output_type": "stream",
     "text": [
      "      Deposit Balance   B_0  B_1  B_2  B_3  B_4  Total_Payments  CBDC Balance  \\\n",
      "Step                                                                            \n",
      "1                10.0  30.0  NaN  NaN  NaN  NaN               0           5.0   \n",
      "2                10.0  30.0  NaN  NaN  NaN  NaN               0           5.0   \n",
      "\n",
      "      Batch Balance  CBDC_Payments  Deposits_Payments  Total_Output  \n",
      "Step                                                                 \n",
      "1               0.0              0                  0           0.0  \n",
      "2               0.0              0                  0         100.0  \n",
      "      Deposit Balance   B_0  B_1  B_2  B_3  B_4  Total_Payments  CBDC Balance  \\\n",
      "Step                                                                            \n",
      "1                10.0  30.0  NaN  NaN  NaN  NaN               0           5.0   \n",
      "2                10.0  30.0  NaN  NaN  NaN  NaN               0           5.0   \n",
      "\n",
      "      Batch Balance  CBDC_Payments  Deposits_Payments  Total_Output  \n",
      "Step                                                                 \n",
      "1               0.0              0                  0           0.0  \n",
      "2               0.0              0                  0         100.0  \n"
     ]
    }
   ],
   "source": [
    "print(thesis_data.head(3))\n",
    "print(thesis_data.tail(4))"
   ]
  },
  {
   "cell_type": "markdown",
   "metadata": {},
   "source": [
    "Check consistency of Households, Banks and Central Bank"
   ]
  },
  {
   "cell_type": "code",
   "execution_count": 17,
   "metadata": {},
   "outputs": [],
   "source": [
    "import matplotlib.pyplot as plt"
   ]
  },
  {
   "cell_type": "code",
   "execution_count": 18,
   "metadata": {},
   "outputs": [
    {
     "name": "stderr",
     "output_type": "stream",
     "text": [
      "/var/folders/nx/sfr0g06x255301jlc_nyn7c00000gn/T/ipykernel_32470/1081937997.py:3: FutureWarning: In a future version of pandas all arguments of DataFrame.drop except for the argument 'labels' will be keyword-only\n",
      "  ax.plot(thesis_data.index, thesis_data.drop([\"Total_Payments\", \"CBDC Balance\", \"Batch Balance\", \"CBDC_Payments\", \"Deposits_Payments\", \"Total_Output\"], 1))\n"
     ]
    },
    {
     "data": {
      "image/png": "[encoded data removed]",
      "text/plain": [
       "<Figure size 720x432 with 1 Axes>"
      ]
     },
     "metadata": {
      "needs_background": "light"
     },
     "output_type": "display_data"
    }
   ],
   "source": [
    "fig, ax = plt.subplots(nrows=1, ncols=1, figsize=(10,6))\n",
    "\n",
    "ax.plot(thesis_data.index, thesis_data.drop([\"Total_Payments\", \"CBDC Balance\", \"Batch Balance\", \"CBDC_Payments\", \"Deposits_Payments\", \"Total_Output\"], 1))\n",
    "ax.set_xlabel('Time', fontsize='14')\n",
    "ax.set_ylabel('Balance', fontsize='14')\n",
    "ax.legend(['Household Balance', 'B_0'])#, 'B_1']) #, 'B_2', 'B_3', 'B_4'])\n",
    "\n",
    "fig.savefig('deposit_balances.png')"
   ]
  },
  {
   "cell_type": "code",
   "execution_count": 19,
   "metadata": {},
   "outputs": [
    {
     "data": {
      "image/png": "[encoded data removed]",
      "text/plain": [
       "<Figure size 432x288 with 1 Axes>"
      ]
     },
     "metadata": {},
     "output_type": "display_data"
    }
   ],
   "source": [
    "import networkx as nx\n",
    "nx.draw_shell(environment.social_network)"
   ]
  },
  {
   "cell_type": "code",
   "execution_count": 20,
   "metadata": {},
   "outputs": [
    {
     "data": {
      "image/png": "[encoded data removed]",
      "text/plain": [
       "<Figure size 432x288 with 1 Axes>"
      ]
     },
     "metadata": {},
     "output_type": "display_data"
    }
   ],
   "source": [
    "import networkx as nx\n",
    "nx.draw(environment.employment_network)"
   ]
  },
  {
   "cell_type": "code",
   "execution_count": 21,
   "metadata": {},
   "outputs": [
    {
     "data": {
      "image/png": "[encoded data removed]",
      "text/plain": [
       "<Figure size 432x288 with 1 Axes>"
      ]
     },
     "metadata": {},
     "output_type": "display_data"
    }
   ],
   "source": [
    "import networkx as nx\n",
    "nx.draw(environment.consumption_network)"
   ]
  },
  {
   "cell_type": "code",
   "execution_count": 22,
   "metadata": {},
   "outputs": [
    {
     "data": {
      "image/png": "[encoded data removed]",
      "text/plain": [
       "<Figure size 432x288 with 1 Axes>"
      ]
     },
     "metadata": {},
     "output_type": "display_data"
    }
   ],
   "source": [
    "import networkx as nx\n",
    "nx.draw(environment.bank_network)"
   ]
  }
 ],
 "metadata": {
  "interpreter": {
   "hash": "d4806bff4a844a3c1d6cecab0e681fdf35ff66f2077edc5510564ef94e7176f8"
  },
  "kernelspec": {
   "display_name": "Python 3.9.2 64-bit ('venv': venv)",
   "name": "python3"
  },
  "language_info": {
   "codemirror_mode": {
    "name": "ipython",
    "version": 3
   },
   "file_extension": ".py",
   "mimetype": "text/x-python",
   "name": "python",
   "nbconvert_exporter": "python",
   "pygments_lexer": "ipython3",
   "version": "3.9.2"
  }
 },
 "nbformat": 4,
 "nbformat_minor": 2
}
