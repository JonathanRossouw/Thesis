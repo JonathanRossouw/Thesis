{
 "cells": [
  {
   "cell_type": "markdown",
   "metadata": {},
   "source": [
    "# Thesis ABM model\n",
    "\n",
    "Network model between agents that creates stochastic payment shocks then settles payments. Agents are affliliated to a bank. If with the same bank, settlement occurs in period. If with different bank, payment occurs every fourth period due to \"batching\".\n",
    "\n",
    "## Configuring the model\n",
    "\n",
    "In the Black Rhino framework, parameters are stored in xml files. Using this notebook, you can set change them. First, you need to import the elementree from the xml Python module."
   ]
  },
  {
   "cell_type": "code",
   "execution_count": 90,
   "metadata": {},
   "outputs": [],
   "source": [
    "import xml.etree.ElementTree as ET"
   ]
  },
  {
   "cell_type": "markdown",
   "metadata": {},
   "source": [
    "Below you will find the parameter inputs for this model. Change the parameter values for different configurations of the model."
   ]
  },
  {
   "cell_type": "code",
   "execution_count": 91,
   "metadata": {},
   "outputs": [],
   "source": [
    "parameter_values = (('num_sweeps', '10'),\n",
    "                    ('num_simulations', '1'),\n",
    "                    ('num_households', '8'),\n",
    "                    ('num_banks', '2'),\n",
    "                    ('batch', '4'),\n",
    "                    ('household_directory', 'agents/gen_households/'),\n",
    "                    ('bank_directory', 'agents/gen_banks/'),\n",
    "                    ('central_bank_directory', 'agents/central_bank/'),\n",
    "                    ('measurement_config', 'measurements/test_output.xml')\n",
    "                   )"
   ]
  },
  {
   "cell_type": "markdown",
   "metadata": {},
   "source": [
    "To translate this to an xml document, which the framework can read, we first need create an ET element. "
   ]
  },
  {
   "cell_type": "code",
   "execution_count": 92,
   "metadata": {},
   "outputs": [],
   "source": [
    "environment = ET.Element('environment', identifier = \"CBDC_parameters\")"
   ]
  },
  {
   "cell_type": "markdown",
   "metadata": {},
   "source": [
    "And create parameter elements and give them the values seen below to add to the tree object."
   ]
  },
  {
   "cell_type": "code",
   "execution_count": 93,
   "metadata": {},
   "outputs": [],
   "source": [
    "parameters = []\n",
    "for x in range(len(parameter_values)):\n",
    "    parameters.append(ET.SubElement(environment, 'parameter'))\n",
    "    \n",
    "for idx, p in enumerate(parameters):\n",
    "    p.set('type', 'static')\n",
    "    p.set('name', parameter_values[idx][0])\n",
    "    p.set('value', parameter_values[idx][1])"
   ]
  },
  {
   "cell_type": "markdown",
   "metadata": {},
   "source": [
    "This object can now be transformed to a string and written to an xml file using the code below. "
   ]
  },
  {
   "cell_type": "code",
   "execution_count": 94,
   "metadata": {},
   "outputs": [],
   "source": [
    "xml_params = ET.tostring(environment, encoding=\"UTF-8\")\n",
    "myfile = open(\"environments/CBDC_parameters.xml\", \"w\")\n",
    "xml_params = \"<?xml version='1.0' encoding='UTF-8'?>\\n\" + str(xml_params, encoding = \"UTF-8\")\n",
    "myfile.write(xml_params)\n",
    "myfile.close()"
   ]
  },
  {
   "cell_type": "markdown",
   "metadata": {},
   "source": [
    "Now, the parameter xml file has been generated and the model can be run. Before, running the model, you need to import a couple of extra modules. These are the Python logging module, the Black Rhino environment class, and the Black Rhino runner class."
   ]
  },
  {
   "cell_type": "code",
   "execution_count": 95,
   "metadata": {},
   "outputs": [],
   "source": [
    "import logging\n",
    "import os\n",
    "from src.environment import Environment\n",
    "from src.runner import Runner"
   ]
  },
  {
   "cell_type": "markdown",
   "metadata": {},
   "source": [
    "Then, before running the model, the logger needs to be initialized."
   ]
  },
  {
   "cell_type": "code",
   "execution_count": 96,
   "metadata": {},
   "outputs": [],
   "source": [
    "log_directory = \"log/\"\n",
    "identifier = \"/CBDC_parameters\"\n",
    "environment_directory = \"environments/\"\n",
    "if not os.path.exists('log'):\n",
    "    os.makedirs('log')\n",
    "logging.basicConfig(format='%(asctime)s %(message)s', datefmt='%m/%d/%Y %H:%M:%S',\n",
    "                    filename=log_directory + identifier + \".log\", level=logging.INFO)\n",
    "logging.info('START logging for run: %s',  environment_directory + identifier + \".xml\")"
   ]
  },
  {
   "cell_type": "markdown",
   "metadata": {},
   "source": [
    "Generate banks and households using the generate agents class. First remove any agents still in directories. Then generate agents, the number of households and banks needs to be specified. In the generate banks method, the number of banks is the second argument. In the generate households method, the number of households it the second argument and the number of banks is the thrid argument."
   ]
  },
  {
   "cell_type": "code",
   "execution_count": 97,
   "metadata": {},
   "outputs": [],
   "source": [
    "import os\n",
    "remove = True\n",
    "\n",
    "bank_dir = os.getcwd()+'/agents/gen_banks/'\n",
    "house_dir = os.getcwd()+'/agents/gen_households/'\n",
    "if remove:\n",
    "    bank_list = [ f for f in os.listdir(bank_dir) if f.startswith(\"bank\") ]\n",
    "    house_list = [ f for f in os.listdir(house_dir) if f.startswith(\"house\") ]\n",
    "for f in bank_list:\n",
    "    os.remove(os.path.join(bank_dir, f))\n",
    "for f in house_list:\n",
    "    os.remove(os.path.join(house_dir, f))\n"
   ]
  },
  {
   "cell_type": "code",
   "execution_count": 98,
   "metadata": {},
   "outputs": [],
   "source": [
    "from src.br_generate_agents import Generate_Agents\n",
    "gen_agents = Generate_Agents()\n",
    "\n",
    "gen_agents.generate_households(parameter_values[2][1], parameter_values[3][1], \"./agents/gen_households/\")\n",
    "\n",
    "gen_agents.generate_banks(parameter_values[3][1], \"./agents/gen_banks/\")"
   ]
  },
  {
   "cell_type": "markdown",
   "metadata": {},
   "source": [
    "First, the environment will be initialized. It contains the model parameters and variables. The environment also contains a list of agents. In the Solow model, the environment contains one bank, one firm, and one household. Finally, it also contains initialized transactions for these agents."
   ]
  },
  {
   "cell_type": "code",
   "execution_count": 99,
   "metadata": {},
   "outputs": [],
   "source": [
    "environment = Environment(environment_directory, identifier)"
   ]
  },
  {
   "cell_type": "markdown",
   "metadata": {},
   "source": [
    "Next up, the runner object is created. As the name suggests, the runner object handles the running of the model. But that is not all, it also initializes the updater."
   ]
  },
  {
   "cell_type": "code",
   "execution_count": 100,
   "metadata": {},
   "outputs": [],
   "source": [
    "runner = Runner(environment)"
   ]
  },
  {
   "cell_type": "markdown",
   "metadata": {},
   "source": [
    "Now you can actually run the model. Since the agent-based model is simulated using Monte Carlo methods. This means that the model will be run multiple times (num_simulations). For every simulation run, the environment and runner will be (re-)initialized. Then, the runner will run the Solow model. During the run, the runner will write data about capital to a csv file specified within the Measurement class and print out all the transactions happening and the books of firm and household at the end of each sweep."
   ]
  },
  {
   "cell_type": "code",
   "execution_count": 101,
   "metadata": {
    "tags": []
   },
   "outputs": [
    {
     "name": "stdout",
     "output_type": "stream",
     "text": [
      "measurements/test_output.xml\n",
      "bank_0 has 48.0 reserves, and 48.0 Open Market Transactions\n",
      "bank_1 has 48.0 reserves, and 48.0 Open Market Transactions\n",
      "CBDC settlement of household_3_0 to 8.656861571116467 complete\n",
      "Bank Notes settlement of household_3_0 to 0.0 complete\n",
      "household_3_0 chose 15.343138428883533 deposits, 8.656861571116467 cbdc, and 0.0 bank_notes\n",
      "CBDC settlement of household_1_1 to 12.329728860284206 complete\n",
      "Bank Notes settlement of household_1_1 to 0.0 complete\n",
      "household_1_1 chose 11.670271139715794 deposits, 12.329728860284206 cbdc, and 0.0 bank_notes\n",
      "CBDC settlement of household_5_0 to 13.07045677261584 complete\n",
      "Bank Notes settlement of household_5_0 to 0.0 complete\n",
      "household_5_0 chose 10.92954322738416 deposits, 13.07045677261584 cbdc, and 0.0 bank_notes\n",
      "CBDC settlement of household_7_1 to 6.867437561307447 complete\n",
      "Bank Notes settlement of household_7_1 to 0.0 complete\n",
      "household_7_1 chose 17.132562438692553 deposits, 6.867437561307447 cbdc, and 0.0 bank_notes\n",
      "CBDC settlement of household_0_0 to 11.23349229247818 complete\n",
      "Bank Notes settlement of household_0_0 to 0.0 complete\n",
      "household_0_0 chose 12.76650770752182 deposits, 11.23349229247818 cbdc, and 0.0 bank_notes\n",
      "CBDC settlement of household_2_1 to 8.938543795190695 complete\n",
      "Bank Notes settlement of household_2_1 to 0.0 complete\n",
      "household_2_1 chose 15.061456204809305 deposits, 8.938543795190695 cbdc, and 0.0 bank_notes\n",
      "CBDC settlement of household_6_1 to 9.018583015012561 complete\n",
      "Bank Notes settlement of household_6_1 to 0.0 complete\n",
      "household_6_1 chose 14.981416984987439 deposits, 9.018583015012561 cbdc, and 0.0 bank_notes\n",
      "CBDC settlement of household_4_0 to 11.34660532761616 complete\n",
      "Bank Notes settlement of household_4_0 to 0.0 complete\n",
      "household_4_0 chose 12.65339467238384 deposits, 11.34660532761616 cbdc, and 0.0 bank_notes\n",
      "measurements/test_output.xml\n",
      "household_5_0s paid 12.264575987499587f of cbdc to central_banks for household_7_1s at time 1d.\n",
      "central_banks settled 12.264575987499587f of cbdc to household_7_1s at time 1d.\n",
      "household_7_1s paid 19.132013548807034f of cbdc to central_banks for household_0_0s at time 1d.\n",
      "central_banks settled 19.132013548807034f of cbdc to household_0_0s at time 1d.\n",
      "household_7_1s paid 0.0f of cbdc to central_banks for household_0_0s at time 1d.\n",
      "central_banks settled 0.0f of cbdc to household_0_0s at time 1d.\n",
      "household_7_1s paid 4.623187582927418 to bank_1 for household_0_0 at time 1.\n",
      "household_0_0s paid 12.76650770752182 to bank_0 for household_4_0 at time 1.\n",
      "household_0_0s paid 1.0389230105544112f of cbdc to central_banks for household_4_0s at time 1d.\n",
      "central_banks settled 1.0389230105544112f of cbdc to household_4_0s at time 1d.\n",
      "bank_0s transferred deposits of 12.76650770752182f to household_4_0s at time 1d.\n",
      "measurements/test_output.xml\n",
      "household_3_0s paid 8.043828337477986 to bank_0 for household_4_0 at time 2.\n",
      "household_1_1s paid 12.329728860284206f of cbdc to central_banks for household_3_0s at time 2d.\n",
      "central_banks settled 12.329728860284206f of cbdc to household_3_0s at time 2d.\n",
      "household_1_1s paid 0.0f of cbdc to central_banks for household_3_0s at time 2d.\n",
      "central_banks settled 0.0f of cbdc to household_3_0s at time 2d.\n",
      "household_1_1s paid 3.12018316712712 to bank_1 for household_3_0 at time 2.\n",
      "household_5_0s paid 7.916171962233544 to bank_0 for household_4_0 at time 2.\n",
      "household_0_0s paid 8.439178354479617f of cbdc to central_banks for household_6_1s at time 2d.\n",
      "central_banks settled 8.439178354479617f of cbdc to household_6_1s at time 2d.\n",
      "household_2_1s paid 8.647013858968393f of cbdc to central_banks for household_4_0s at time 2d.\n",
      "central_banks settled 8.647013858968393f of cbdc to household_4_0s at time 2d.\n",
      "household_4_0s paid 21.032542197138966f of cbdc to central_banks for household_7_1s at time 2d.\n",
      "central_banks settled 21.032542197138966f of cbdc to household_7_1s at time 2d.\n",
      "household_4_0s paid 0.0f of cbdc to central_banks for household_7_1s at time 2d.\n",
      "central_banks settled 0.0f of cbdc to household_7_1s at time 2d.\n",
      "household_4_0s paid 9.367927383749617 to bank_0 for household_7_1 at time 2.\n",
      "bank_0s transferred deposits of 8.043828337477986f to household_4_0s at time 2d.\n",
      "bank_0s transferred deposits of 7.916171962233544f to household_4_0s at time 2d.\n",
      "measurements/test_output.xml\n",
      "household_3_0s paid 15.825323421127008f of cbdc to central_banks for household_6_1s at time 3d.\n",
      "central_banks settled 15.825323421127008f of cbdc to household_6_1s at time 3d.\n",
      "household_7_1s paid 14.972144699813668f of cbdc to central_banks for household_0_0s at time 3d.\n",
      "central_banks settled 14.972144699813668f of cbdc to household_0_0s at time 3d.\n",
      "household_2_1s paid 0.29152993622230206f of cbdc to central_banks for household_4_0s at time 3d.\n",
      "central_banks settled 0.29152993622230206f of cbdc to household_4_0s at time 3d.\n",
      "household_2_1s paid 0.0f of cbdc to central_banks for household_4_0s at time 3d.\n",
      "central_banks settled 0.0f of cbdc to household_4_0s at time 3d.\n",
      "household_2_1s paid 8.477484380468688 to bank_1 for household_4_0 at time 3.\n",
      "household_6_1s paid 27.591802485408582f of cbdc to central_banks for household_5_0s at time 3d.\n",
      "central_banks settled 27.591802485408582f of cbdc to household_5_0s at time 3d.\n",
      "measurements/test_output.xml\n",
      "household_3_0s paid 4.468937170963772f of cbdc to central_banks for household_6_1s at time 4d.\n",
      "central_banks settled 4.468937170963772f of cbdc to household_6_1s at time 4d.\n",
      "household_1_1s paid 2.4784953440079502 to bank_1 for household_2_1 at time 4.\n",
      "household_5_0s paid 12.38466185114784f of cbdc to central_banks for household_7_1s at time 4d.\n",
      "central_banks settled 12.38466185114784f of cbdc to household_7_1s at time 4d.\n",
      "household_7_1s paid 7.608579286632961f of cbdc to central_banks for household_4_0s at time 4d.\n",
      "central_banks settled 7.608579286632961f of cbdc to household_4_0s at time 4d.\n",
      "household_2_1s paid 2.5872590039978176 to bank_1 for household_7_1 at time 4.\n",
      "household_6_1s paid 13.064767659285053 to bank_1 for household_2_1 at time 4.\n",
      "bank_1 settled payment of 9.367927383749617 to household_7_1 at time 4.\n",
      "central_bank RTGSed 9.367927383749617 of reserves to bank_1 at time 2d.\n",
      "bank_0s RTGSed reserves of 9.367927383749617f  to central_banks at time 4d.\n",
      "bank_0 settled payment of 4.623187582927418 to household_0_0 at time 4.\n",
      "central_bank RTGSed 4.623187582927418 of reserves to bank_0 at time 1d.\n",
      "bank_1s RTGSed reserves of 4.623187582927418f  to central_banks at time 4d.\n",
      "bank_0 settled payment of 3.12018316712712 to household_3_0 at time 4.\n",
      "central_bank RTGSed 3.12018316712712 of reserves to bank_0 at time 2d.\n",
      "bank_1s RTGSed reserves of 3.12018316712712f  to central_banks at time 4d.\n",
      "bank_0 settled payment of 8.477484380468688 to household_4_0 at time 4.\n",
      "central_bank RTGSed 8.477484380468688 of reserves to bank_0 at time 3d.\n",
      "bank_1s RTGSed reserves of 8.477484380468688f  to central_banks at time 4d.\n",
      "bank_1s transferred deposits of 2.4784953440079502f to household_2_1s at time 4d.\n",
      "bank_1s transferred deposits of 2.5872590039978176f to household_7_1s at time 4d.\n",
      "bank_1s transferred deposits of 13.064767659285053f to household_2_1s at time 4d.\n",
      "measurements/test_output.xml\n",
      "household_3_0s paid 4.290989322342001 to bank_0 for household_0_0 at time 5.\n",
      "household_5_0s paid 11.641685335428821f of cbdc to central_banks for household_7_1s at time 5d.\n",
      "central_banks settled 11.641685335428821f of cbdc to household_7_1s at time 5d.\n",
      "household_7_1s paid 13.900226463310817f of cbdc to central_banks for household_0_0s at time 5d.\n",
      "central_banks settled 13.900226463310817f of cbdc to household_0_0s at time 5d.\n",
      "household_2_1s paid 0.0f of cbdc to central_banks for household_5_0s at time 5d.\n",
      "central_banks settled 0.0f of cbdc to household_5_0s at time 5d.\n",
      "household_2_1s paid 0.0f of cbdc to central_banks for household_5_0s at time 5d.\n",
      "central_banks settled 0.0f of cbdc to household_5_0s at time 5d.\n",
      "household_2_1s paid 13.608050173867875 to bank_1 for household_5_0 at time 5.\n",
      "household_6_1s paid 7.356712277290921f of cbdc to central_banks for household_3_0s at time 5d.\n",
      "central_banks settled 7.356712277290921f of cbdc to household_3_0s at time 5d.\n",
      "household_4_0s paid 7.900109222855263f of cbdc to central_banks for household_6_1s at time 5d.\n",
      "central_banks settled 7.900109222855263f of cbdc to household_6_1s at time 5d.\n",
      "household_4_0s paid 0.0f of cbdc to central_banks for household_6_1s at time 5d.\n",
      "central_banks settled 0.0f of cbdc to household_6_1s at time 5d.\n",
      "household_4_0s paid 17.52042445374845 to bank_0 for household_6_1 at time 5.\n",
      "bank_0s transferred deposits of 4.290989322342001f to household_0_0s at time 5d.\n",
      "measurements/test_output.xml\n",
      "household_3_0s paid 5.466009365965736 to bank_0 for household_5_0 at time 6.\n",
      "household_5_0s paid 1.940371143373635 to bank_0 for household_3_0 at time 6.\n",
      "household_7_1s paid 8.577938933958182f of cbdc to central_banks for household_0_0s at time 6d.\n",
      "central_banks settled 8.577938933958182f of cbdc to household_0_0s at time 6d.\n",
      "household_7_1s paid 0.0f of cbdc to central_banks for household_0_0s at time 6d.\n",
      "central_banks settled 0.0f of cbdc to household_0_0s at time 6d.\n",
      "household_7_1s paid 6.427282624972545 to bank_1 for household_0_0 at time 6.\n",
      "household_2_1s paid 0.0f of cbdc to central_banks for household_4_0s at time 6d.\n",
      "central_banks settled 0.0f of cbdc to household_4_0s at time 6d.\n",
      "household_2_1s paid 0.0f of cbdc to central_banks for household_4_0s at time 6d.\n",
      "central_banks settled 0.0f of cbdc to household_4_0s at time 6d.\n",
      "household_2_1s paid 1.3754522958316644 to bank_1 for household_4_0 at time 6.\n",
      "household_6_1s paid 1.9166493257023856 to bank_1 for household_2_1 at time 6.\n",
      "household_6_1s paid 4.0023221586832785f of cbdc to central_banks for household_2_1s at time 6d.\n",
      "central_banks settled 4.0023221586832785f of cbdc to household_2_1s at time 6d.\n",
      "household_4_0s paid 14.13146733716195 to bank_0 for household_5_0 at time 6.\n",
      "bank_0s transferred deposits of 5.466009365965736f to household_5_0s at time 6d.\n",
      "bank_0s transferred deposits of 1.940371143373635f to household_3_0s at time 6d.\n",
      "bank_0s transferred deposits of 14.13146733716195f to household_5_0s at time 6d.\n",
      "bank_1s transferred deposits of 1.9166493257023856f to household_2_1s at time 6d.\n",
      "measurements/test_output.xml\n",
      "household_3_0s paid 2.602865713598565 to bank_0 for household_5_0 at time 7.\n",
      "household_3_0s paid 2.0121033648229507f of cbdc to central_banks for household_5_0s at time 7d.\n",
      "central_banks settled 2.0121033648229507f of cbdc to household_5_0s at time 7d.\n",
      "household_1_1s paid 0.0f of cbdc to central_banks for household_0_0s at time 7d.\n",
      "central_banks settled 0.0f of cbdc to household_0_0s at time 7d.\n",
      "household_1_1s paid 0.0f of cbdc to central_banks for household_0_0s at time 7d.\n",
      "central_banks settled 0.0f of cbdc to household_0_0s at time 7d.\n",
      "household_1_1s paid 2.2351161946892435 to bank_1 for household_0_0 at time 7.\n",
      "household_5_0s paid 6.383439448771126f of cbdc to central_banks for household_7_1s at time 7d.\n",
      "central_banks settled 6.383439448771126f of cbdc to household_7_1s at time 7d.\n",
      "household_5_0s paid 0.0f of cbdc to central_banks for household_7_1s at time 7d.\n",
      "central_banks settled 0.0f of cbdc to household_7_1s at time 7d.\n",
      "household_5_0s paid 6.612333121609451 to bank_0 for household_7_1 at time 7.\n",
      "household_7_1s paid 6.383439448771126f of cbdc to central_banks for household_4_0s at time 7d.\n",
      "central_banks settled 6.383439448771126f of cbdc to household_4_0s at time 7d.\n",
      "household_7_1s paid 0.0f of cbdc to central_banks for household_4_0s at time 7d.\n",
      "central_banks settled 0.0f of cbdc to household_4_0s at time 7d.\n",
      "household_7_1s paid 9.250461122755064 to bank_1 for household_4_0 at time 7.\n",
      "household_0_0s paid 43.53277886129914f of cbdc to central_banks for household_6_1s at time 7d.\n",
      "central_banks settled 43.53277886129914f of cbdc to household_6_1s at time 7d.\n",
      "household_2_1s paid 2.7971858683762805 to bank_1 for household_7_1 at time 7.\n",
      "bank_0s transferred deposits of 2.602865713598565f to household_5_0s at time 7d.\n",
      "bank_1s transferred deposits of 2.7971858683762805f to household_7_1s at time 7d.\n",
      "measurements/test_output.xml\n",
      "household_3_0s paid 0.0 to bank_0 for household_0_0 at time 8.\n",
      "household_3_0s paid 3.577848992474192f of cbdc to central_banks for household_0_0s at time 8d.\n",
      "central_banks settled 3.577848992474192f of cbdc to household_0_0s at time 8d.\n",
      "household_0_0s paid 8.914176905269418 to bank_0 for household_5_0 at time 8.\n",
      "household_0_0s paid 7.303448919382049f of cbdc to central_banks for household_5_0s at time 8d.\n",
      "central_banks settled 7.303448919382049f of cbdc to household_5_0s at time 8d.\n",
      "household_2_1s paid 3.0912137926364354f of cbdc to central_banks for household_4_0s at time 8d.\n",
      "central_banks settled 3.0912137926364354f of cbdc to household_4_0s at time 8d.\n",
      "household_4_0s paid 9.474653241407562f of cbdc to central_banks for household_1_1s at time 8d.\n",
      "central_banks settled 9.474653241407562f of cbdc to household_1_1s at time 8d.\n",
      "household_4_0s paid 0.0f of cbdc to central_banks for household_1_1s at time 8d.\n",
      "central_banks settled 0.0f of cbdc to household_1_1s at time 8d.\n",
      "household_4_0s paid 2.2180113202762772 to bank_0 for household_1_1 at time 8.\n",
      "bank_1 settled payment of 17.52042445374845 to household_6_1 at time 8.\n",
      "central_bank RTGSed 17.52042445374845 of reserves to bank_1 at time 5d.\n",
      "bank_0s RTGSed reserves of 17.52042445374845f  to central_banks at time 8d.\n",
      "bank_1 settled payment of 6.612333121609451 to household_7_1 at time 8.\n",
      "central_bank RTGSed 6.612333121609451 of reserves to bank_1 at time 7d.\n",
      "bank_0s RTGSed reserves of 6.612333121609451f  to central_banks at time 8d.\n",
      "bank_0s transferred deposits of 0.0f to household_0_0s at time 8d.\n",
      "bank_0s transferred deposits of 8.914176905269418f to household_5_0s at time 8d.\n",
      "bank_1 settled payment of 2.2180113202762772 to household_1_1 at time 8.\n",
      "central_bank RTGSed 2.2180113202762772 of reserves to bank_1 at time 8d.\n",
      "bank_0s RTGSed reserves of 2.2180113202762772f  to central_banks at time 8d.\n",
      "bank_0 settled payment of 13.608050173867875 to household_5_0 at time 8.\n",
      "central_bank RTGSed 13.608050173867875 of reserves to bank_0 at time 5d.\n",
      "bank_1s RTGSed reserves of 13.608050173867875f  to central_banks at time 8d.\n",
      "bank_0 settled payment of 6.427282624972545 to household_0_0 at time 8.\n",
      "central_bank RTGSed 6.427282624972545 of reserves to bank_0 at time 6d.\n",
      "bank_1s RTGSed reserves of 6.427282624972545f  to central_banks at time 8d.\n",
      "bank_0 settled payment of 1.3754522958316644 to household_4_0 at time 8.\n",
      "central_bank RTGSed 1.3754522958316644 of reserves to bank_0 at time 6d.\n",
      "bank_1s RTGSed reserves of 1.3754522958316644f  to central_banks at time 8d.\n",
      "bank_0 settled payment of 2.2351161946892435 to household_0_0 at time 8.\n",
      "central_bank RTGSed 2.2351161946892435 of reserves to bank_0 at time 7d.\n",
      "bank_1s RTGSed reserves of 2.2351161946892435f  to central_banks at time 8d.\n",
      "bank_0 settled payment of 9.250461122755064 to household_4_0 at time 8.\n",
      "central_bank RTGSed 9.250461122755064 of reserves to bank_0 at time 7d.\n",
      "bank_1s RTGSed reserves of 9.250461122755064f  to central_banks at time 8d.\n",
      "measurements/test_output.xml\n",
      "household_1_1s paid 6.0544877541677575 to bank_1 for household_2_1 at time 9.\n",
      "household_1_1s paid 0.6935020862717982f of cbdc to central_banks for household_2_1s at time 9d.\n",
      "central_banks settled 0.6935020862717982f of cbdc to household_2_1s at time 9d.\n",
      "household_5_0s paid 16.232442371698458 to bank_0 for household_3_0 at time 9.\n",
      "household_7_1s paid 0.0f of cbdc to central_banks for household_5_0s at time 9d.\n",
      "central_banks settled 0.0f of cbdc to household_5_0s at time 9d.\n",
      "household_7_1s paid 0.0f of cbdc to central_banks for household_5_0s at time 9d.\n",
      "central_banks settled 0.0f of cbdc to household_5_0s at time 9d.\n",
      "household_7_1s paid 5.783167706198466 to bank_1 for household_5_0 at time 9.\n",
      "bank_0s transferred deposits of 16.232442371698458f to household_3_0s at time 9d.\n",
      "bank_1s transferred deposits of 6.0544877541677575f to household_2_1s at time 9d.\n"
     ]
    }
   ],
   "source": [
    "for i in range(int(environment.num_simulations)):\n",
    "    logging.info('  STARTED with run %s',  str(i))\n",
    "    environment.initialize(environment_directory,  identifier)\n",
    "    runner.initialize(environment)\n",
    "    \n",
    "    runner.do_run(environment)\n",
    "    logging.info('  DONE')"
   ]
  },
  {
   "cell_type": "code",
   "execution_count": 102,
   "metadata": {},
   "outputs": [],
   "source": [
    "import pandas as pd\n",
    "thesis_data = pd.read_csv('measurements/TestMeasurement.csv', index_col=0) "
   ]
  },
  {
   "cell_type": "code",
   "execution_count": 103,
   "metadata": {},
   "outputs": [
    {
     "name": "stdout",
     "output_type": "stream",
     "text": [
      "      Deposit Balance        B_0        B_1  B_2  B_3  B_4  Total_Payments  \\\n",
      "Step                                                                         \n",
      "1          110.538291  51.692584  58.845707  NaN  NaN  NaN        0.000000   \n",
      "2          105.915103  51.692584  54.222519  NaN  NaN  NaN       49.825208   \n",
      "3           93.426993  42.324657  51.102336  NaN  NaN  NaN      128.721782   \n",
      "\n",
      "      CBDC Balance  Batch Balance  CBDC_Payments  Deposits_Payments  \n",
      "Step                                                                 \n",
      "1        81.461709       0.000000       0.000000           0.000000  \n",
      "2        81.461709       4.623188      32.435513          17.389695  \n",
      "3        81.461709      17.111298      82.883976          45.837806  \n",
      "      Deposit Balance        B_0        B_1  B_2  B_3  B_4  Total_Payments  \\\n",
      "Step                                                                         \n",
      "7           71.607081  41.025087  30.581994  NaN  NaN  NaN      358.528458   \n",
      "8           53.509171  34.412754  19.096417  NaN  NaN  NaN      440.338181   \n",
      "9          110.538291  65.091105  45.447186  NaN  NaN  NaN      474.917534   \n",
      "10         104.755123  65.091105  39.664018  NaN  NaN  NaN      503.681134   \n",
      "\n",
      "      CBDC Balance  Batch Balance  CBDC_Payments  Deposits_Payments  \n",
      "Step                                                                 \n",
      "7        81.461709      38.931210     219.405949         139.122509  \n",
      "8        81.461709      57.029120     277.717710         162.620471  \n",
      "9        81.461709       0.000000     301.164875         173.752659  \n",
      "10       81.461709       5.783168     301.858377         201.822757  \n"
     ]
    }
   ],
   "source": [
    "print(thesis_data.head(3))\n",
    "print(thesis_data.tail(4))"
   ]
  },
  {
   "cell_type": "markdown",
   "metadata": {},
   "source": [
    "Check consistency of Households, Banks and Central Bank"
   ]
  },
  {
   "cell_type": "code",
   "execution_count": 104,
   "metadata": {},
   "outputs": [
    {
     "name": "stdout",
     "output_type": "stream",
     "text": [
      "True\n",
      "True\n",
      "True\n"
     ]
    }
   ],
   "source": [
    "bank = True\n",
    "for banks in environment.banks:\n",
    "    bank *= banks.check_consistency()\n",
    "if bank:\n",
    "    print(\"True\")\n",
    "else:\n",
    "    print(\"False\")\n",
    "\n",
    "house = True\n",
    "for houses in environment.banks:\n",
    "    house *= houses.check_consistency()\n",
    "if house:\n",
    "    print(\"True\")\n",
    "else:\n",
    "    print(\"False\")\n",
    "\n",
    "print(environment.central_bank[0].check_consistency())"
   ]
  },
  {
   "cell_type": "code",
   "execution_count": 105,
   "metadata": {},
   "outputs": [],
   "source": [
    "import matplotlib.pyplot as plt"
   ]
  },
  {
   "cell_type": "code",
   "execution_count": 106,
   "metadata": {},
   "outputs": [
    {
     "name": "stderr",
     "output_type": "stream",
     "text": [
      "/var/folders/nx/sfr0g06x255301jlc_nyn7c00000gn/T/ipykernel_1474/2410003915.py:3: FutureWarning: In a future version of pandas all arguments of DataFrame.drop except for the argument 'labels' will be keyword-only\n",
      "  ax.plot(thesis_data.index, thesis_data.drop([\"Total_Payments\", \"CBDC Balance\", \"Batch Balance\", \"CBDC_Payments\", \"Deposits_Payments\"], 1))\n"
     ]
    },
    {
     "data": {
      "image/png": "[encoded data removed]",
      "text/plain": [
       "<Figure size 720x432 with 1 Axes>"
      ]
     },
     "metadata": {
      "needs_background": "light"
     },
     "output_type": "display_data"
    }
   ],
   "source": [
    "fig, ax = plt.subplots(nrows=1, ncols=1, figsize=(10,6))\n",
    "\n",
    "ax.plot(thesis_data.index, thesis_data.drop([\"Total_Payments\", \"CBDC Balance\", \"Batch Balance\", \"CBDC_Payments\", \"Deposits_Payments\"], 1))\n",
    "ax.set_xlabel('Time', fontsize='14')\n",
    "ax.set_ylabel('Balance', fontsize='14')\n",
    "ax.legend(['Household Balance', 'B_0', 'B_1']) #, 'B_2', 'B_3', 'B_4'])\n",
    "\n",
    "fig.savefig('deposit_balances.png')"
   ]
  },
  {
   "cell_type": "code",
   "execution_count": 107,
   "metadata": {},
   "outputs": [
    {
     "data": {
      "image/png": "[encoded data removed]",
      "text/plain": [
       "<Figure size 432x288 with 1 Axes>"
      ]
     },
     "metadata": {},
     "output_type": "display_data"
    }
   ],
   "source": [
    "import networkx as nx\n",
    "nx.draw_shell(environment.network)"
   ]
  },
  {
   "cell_type": "code",
   "execution_count": null,
   "metadata": {},
   "outputs": [],
   "source": []
  }
 ],
 "metadata": {
  "interpreter": {
   "hash": "d4806bff4a844a3c1d6cecab0e681fdf35ff66f2077edc5510564ef94e7176f8"
  },
  "kernelspec": {
   "display_name": "Python 3.9.2 64-bit ('venv': venv)",
   "name": "python3"
  },
  "language_info": {
   "codemirror_mode": {
    "name": "ipython",
    "version": 3
   },
   "file_extension": ".py",
   "mimetype": "text/x-python",
   "name": "python",
   "nbconvert_exporter": "python",
   "pygments_lexer": "ipython3",
   "version": "3.9.2"
  }
 },
 "nbformat": 4,
 "nbformat_minor": 2
}
