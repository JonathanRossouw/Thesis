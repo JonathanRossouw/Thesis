{
 "cells": [
  {
   "cell_type": "markdown",
   "metadata": {},
   "source": [
    "# CBDC ABM Simulation Initialization\n",
    "\n",
    "This notebook contains the initialization steps for the CBDC simulation when running the simulation .py script.\n",
    "\n",
    "The simulation for a toy economy that consists of a number of households, firms, banks and a central bank. Households are employed at firms, are paid for labour, produce output and purchase output. Wages are paid and output is paid for using a combination of deposits at banks and Central Bank Digital Currency.\n",
    "\n",
    "## Configuring the model\n",
    "\n",
    "The parameter_values below can be specified for different simulations."
   ]
  },
  {
   "cell_type": "code",
   "execution_count": 303,
   "metadata": {},
   "outputs": [],
   "source": [
    "import xml.etree.ElementTree as ET"
   ]
  },
  {
   "cell_type": "markdown",
   "metadata": {},
   "source": [
    "Below you will find the parameter inputs for this model. Change the parameter values for different configurations of the model."
   ]
  },
  {
   "cell_type": "code",
   "execution_count": 304,
   "metadata": {},
   "outputs": [],
   "source": [
    "parameter_values = (('num_sweeps', '366'),\n",
    "                    ('num_simulations', '1'),\n",
    "                    ('num_households', '202'),\n",
    "                    ('num_firms', '4'),\n",
    "                    ('num_banks', '2'),\n",
    "                    ('num_central_bank', '1'),\n",
    "                    ('batch', '1'),\n",
    "                    ('household_directory', 'agents/gen_households/'),\n",
    "                    ('firm_directory', 'agents/gen_firms/'),\n",
    "                    ('bank_directory', 'agents/gen_banks/'),\n",
    "                    ('central_bank_directory', 'agents/central_bank/'),\n",
    "                    ('measurement_config', 'measurements/test_output.xml')\n",
    "                   )"
   ]
  },
  {
   "cell_type": "markdown",
   "metadata": {},
   "source": [
    "To translate this to an xml document, which the framework can read, we first need create an ET element. "
   ]
  },
  {
   "cell_type": "code",
   "execution_count": 305,
   "metadata": {},
   "outputs": [],
   "source": [
    "environment = ET.Element('environment', identifier = \"CBDC_parameters\")"
   ]
  },
  {
   "cell_type": "markdown",
   "metadata": {},
   "source": [
    "And create parameter elements and give them the values seen below to add to the tree object."
   ]
  },
  {
   "cell_type": "code",
   "execution_count": 306,
   "metadata": {},
   "outputs": [],
   "source": [
    "parameters = []\n",
    "for x in range(len(parameter_values)):\n",
    "    parameters.append(ET.SubElement(environment, 'parameter'))\n",
    "    \n",
    "for idx, p in enumerate(parameters):\n",
    "    p.set('type', 'static')\n",
    "    p.set('name', parameter_values[idx][0])\n",
    "    p.set('value', parameter_values[idx][1])"
   ]
  },
  {
   "cell_type": "markdown",
   "metadata": {},
   "source": [
    "This object can now be transformed to a string and written to an xml file using the code below. "
   ]
  },
  {
   "cell_type": "code",
   "execution_count": 307,
   "metadata": {},
   "outputs": [],
   "source": [
    "xml_params = ET.tostring(environment, encoding=\"UTF-8\")\n",
    "myfile = open(\"environments/CBDC_parameters.xml\", \"w\")\n",
    "xml_params = \"<?xml version='1.0' encoding='UTF-8'?>\\n\" + str(xml_params, encoding = \"UTF-8\")\n",
    "myfile.write(xml_params)\n",
    "myfile.close()"
   ]
  },
  {
   "cell_type": "markdown",
   "metadata": {},
   "source": [
    "Generate banks and households using the generate agents class. First remove any agents still in directories. Then generate agents, the number of households and banks needs to be specified. In the generate banks method, the number of banks is the second argument. In the generate households method, the number of households it the second argument and the number of banks is the thrid argument."
   ]
  },
  {
   "cell_type": "code",
   "execution_count": 310,
   "metadata": {},
   "outputs": [],
   "source": [
    "import os\n",
    "remove = True\n",
    "\n",
    "bank_dir = os.getcwd()+'/agents/gen_banks/'\n",
    "house_dir = os.getcwd()+'/agents/gen_households/'\n",
    "firm_dir = os.getcwd()+'/agents/gen_firms/'\n",
    "if remove:\n",
    "    bank_list = [ f for f in os.listdir(bank_dir) if f.startswith(\"bank\") ]\n",
    "    house_list = [ f for f in os.listdir(house_dir) if f.startswith(\"house\") ]\n",
    "    firm_list = [ f for f in os.listdir(firm_dir) if f.startswith(\"firm\") ]\n",
    "for f in bank_list:\n",
    "    os.remove(os.path.join(bank_dir, f))\n",
    "for f in house_list:\n",
    "    os.remove(os.path.join(house_dir, f))\n",
    "for f in firm_list:\n",
    "    os.remove(os.path.join(firm_dir, f))"
   ]
  },
  {
   "cell_type": "code",
   "execution_count": 311,
   "metadata": {},
   "outputs": [],
   "source": [
    "from src.br_generate_agents import Generate_Agents\n",
    "gen_agents = Generate_Agents()\n",
    "\n",
    "gen_agents.generate_households(parameter_values[2][1], \"./agents/gen_households/\")\n",
    "\n",
    "gen_agents.generate_firms(parameter_values[3][1], \"./agents/gen_firms/\")\n",
    "\n",
    "gen_agents.generate_banks(parameter_values[4][1], \"./agents/gen_banks/\")"
   ]
  },
  {
   "cell_type": "markdown",
   "metadata": {},
   "source": [
    "## Run Simulation\n",
    "\n",
    "- Source the virtual environment: \"source venv/bin/activate\"\n",
    "- Open thesis folder: \"cd thesis\"\n",
    "- Run simulation: \"python3.9 sim_script.py 'environments/' 'CBDC_parameters' 'log/\""
   ]
  }
 ],
 "metadata": {
  "interpreter": {
   "hash": "d4806bff4a844a3c1d6cecab0e681fdf35ff66f2077edc5510564ef94e7176f8"
  },
  "kernelspec": {
   "display_name": "Python 3.9.2 64-bit ('venv': venv)",
   "name": "python3"
  },
  "language_info": {
   "codemirror_mode": {
    "name": "ipython",
    "version": 3
   },
   "file_extension": ".py",
   "mimetype": "text/x-python",
   "name": "python",
   "nbconvert_exporter": "python",
   "pygments_lexer": "ipython3",
   "version": "3.9.2"
  }
 },
 "nbformat": 4,
 "nbformat_minor": 2
}
