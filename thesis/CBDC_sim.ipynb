{
 "cells": [
  {
   "cell_type": "markdown",
   "metadata": {},
   "source": [
    "# CBDC ABM Simulation\n",
    "\n",
    "This notebook contains a simulation for a toy economy that consists of a number of households, firms, banks and a central bank. Households are employed at firms, are paid wages for labour, produce output and purchase output. Wages are paid and output is paid for using a combination of deposits at banks and Central Bank Digital Currency.\n",
    "\n",
    "## Configuring the model\n",
    "\n",
    "The parameter_values below can be specified for different simulations."
   ]
  },
  {
   "cell_type": "code",
   "execution_count": 206,
   "metadata": {},
   "outputs": [],
   "source": [
    "import xml.etree.ElementTree as ET"
   ]
  },
  {
   "cell_type": "markdown",
   "metadata": {},
   "source": [
    "Below you will find the parameter inputs for this model. Change the parameter values for different configurations of the model."
   ]
  },
  {
   "cell_type": "code",
   "execution_count": 207,
   "metadata": {},
   "outputs": [],
   "source": [
    "parameter_values = (('num_sweeps', '2'),\n",
    "                    ('num_simulations', '1'),\n",
    "                    ('num_households', '12'),\n",
    "                    ('num_firms', '4'),\n",
    "                    ('num_banks', '2'),\n",
    "                    ('num_central_bank', '1'),\n",
    "                    ('batch', '1'),\n",
    "                    ('household_directory', 'agents/gen_households/'),\n",
    "                    ('firm_directory', 'agents/gen_firms/'),\n",
    "                    ('bank_directory', 'agents/gen_banks/'),\n",
    "                    ('central_bank_directory', 'agents/central_bank/'),\n",
    "                    ('measurement_config', 'measurements/test_output.xml')\n",
    "                   )"
   ]
  },
  {
   "cell_type": "markdown",
   "metadata": {},
   "source": [
    "To translate this to an xml document, which the framework can read, we first need create an ET element. "
   ]
  },
  {
   "cell_type": "code",
   "execution_count": 208,
   "metadata": {},
   "outputs": [],
   "source": [
    "environment = ET.Element('environment', identifier = \"CBDC_parameters\")"
   ]
  },
  {
   "cell_type": "markdown",
   "metadata": {},
   "source": [
    "And create parameter elements and give them the values seen below to add to the tree object."
   ]
  },
  {
   "cell_type": "code",
   "execution_count": 209,
   "metadata": {},
   "outputs": [],
   "source": [
    "parameters = []\n",
    "for x in range(len(parameter_values)):\n",
    "    parameters.append(ET.SubElement(environment, 'parameter'))\n",
    "    \n",
    "for idx, p in enumerate(parameters):\n",
    "    p.set('type', 'static')\n",
    "    p.set('name', parameter_values[idx][0])\n",
    "    p.set('value', parameter_values[idx][1])"
   ]
  },
  {
   "cell_type": "markdown",
   "metadata": {},
   "source": [
    "This object can now be transformed to a string and written to an xml file using the code below. "
   ]
  },
  {
   "cell_type": "code",
   "execution_count": 210,
   "metadata": {},
   "outputs": [],
   "source": [
    "xml_params = ET.tostring(environment, encoding=\"UTF-8\")\n",
    "myfile = open(\"environments/CBDC_parameters.xml\", \"w\")\n",
    "xml_params = \"<?xml version='1.0' encoding='UTF-8'?>\\n\" + str(xml_params, encoding = \"UTF-8\")\n",
    "myfile.write(xml_params)\n",
    "myfile.close()"
   ]
  },
  {
   "cell_type": "markdown",
   "metadata": {},
   "source": [
    "Now, the parameter xml file has been generated and the model can be run. Before, running the model, you need to import a couple of extra modules. These are the Python logging module, the Black Rhino environment class, and the Black Rhino runner class."
   ]
  },
  {
   "cell_type": "code",
   "execution_count": 211,
   "metadata": {},
   "outputs": [],
   "source": [
    "import logging\n",
    "import os\n",
    "from src.environment import Environment\n",
    "from src.runner import Runner"
   ]
  },
  {
   "cell_type": "markdown",
   "metadata": {},
   "source": [
    "Then, before running the model, the logger needs to be initialized."
   ]
  },
  {
   "cell_type": "code",
   "execution_count": 212,
   "metadata": {},
   "outputs": [],
   "source": [
    "log_directory = \"log/\"\n",
    "identifier = \"/CBDC_parameters\"\n",
    "environment_directory = \"environments/\"\n",
    "if not os.path.exists('log'):\n",
    "    os.makedirs('log')\n",
    "logging.basicConfig(format='%(asctime)s %(message)s', datefmt='%m/%d/%Y %H:%M:%S',\n",
    "                    filename=log_directory + identifier + \".log\", level=logging.INFO)\n",
    "logging.info('START logging for run: %s',  environment_directory + identifier + \".xml\")"
   ]
  },
  {
   "cell_type": "markdown",
   "metadata": {},
   "source": [
    "Generate banks and households using the generate agents class. First remove any agents still in directories. Then generate agents, the number of households and banks needs to be specified. In the generate banks method, the number of banks is the second argument. In the generate households method, the number of households it the second argument and the number of banks is the thrid argument."
   ]
  },
  {
   "cell_type": "code",
   "execution_count": 213,
   "metadata": {},
   "outputs": [],
   "source": [
    "import os\n",
    "remove = True\n",
    "\n",
    "bank_dir = os.getcwd()+'/agents/gen_banks/'\n",
    "house_dir = os.getcwd()+'/agents/gen_households/'\n",
    "firm_dir = os.getcwd()+'/agents/gen_firms/'\n",
    "if remove:\n",
    "    bank_list = [ f for f in os.listdir(bank_dir) if f.startswith(\"bank\") ]\n",
    "    house_list = [ f for f in os.listdir(house_dir) if f.startswith(\"house\") ]\n",
    "    firm_list = [ f for f in os.listdir(firm_dir) if f.startswith(\"firm\") ]\n",
    "for f in bank_list:\n",
    "    os.remove(os.path.join(bank_dir, f))\n",
    "for f in house_list:\n",
    "    os.remove(os.path.join(house_dir, f))\n",
    "for f in firm_list:\n",
    "    os.remove(os.path.join(firm_dir, f))"
   ]
  },
  {
   "cell_type": "code",
   "execution_count": 214,
   "metadata": {},
   "outputs": [],
   "source": [
    "from src.br_generate_agents import Generate_Agents\n",
    "gen_agents = Generate_Agents()\n",
    "\n",
    "gen_agents.generate_households(parameter_values[2][1], \"./agents/gen_households/\")\n",
    "\n",
    "gen_agents.generate_firms(parameter_values[3][1], \"./agents/gen_firms/\")\n",
    "\n",
    "gen_agents.generate_banks(parameter_values[4][1], \"./agents/gen_banks/\")"
   ]
  },
  {
   "cell_type": "markdown",
   "metadata": {},
   "source": [
    "First, the environment will be initialized. It contains the model parameters and variables. The environment also contains a list of agents. In the Solow model, the environment contains one bank, one firm, and one household. Finally, it also contains initialized transactions for these agents."
   ]
  },
  {
   "cell_type": "code",
   "execution_count": 215,
   "metadata": {},
   "outputs": [],
   "source": [
    "environment = Environment(environment_directory, identifier)\n"
   ]
  },
  {
   "cell_type": "markdown",
   "metadata": {},
   "source": [
    "Import GDP data for calibration. Data is average GDP per firm per employee over 4000 (The mean of the labour distribution)."
   ]
  },
  {
   "cell_type": "code",
   "execution_count": 216,
   "metadata": {},
   "outputs": [],
   "source": [
    "# importing the module\n",
    "import json\n",
    "  \n",
    "# Opening JSON file\n",
    "with open('gdp.json') as json_file:\n",
    "    gdp_calibrate = json.load(json_file)\n",
    "environment.gdp_calibrate = gdp_calibrate"
   ]
  },
  {
   "cell_type": "markdown",
   "metadata": {},
   "source": [
    "Next up, the runner object is created. As the name suggests, the runner object handles the running of the model. But that is not all, it also initializes the updater."
   ]
  },
  {
   "cell_type": "code",
   "execution_count": 217,
   "metadata": {},
   "outputs": [],
   "source": [
    "runner = Runner(environment)"
   ]
  },
  {
   "cell_type": "markdown",
   "metadata": {},
   "source": [
    "Now you can actually run the model. Since the agent-based model is simulated using Monte Carlo methods. This means that the model will be run multiple times (num_simulations). For every simulation run, the environment and runner will be (re-)initialized. Then, the runner will run the Solow model. During the run, the runner will write data about capital to a csv file specified within the Measurement class and print out all the transactions happening and the books of firm and household at the end of each sweep."
   ]
  },
  {
   "cell_type": "code",
   "execution_count": 218,
   "metadata": {
    "tags": []
   },
   "outputs": [
    {
     "name": "stdout",
     "output_type": "stream",
     "text": [
      "measurements/test_output.xml\n",
      "\n",
      "2292.538 new loan from bank_0 to firm_0 for capitalizing bank\n",
      "\n",
      "household_7 took out new loan of 9170.152 at bank_0\n",
      "\n",
      "2806.522 new loan from bank_1 to firm_1 for capitalizing bank\n",
      "\n",
      "household_6 took out new loan of 11226.088 at bank_1\n",
      "\n",
      "1457.8795 new loan from bank_0 to firm_1 for capitalizing bank\n",
      "\n",
      "household_4 took out new loan of 5831.518 at bank_0\n",
      "\n",
      "1655.739 new loan from bank_1 to firm_0 for capitalizing bank\n",
      "\n",
      "household_5 took out new loan of 6622.956 at bank_1\n",
      "\n",
      "1833.2445 new loan from bank_0 to firm_0 for capitalizing bank\n",
      "\n",
      "household_1 took out new loan of 7332.978 at bank_0\n",
      "\n",
      "2639.733 new loan from bank_1 to firm_3 for capitalizing bank\n",
      "\n",
      "household_0 took out new loan of 10558.932 at bank_1\n",
      "\n",
      "4650.28 new loan from bank_1 to firm_2 for capitalizing bank\n",
      "\n",
      "household_2 took out new loan of 18601.12 at bank_1\n",
      "\n",
      "889.0095 new loan from bank_0 to firm_1 for capitalizing bank\n",
      "\n",
      "household_3 took out new loan of 3556.038 at bank_0\n",
      "\n",
      "3436.954 new loan from bank_1 to firm_2 for capitalizing bank\n",
      "\n",
      "household_10 took out new loan of 13747.816 at bank_1\n",
      "\n",
      "1878.9795 new loan from bank_1 to firm_1 for capitalizing bank\n",
      "\n",
      "household_11 took out new loan of 7515.918 at bank_1\n",
      "\n",
      "1372.3175 new loan from bank_1 to firm_1 for capitalizing bank\n",
      "\n",
      "household_8 took out new loan of 5489.27 at bank_1\n",
      "\n",
      "1396.1245 new loan from bank_1 to firm_3 for capitalizing bank\n",
      "\n",
      "household_9 took out new loan of 5584.498 at bank_1\n",
      "\n",
      "firm_3 took out new loan of 30000.0 at bank_0\n",
      "\n",
      "firm_2 took out new loan of 30000.0 at bank_1\n",
      "\n",
      "firm_0 took out new loan of 30000.0 at bank_0\n",
      "\n",
      "firm_1 took out new loan of 30000.0 at bank_1\n",
      "\n",
      "bank_0 has 17178.1372 reserves, and 17178.1372 Open Market Operations\n",
      "\n",
      "bank_1 has 27869.319600000003 reserves, and 27869.319600000003 Open Market Operations\n",
      "\n",
      "CBDC settlement of 4585.076 to household_7 complete\n",
      "\n",
      " Bank Notes settlement of 0.0 to household_7 complete\n",
      "\n",
      "household_7 chose 4585.076 deposits, 4585.076 cbdc, and 0.0 bank_notes\n",
      "\n",
      "CBDC settlement of 5613.044 to household_6 complete\n",
      "\n",
      " Bank Notes settlement of 0.0 to household_6 complete\n",
      "\n",
      "household_6 chose 5613.044 deposits, 5613.044 cbdc, and 0.0 bank_notes\n",
      "\n",
      "CBDC settlement of 2915.759 to household_4 complete\n",
      "\n",
      " Bank Notes settlement of 0.0 to household_4 complete\n",
      "\n",
      "household_4 chose 2915.759 deposits, 2915.759 cbdc, and 0.0 bank_notes\n",
      "\n",
      "CBDC settlement of 3311.478 to household_5 complete\n",
      "\n",
      " Bank Notes settlement of 0.0 to household_5 complete\n",
      "\n",
      "household_5 chose 3311.478 deposits, 3311.478 cbdc, and 0.0 bank_notes\n",
      "\n",
      "CBDC settlement of 3666.489 to household_1 complete\n",
      "\n",
      " Bank Notes settlement of 0.0 to household_1 complete\n",
      "\n",
      "household_1 chose 3666.489 deposits, 3666.489 cbdc, and 0.0 bank_notes\n",
      "\n",
      "CBDC settlement of 5279.466 to household_0 complete\n",
      "\n",
      " Bank Notes settlement of 0.0 to household_0 complete\n",
      "\n",
      "household_0 chose 5279.466 deposits, 5279.466 cbdc, and 0.0 bank_notes\n",
      "\n",
      "CBDC settlement of 9300.56 to household_2 complete\n",
      "\n",
      " Bank Notes settlement of 0.0 to household_2 complete\n",
      "\n",
      "household_2 chose 9300.56 deposits, 9300.56 cbdc, and 0.0 bank_notes\n",
      "\n",
      "CBDC settlement of 1778.019 to household_3 complete\n",
      "\n",
      " Bank Notes settlement of 0.0 to household_3 complete\n",
      "\n",
      "household_3 chose 1778.019 deposits, 1778.019 cbdc, and 0.0 bank_notes\n",
      "\n",
      "CBDC settlement of 6873.908 to household_10 complete\n",
      "\n",
      " Bank Notes settlement of 0.0 to household_10 complete\n",
      "\n",
      "household_10 chose 6873.908 deposits, 6873.908 cbdc, and 0.0 bank_notes\n",
      "\n",
      "CBDC settlement of 3757.959 to household_11 complete\n",
      "\n",
      " Bank Notes settlement of 0.0 to household_11 complete\n",
      "\n",
      "household_11 chose 3757.959 deposits, 3757.959 cbdc, and 0.0 bank_notes\n",
      "\n",
      "CBDC settlement of 2744.635 to household_8 complete\n",
      "\n",
      " Bank Notes settlement of 0.0 to household_8 complete\n",
      "\n",
      "household_8 chose 2744.635 deposits, 2744.635 cbdc, and 0.0 bank_notes\n",
      "\n",
      "CBDC settlement of 2792.249 to household_9 complete\n",
      "\n",
      " Bank Notes settlement of 0.0 to household_9 complete\n",
      "\n",
      "household_9 chose 2792.249 deposits, 2792.249 cbdc, and 0.0 bank_notes\n",
      "\n",
      "CBDC settlement of 15000.0 to firm_3 complete\n",
      "\n",
      " Bank Notes settlement of 0.0 to firm_3 complete\n",
      "\n",
      "firm_3 chose 15000.0 deposits, 15000.0 cbdc, and 0.0 bank_notes\n",
      "\n",
      "CBDC settlement of 15000.0 to firm_2 complete\n",
      "\n",
      " Bank Notes settlement of 0.0 to firm_2 complete\n",
      "\n",
      "firm_2 chose 15000.0 deposits, 15000.0 cbdc, and 0.0 bank_notes\n",
      "\n",
      "CBDC settlement of 15000.0 to firm_0 complete\n",
      "\n",
      " Bank Notes settlement of 0.0 to firm_0 complete\n",
      "\n",
      "firm_0 chose 15000.0 deposits, 15000.0 cbdc, and 0.0 bank_notes\n",
      "\n",
      "CBDC settlement of 15000.0 to firm_1 complete\n",
      "\n",
      " Bank Notes settlement of 0.0 to firm_1 complete\n",
      "\n",
      "firm_1 chose 15000.0 deposits, 15000.0 cbdc, and 0.0 bank_notes\n",
      "measurements/test_output.xml\n",
      "\n",
      "firm_3 employed 8071.715 units of labour from 2 households at time 1\n",
      "\n",
      "firm_3 took out new loan of 8092.619127507 at bank_0\n",
      "\n",
      "firm_3 produced 8093.0 units of output using 15000.0 units of capital and 8071.715 units of labour at time 1.\n",
      "\n",
      "5293.0 units output agreement with household_0\n",
      "\n",
      "2799.0 units output agreement with household_9\n",
      "\n",
      " PRODUCTION firm_3!!! \n",
      "\n",
      "\n",
      "firm_2 employed 16174.468 units of labour from 2 households at time 1\n",
      "\n",
      "firm_2 took out new loan of 16216.3566372264 at bank_1\n",
      "\n",
      "firm_2 produced 16216.0 units of output using 15000.0 units of capital and 16174.468 units of labour at time 1.\n",
      "\n",
      "9325.0 units output agreement with household_2\n",
      "\n",
      "6892.0 units output agreement with household_10\n",
      "\n",
      " PRODUCTION firm_2!!! \n",
      "\n",
      "\n",
      "firm_0 employed 11563.043 units of labour from 3 households at time 1\n",
      "\n",
      "firm_0 took out new loan of 11592.9889687614 at bank_0\n",
      "\n",
      "firm_0 produced 11593.0 units of output using 15000.0 units of capital and 11563.043 units of labour at time 1.\n",
      "\n",
      "4597.0 units output agreement with household_7\n",
      "\n",
      "3320.0 units output agreement with household_5\n",
      "\n",
      "3676.0 units output agreement with household_1\n",
      "\n",
      " PRODUCTION firm_0!!! \n",
      "\n",
      "\n",
      "firm_1 employed 16809.415999999997 units of labour from 5 households at time 1\n",
      "\n",
      "firm_1 took out new loan of 16852.949025556798 at bank_1\n",
      "\n",
      "firm_1 produced 16853.0 units of output using 15000.0 units of capital and 16809.415999999997 units of labour at time 1.\n",
      "\n",
      "5628.0 units output agreement with household_6\n",
      "\n",
      "2923.0 units output agreement with household_4\n",
      "\n",
      "1783.0 units output agreement with household_3\n",
      "\n",
      "3768.0 units output agreement with household_11\n",
      "\n",
      "2752.0 units output agreement with household_8\n",
      "\n",
      " PRODUCTION firm_1!!! \n",
      "\n",
      "\n",
      "household_7s paid 168.4914681353141f of cbdc to central_banks for firm_0s at time 1d.\n",
      "\n",
      "central_banks settled 168.4914681353141f of cbdc to firm_0s at time 1d.\n",
      "\n",
      "household_7s paid 168.4914681353141 to bank_0 for firm_0 at time 1.\n",
      "\n",
      "336.9829362706282 of output transferred from firm_0 to household_7 at time 1\n",
      "\n",
      " RATION OUTPUT!!! \n",
      "\n",
      "\n",
      "household_4s paid 61.95042436822242f of cbdc to central_banks for firm_2s at time 1d.\n",
      "\n",
      "central_banks settled 61.95042436822242f of cbdc to firm_2s at time 1d.\n",
      "\n",
      "household_4s paid 61.95042436822242 to bank_0 for firm_2 at time 1.\n",
      "\n",
      "123.90084873644484 of output transferred from firm_2 to household_4 at time 1\n",
      "\n",
      " RATION OUTPUT!!! \n",
      "\n",
      "\n",
      "household_2s paid 65.03794623393736f of cbdc to central_banks for firm_1s at time 1d.\n",
      "\n",
      "central_banks settled 65.03794623393736f of cbdc to firm_1s at time 1d.\n",
      "\n",
      "household_2s paid 65.03794623393736 to bank_1 for firm_1 at time 1.\n",
      "\n",
      "130.07589246787472 of output transferred from firm_1 to household_2 at time 1\n",
      "\n",
      " RATION OUTPUT!!! \n",
      "\n",
      "\n",
      "household_3s paid 29.144296201146975f of cbdc to central_banks for firm_2s at time 1d.\n",
      "\n",
      "central_banks settled 29.144296201146975f of cbdc to firm_2s at time 1d.\n",
      "\n",
      "household_3s paid 29.144296201146975 to bank_0 for firm_2 at time 1.\n",
      "\n",
      "58.28859240229395 of output transferred from firm_2 to household_3 at time 1\n",
      "\n",
      " RATION OUTPUT!!! \n",
      "\n",
      "\n",
      "household_11s paid 175.35791000962973f of cbdc to central_banks for firm_0s at time 1d.\n",
      "\n",
      "central_banks settled 175.35791000962973f of cbdc to firm_0s at time 1d.\n",
      "\n",
      "household_11s paid 175.35791000962973 to bank_1 for firm_0 at time 1.\n",
      "\n",
      "350.71582001925947 of output transferred from firm_0 to household_11 at time 1\n",
      "\n",
      " RATION OUTPUT!!! \n",
      "\n",
      "\n",
      "household_8s paid 17.516557424440105f of cbdc to central_banks for firm_3s at time 1d.\n",
      "\n",
      "central_banks settled 17.516557424440105f of cbdc to firm_3s at time 1d.\n",
      "\n",
      "household_8s paid 17.516557424440105 to bank_1 for firm_3 at time 1.\n",
      "\n",
      "35.03311484888021 of output transferred from firm_3 to household_8 at time 1\n",
      "\n",
      " RATION OUTPUT!!! \n",
      "\n",
      "\n",
      " RATION OUTPUT!!! \n",
      "\n",
      "\n",
      "bank_0s transferred deposits of 168.4914681353141f to firm_0s at time 1d.\n",
      "bank_0 settled payment of 175.35791000962973 to firm_0 at time 1.\n",
      "\n",
      " central_bank RTGSed 175.35791000962973 of reserves to bank_0 at time 1d.\n",
      "\n",
      "bank_1s RTGSed reserves of 175.35791000962973f  to central_banks at time 1d.\n",
      "bank_0 settled payment of 17.516557424440105 to firm_3 at time 1.\n",
      "\n",
      " central_bank RTGSed 17.516557424440105 of reserves to bank_0 at time 1d.\n",
      "\n",
      "bank_1s RTGSed reserves of 17.516557424440105f  to central_banks at time 1d.\n",
      "bank_1 settled payment of 61.95042436822242 to firm_2 at time 1.\n",
      "\n",
      " central_bank RTGSed 61.95042436822242 of reserves to bank_1 at time 1d.\n",
      "\n",
      "bank_0s RTGSed reserves of 61.95042436822242f  to central_banks at time 1d.\n",
      "\n",
      "bank_1s transferred deposits of 65.03794623393736f to firm_1s at time 1d.\n",
      "bank_1 settled payment of 29.144296201146975 to firm_2 at time 1.\n",
      "\n",
      " central_bank RTGSed 29.144296201146975 of reserves to bank_1 at time 1d.\n",
      "\n",
      "bank_0s RTGSed reserves of 29.144296201146975f  to central_banks at time 1d.\n",
      "\n",
      " PAYMENT SHOCK!!! \n",
      " \n",
      "\n",
      "household_7 transferred 1360.2199839757238 units of equity to household_11 at time 1.\n",
      "\n",
      "household_7s paid 680.1099919878619 to bank_0 for household_11 at time 1.\n",
      "\n",
      "household_7s paid 680.1099919878619f of cbdc to central_banks for household_11s at time 1d.\n",
      "\n",
      "central_banks settled 680.1099919878619f of cbdc to household_11s at time 1d.\n",
      "\n",
      " PAYMENT SHOCK!!! \n",
      " \n",
      "\n",
      "household_1 transferred 2157.7602278990666 units of equity to household_7 at time 1.\n",
      "\n",
      "household_1s paid 1078.8801139495333 to bank_0 for household_7 at time 1.\n",
      "\n",
      "household_1s paid 1078.8801139495333f of cbdc to central_banks for household_7s at time 1d.\n",
      "\n",
      "central_banks settled 1078.8801139495333f of cbdc to household_7s at time 1d.\n",
      "\n",
      " PAYMENT SHOCK!!! \n",
      " \n",
      "\n",
      "household_0 transferred 1237.7938507619892 units of equity to household_10 at time 1.\n",
      "\n",
      "household_0s paid 618.8969253809946 to bank_1 for household_10 at time 1.\n",
      "\n",
      "household_0s paid 618.8969253809946f of cbdc to central_banks for household_10s at time 1d.\n",
      "\n",
      "central_banks settled 618.8969253809946f of cbdc to household_10s at time 1d.\n",
      "\n",
      " PAYMENT SHOCK!!! \n",
      " \n",
      "\n",
      "household_10 transferred 3604.281069713974 units of equity to household_5 at time 1.\n",
      "\n",
      "household_10s paid 1802.140534856987 to bank_1 for household_5 at time 1.\n",
      "\n",
      "household_10s paid 1802.140534856987f of cbdc to central_banks for household_5s at time 1d.\n",
      "\n",
      "central_banks settled 1802.140534856987f of cbdc to household_5s at time 1d.\n",
      "\n",
      " PAYMENT SHOCK!!! \n",
      " \n",
      "\n",
      "household_11 transferred 2088.7727824876515 units of equity to household_8 at time 1.\n",
      "\n",
      "household_11s paid 1044.3863912438258 to bank_1 for household_8 at time 1.\n",
      "\n",
      "household_11s paid 1044.3863912438258f of cbdc to central_banks for household_8s at time 1d.\n",
      "\n",
      "central_banks settled 1044.3863912438258f of cbdc to household_8s at time 1d.\n",
      "\n",
      " PAYMENT SHOCK!!! \n",
      " \n",
      "\n",
      "household_8 transferred 1504.092545345481 units of equity to household_11 at time 1.\n",
      "\n",
      "household_8s paid 752.0462726727405 to bank_1 for household_11 at time 1.\n",
      "\n",
      "household_8s paid 752.0462726727405f of cbdc to central_banks for household_11s at time 1d.\n",
      "\n",
      "central_banks settled 752.0462726727405f of cbdc to household_11s at time 1d.\n",
      "\n",
      " PAYMENT SHOCK!!! \n",
      " \n",
      "\n",
      "household_9 transferred 1672.7162368781912 units of equity to household_3 at time 1.\n",
      "\n",
      "household_9s paid 836.3581184390956 to bank_1 for household_3 at time 1.\n",
      "\n",
      "household_9s paid 836.3581184390956f of cbdc to central_banks for household_3s at time 1d.\n",
      "\n",
      "central_banks settled 836.3581184390956f of cbdc to household_3s at time 1d.\n",
      "bank_1 settled payment of 680.1099919878619 to household_11 at time 1.\n",
      "\n",
      " central_bank RTGSed 680.1099919878619 of reserves to bank_1 at time 1d.\n",
      "\n",
      "bank_0s RTGSed reserves of 680.1099919878619f  to central_banks at time 1d.\n",
      "\n",
      "bank_0s transferred deposits of 1078.8801139495333f to household_7s at time 1d.\n",
      "\n",
      "bank_1s transferred deposits of 618.8969253809946f to household_10s at time 1d.\n",
      "\n",
      "bank_1s transferred deposits of 1802.140534856987f to household_5s at time 1d.\n",
      "\n",
      "bank_1s transferred deposits of 1044.3863912438258f to household_8s at time 1d.\n",
      "\n",
      "bank_1s transferred deposits of 752.0462726727405f to household_11s at time 1d.\n",
      "bank_0 settled payment of 836.3581184390956 to household_3 at time 1.\n",
      "\n",
      " central_bank RTGSed 836.3581184390956 of reserves to bank_0 at time 1d.\n",
      "\n",
      "bank_1s RTGSed reserves of 836.3581184390956f  to central_banks at time 1d.\n"
     ]
    }
   ],
   "source": [
    "for i in range(int(environment.num_simulations)):\n",
    "    logging.info('  STARTED with run %s',  str(i))\n",
    "    environment.initialize(environment_directory,  identifier)\n",
    "    runner.initialize(environment)\n",
    "    \n",
    "    runner.do_run(environment)\n",
    "    logging.info('  DONE')"
   ]
  },
  {
   "cell_type": "markdown",
   "metadata": {},
   "source": [
    "Check to see if all agents balance sheets are consistent. Rounding erros may result in not all agents having consistent balance sheets."
   ]
  },
  {
   "cell_type": "code",
   "execution_count": 219,
   "metadata": {},
   "outputs": [
    {
     "name": "stdout",
     "output_type": "stream",
     "text": [
      "Not all households have consistent balance sheets\n",
      "Not all firms have consistent balance sheets\n",
      "All banks have consistent balance sheets\n",
      "Central Bank has consistent balance sheets\n"
     ]
    }
   ],
   "source": [
    "house = True\n",
    "for houses in environment.households:\n",
    "    house *= houses.check_consistency()\n",
    "if house:\n",
    "    print(\"All households have consistent balance sheets\")\n",
    "else:\n",
    "    print(\"Not all households have consistent balance sheets\")\n",
    "\n",
    "firm = True\n",
    "for firms in environment.firms:\n",
    "    firm *= firms.check_consistency()\n",
    "if firm:\n",
    "    print(\"All firms have consistent balance sheets\")\n",
    "else:\n",
    "    print(\"Not all firms have consistent balance sheets\")\n",
    "\n",
    "bank = True\n",
    "for banks in environment.banks:\n",
    "    bank *= banks.check_consistency()\n",
    "if bank:\n",
    "    print(\"All banks have consistent balance sheets\")\n",
    "else:\n",
    "    print(\"Not all banks have consistent balance sheets\")\n",
    "\n",
    "if environment.central_bank[0].check_consistency():\n",
    "    print(\"Central Bank has consistent balance sheets\")\n",
    "elif environment.central_bank[0].check_consistency() is False:\n",
    "    print(\"Central Bank does not consistent balance sheets\")"
   ]
  },
  {
   "cell_type": "markdown",
   "metadata": {},
   "source": [
    "Print Balance Sheet for one randomly selected household, firm and bank, and central bank."
   ]
  },
  {
   "cell_type": "code",
   "execution_count": 220,
   "metadata": {},
   "outputs": [
    {
     "name": "stdout",
     "output_type": "stream",
     "text": [
      "household_6 balance sheet\n",
      "                     assets  liabilities\n",
      "capital_firm       2806.522          NaN\n",
      "capital_bank       2806.522          NaN\n",
      "deposits           5613.044          NaN\n",
      "cbdc               5613.044          NaN\n",
      "bank_notes            0.000          NaN\n",
      "output_agreement   5628.000          NaN\n",
      "equity                  NaN   5613.04400\n",
      "loans                   NaN  11226.08800\n",
      "wage_agreement          NaN   5627.58066\n",
      "Total             22467.000  22467.00000\n",
      "firm_1 balance sheet\n",
      "                       assets  liabilities\n",
      "fixed_assets      16809.41600          NaN\n",
      "deposits          31917.98697          NaN\n",
      "cbdc              15065.03795          NaN\n",
      "wage_agreement    16852.94903          NaN\n",
      "capital_firm              NaN   8404.70800\n",
      "loans                     NaN  55257.65703\n",
      "output_agreement          NaN  16854.00000\n",
      "Total             80645.00000  80516.00000\n",
      "bank_0 balance sheet\n",
      "                               assets   liabilities\n",
      "loans                   112048.965596           NaN\n",
      "reserves                 17436.165073           NaN\n",
      "capital_bank                      NaN    6472.67150\n",
      "deposits                          NaN   62888.97897\n",
      "open_market_operations            NaN   60123.48020\n",
      "Total                   129485.000000  129485.00000\n",
      "central_bank balance sheet\n",
      "                             assets  liabilities\n",
      "open_market_operations  157666.0988          NaN\n",
      "reserves                        NaN   45047.4568\n",
      "cbdc                            NaN  112618.6420\n",
      "bank_notes                      NaN       0.0000\n",
      "Total                   157666.0000  157666.0000\n"
     ]
    }
   ],
   "source": [
    "import pandas as pd\n",
    "\n",
    "house = environment.households[1]\n",
    "balance_sheet = house.balance_sheet()\n",
    "mark = pd.DataFrame.from_dict(balance_sheet[house.identifier], orient=\"columns\")\n",
    "mark.loc['Total']= round(mark.sum(), 0)\n",
    "print(f\"{house.identifier} balance sheet\")\n",
    "print(mark)\n",
    "\n",
    "firm = environment.firms[3]\n",
    "balance_sheet = firm.balance_sheet()\n",
    "mark = pd.DataFrame.from_dict(balance_sheet[firm.identifier], orient=\"columns\")\n",
    "mark.loc['Total']= round(mark.sum(), 0)\n",
    "print(f\"{firm.identifier} balance sheet\")\n",
    "print(mark)\n",
    "\n",
    "bank = environment.banks[0]\n",
    "balance_sheet = bank.balance_sheet()\n",
    "mark = pd.DataFrame.from_dict(balance_sheet[bank.identifier], orient=\"columns\")\n",
    "mark.loc['Total']= round(mark.sum(), 0)\n",
    "print(f\"{bank.identifier} balance sheet\")\n",
    "print(mark)\n",
    "\n",
    "central_bank = environment.central_bank[0]\n",
    "balance_sheet = central_bank.balance_sheet()\n",
    "mark = pd.DataFrame.from_dict(balance_sheet[central_bank.identifier], orient=\"columns\")\n",
    "mark.loc['Total']= round(mark.sum(), 0)\n",
    "print(f\"{central_bank.identifier} balance sheet\")\n",
    "print(mark)"
   ]
  },
  {
   "cell_type": "code",
   "execution_count": 221,
   "metadata": {},
   "outputs": [],
   "source": [
    "import pandas as pd\n",
    "thesis_data = pd.read_csv('measurements/TestMeasurement.csv', index_col=0) "
   ]
  },
  {
   "cell_type": "code",
   "execution_count": 222,
   "metadata": {},
   "outputs": [
    {
     "name": "stdout",
     "output_type": "stream",
     "text": [
      "      CBDC_Payments  Deposits_Payments  Total Output\n",
      "Step                                                \n",
      "1     112618.642000      337855.926000           0.0\n",
      "2     127279.275902      405271.473661       52755.0\n",
      "      CBDC_Payments  Deposits_Payments  Total Output\n",
      "Step                                                \n",
      "1     112618.642000      337855.926000           0.0\n",
      "2     127279.275902      405271.473661       52755.0\n"
     ]
    }
   ],
   "source": [
    "print(thesis_data.head(3))\n",
    "print(thesis_data.tail(4))"
   ]
  },
  {
   "cell_type": "code",
   "execution_count": 224,
   "metadata": {},
   "outputs": [],
   "source": [
    "import matplotlib.pyplot as plt"
   ]
  },
  {
   "cell_type": "code",
   "execution_count": 225,
   "metadata": {},
   "outputs": [
    {
     "name": "stderr",
     "output_type": "stream",
     "text": [
      "/var/folders/nx/sfr0g06x255301jlc_nyn7c00000gn/T/ipykernel_64519/2999196067.py:2: FutureWarning: In a future version of pandas all arguments of DataFrame.drop except for the argument 'labels' will be keyword-only\n",
      "  thesis_data_plot = thesis_data.drop([\"Total Output\"], 1).drop([1])\n"
     ]
    },
    {
     "data": {
      "image/png": "[encoded data removed]",
      "text/plain": [
       "<Figure size 720x432 with 1 Axes>"
      ]
     },
     "metadata": {
      "needs_background": "light"
     },
     "output_type": "display_data"
    }
   ],
   "source": [
    "fig, ax = plt.subplots(nrows=1, ncols=1, figsize=(10,6))\n",
    "thesis_data_plot = thesis_data.drop([\"Total Output\"], 1).drop([1])\n",
    "thesis_data_plot = thesis_data_plot.transform(lambda CBDC_Payments: CBDC_Payments * gdp_calibrate[0][\"Num_Firms\"]/800 + gdp_calibrate[0][\"GDP\"])\n",
    "ax.plot(thesis_data_plot.index, thesis_data_plot)\n",
    "ax.set_xlabel('Time', fontsize='14')\n",
    "ax.set_ylabel('Balance', fontsize='14')\n",
    "ax.legend(['CBDC Payments', 'Deposit Payments'])\n",
    "\n",
    "fig.savefig('figures/Deposits_CBDC_Payments.png')"
   ]
  },
  {
   "cell_type": "code",
   "execution_count": 226,
   "metadata": {},
   "outputs": [
    {
     "data": {
      "image/png": "[encoded data removed]",
      "text/plain": [
       "<Figure size 432x288 with 1 Axes>"
      ]
     },
     "metadata": {},
     "output_type": "display_data"
    },
    {
     "data": {
      "image/png": "[encoded data removed]",
      "text/plain": [
       "<Figure size 432x288 with 1 Axes>"
      ]
     },
     "metadata": {},
     "output_type": "display_data"
    },
    {
     "data": {
      "image/png": "[encoded data removed]",
      "text/plain": [
       "<Figure size 432x288 with 1 Axes>"
      ]
     },
     "metadata": {},
     "output_type": "display_data"
    },
    {
     "data": {
      "image/png": "[encoded data removed]",
      "text/plain": [
       "<Figure size 432x288 with 1 Axes>"
      ]
     },
     "metadata": {},
     "output_type": "display_data"
    }
   ],
   "source": [
    "import networkx as nx\n",
    "import matplotlib.pyplot as plt\n",
    "%matplotlib inline\n",
    "# Plot social network\n",
    "nx.draw_shell(environment.social_network)\n",
    "plt.savefig('figures/social_network.png')\n",
    "plt.show()\n",
    "# Plot employment network\n",
    "nx.draw(environment.employment_network)\n",
    "plt.savefig('figures/employment_network.png')\n",
    "plt.show()\n",
    "# Plot consumption network\n",
    "nx.draw(environment.consumption_network)\n",
    "plt.savefig('figures/consumption_network.png')\n",
    "plt.show()\n",
    "# Plot bank network\n",
    "nx.draw(environment.bank_network)\n",
    "plt.savefig('figures/bank_network.png')\n",
    "plt.show()\n"
   ]
  }
 ],
 "metadata": {
  "interpreter": {
   "hash": "d4806bff4a844a3c1d6cecab0e681fdf35ff66f2077edc5510564ef94e7176f8"
  },
  "kernelspec": {
   "display_name": "Python 3.9.2 64-bit ('venv': venv)",
   "name": "python3"
  },
  "language_info": {
   "codemirror_mode": {
    "name": "ipython",
    "version": 3
   },
   "file_extension": ".py",
   "mimetype": "text/x-python",
   "name": "python",
   "nbconvert_exporter": "python",
   "pygments_lexer": "ipython3",
   "version": "3.9.2"
  }
 },
 "nbformat": 4,
 "nbformat_minor": 2
}
