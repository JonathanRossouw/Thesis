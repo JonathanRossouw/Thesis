{
 "cells": [
  {
   "cell_type": "code",
   "execution_count": null,
   "metadata": {},
   "outputs": [],
   "source": [
    "# %load abm_casp.py\n",
    "#!/usr/bin/env python\n",
    "# [SublimeLinter pep8-max-line-length:300]\n",
    "# -*- coding: utf-8 -*-\n",
    "\n",
    "# -------------------------------------------------------------------------\n",
    "#\n",
    "#  MAIN\n",
    "#\n",
    "# -------------------------------------------------------------------------\n",
    "if __name__ == '__main__':\n",
    "    import logging\n",
    "    from src.environment import Environment\n",
    "    from src.runner import Runner\n",
    "\n",
    "    args = [\"configs/environment/\", \"casp\", \"log/\"]\n",
    "\n",
    "#\n",
    "# INITIALIZATION\n",
    "#\n",
    "    environment_directory = str(args[0])\n",
    "    identifier = str(args[1])\n",
    "    log_directory = str(args[2])\n",
    "\n",
    "    # Configure logging parameters so we get output while the program runs\n",
    "    logging.basicConfig(format='%(asctime)s %(message)s', datefmt='%m/%d/%Y %H:%M:%S',\n",
    "                        filename=log_directory + identifier + \".log\", level=logging.INFO)\n",
    "    logging.info(\"START logging\")\n",
    "\n",
    "    logging.info('Instantiate environment object to find environment.static_parameters[\"num_simulations\"]')\n",
    "    environment = Environment(environment_directory, identifier)\n",
    "    logging.info('Instantiate runner object')\n",
    "    runner = Runner(environment)\n",
    "\n",
    "#\n",
    "# UPDATE STEP\n",
    "#\n",
    "    logging.info('Iterating over %s number of simulations ', environment.static_parameters['num_simulations'] )\n",
    "    for i in range(int(environment.static_parameters['num_simulations'])):\n",
    "        # environment.initialize(environment_directory, identifier)  Turns out I don't need to call this as already initialized environment?? Crazy\n",
    "        logging.info('Call runner.initialize to get num_sweeps and pass into runner')\n",
    "\n",
    "        runner.initialize(environment)\n",
    "    #     # do the run\n",
    "        runner.do_run(environment, i)\n"
   ]
  },
  {
   "cell_type": "code",
   "execution_count": null,
   "metadata": {
    "collapsed": true
   },
   "outputs": [],
   "source": []
  },
  {
   "cell_type": "code",
   "execution_count": null,
   "metadata": {
    "collapsed": true
   },
   "outputs": [],
   "source": []
  }
 ],
 "metadata": {
  "kernelspec": {
   "display_name": "Python 2",
   "language": "python",
   "name": "python2"
  },
  "language_info": {
   "codemirror_mode": {
    "name": "ipython",
    "version": 2
   },
   "file_extension": ".py",
   "mimetype": "text/x-python",
   "name": "python",
   "nbconvert_exporter": "python",
   "pygments_lexer": "ipython2",
   "version": "2.7.11"
  }
 },
 "nbformat": 4,
 "nbformat_minor": 2
}
