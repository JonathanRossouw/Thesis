{
 "cells": [
  {
   "cell_type": "code",
   "execution_count": null,
   "metadata": {
    "collapsed": true
   },
   "outputs": [],
   "source": [
    "def model(param): \n",
    "    \n",
    "    initialisation \n",
    "    \n",
    "    for days in num_sweeps:\n",
    "        while not clearing \n",
    "            for fund in environment.funds:\n",
    "               [intermediate] default_probablities, = fund.expectation(returns, rho, V, m, phi, epsilon, theta, phi^p, current_prices)\n",
    "                exp_prices, \n",
    "                exp_exchange,\n",
    "                exp_returns \n",
    "                var_cov_matrix \n",
    "            weights = fund.optimal_portfolio\n",
    "                "
   ]
  }
 ],
 "metadata": {
  "kernelspec": {
   "display_name": "Python 2",
   "language": "python",
   "name": "python2"
  },
  "language_info": {
   "codemirror_mode": {
    "name": "ipython",
    "version": 2
   },
   "file_extension": ".py",
   "mimetype": "text/x-python",
   "name": "python",
   "nbconvert_exporter": "python",
   "pygments_lexer": "ipython2",
   "version": "2.7.14"
  }
 },
 "nbformat": 4,
 "nbformat_minor": 2
}
