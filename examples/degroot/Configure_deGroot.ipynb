{
 "cells": [
  {
   "cell_type": "code",
   "execution_count": 114,
   "metadata": {},
   "outputs": [],
   "source": [
    "import xml.etree.ElementTree as ET\n",
    "import networkx as nx"
   ]
  },
  {
   "cell_type": "markdown",
   "metadata": {},
   "source": [
    "# Configure deGroot Model\n",
    "In this notebook, you can set the parameters of the deGroot model. \n",
    "\n",
    "This notebook is part of three notebooks which can be used to work with the Black Rhino Solow model. These notebooks are:\n",
    "1. **Configure_deGroot notebook**\n",
    "2. Run_deGroot notebook,\n",
    "3. Analyse_deGroot notebook.\n",
    "\n",
    "*The current notebook is highlighted.*\n",
    "\n",
    "In the Black Rhino framework, parameters are stored in xml files. Using this notebook, you can set change them. Below you will find the parameter inputs for this model.  "
   ]
  },
  {
   "cell_type": "code",
   "execution_count": 115,
   "metadata": {},
   "outputs": [],
   "source": [
    "parameter_values = (('num_sweeps', '20'),\n",
    "                    ('num_simulations', '1'),\n",
    "                    ('num_agents', '3'),\n",
    "                    ('agent_directory', 'configs/agents/'),\n",
    "                    ('lambda', '0.6'),\n",
    "                    ('network_config','configs/network2.gexf'),\n",
    "                    ('measurement_config', 'configs/output_opinion.xml')\n",
    "                   )"
   ]
  },
  {
   "cell_type": "markdown",
   "metadata": {},
   "source": [
    "To translate this to an xml document, which the framework can read, we first need create an ET element. "
   ]
  },
  {
   "cell_type": "code",
   "execution_count": 116,
   "metadata": {},
   "outputs": [],
   "source": [
    "environment = ET.Element('environment')\n",
    "environment.set('identifier', 'tests_for_degroot_learning')"
   ]
  },
  {
   "cell_type": "markdown",
   "metadata": {},
   "source": [
    "Next, the parameter elements are created."
   ]
  },
  {
   "cell_type": "code",
   "execution_count": 117,
   "metadata": {},
   "outputs": [],
   "source": [
    "parameters = []\n",
    "for x in range(len(parameter_values)):\n",
    "    parameters.append(ET.SubElement(environment, 'parameter'))"
   ]
  },
  {
   "cell_type": "markdown",
   "metadata": {},
   "source": [
    "Next, parameter attributes for type, name and value are added to the XML elements."
   ]
  },
  {
   "cell_type": "code",
   "execution_count": 118,
   "metadata": {},
   "outputs": [],
   "source": [
    "for idx, p in enumerate(parameters):\n",
    "    #p.set('type', 'static')\n",
    "    p.set('type', parameter_values[idx][0])\n",
    "    p.set('value', parameter_values[idx][1])"
   ]
  },
  {
   "cell_type": "code",
   "execution_count": 119,
   "metadata": {},
   "outputs": [],
   "source": [
    "xml_params = ET.tostring(environment, encoding=\"unicode\")\n",
    "myfile = open(\"configs/environments/test_degroot.xml\", \"w\")\n",
    "#myfile = open(\"configs/environments/degroot_parameters.xml\", \"w\")\n",
    "myfile.write(xml_params)\n",
    "myfile.close()"
   ]
  },
  {
   "cell_type": "markdown",
   "metadata": {},
   "source": [
    "Now, the main parameter xml file has been generated. But before the model can be run, the network still needs to be initialized. The network consists of **nodes** and **edges**. These will be initialized as follows."
   ]
  },
  {
   "cell_type": "code",
   "execution_count": 120,
   "metadata": {},
   "outputs": [],
   "source": [
    "# each node has an id and a label. \n",
    "node_v = (('agent_one', 'Agent One'),\n",
    "         ('agent_two', 'Agent Two'),\n",
    "         ('agent_three', 'Agent Three'),\n",
    "        )"
   ]
  },
  {
   "cell_type": "code",
   "execution_count": 121,
   "metadata": {},
   "outputs": [],
   "source": [
    "# each edge has a source, target and weight\n",
    "edge_v = (('agent_one', 'agent_one', '0.5'),\n",
    "         ('agent_one', 'agent_two', '0.25'),\n",
    "         ('agent_one', 'agent_three', '0.25'),\n",
    "         ('agent_two', 'agent_two', '0.0'),\n",
    "         ('agent_two', 'agent_one', '1.0'),\n",
    "         ('agent_two', 'agent_three', '0.0'),\n",
    "         ('agent_three', 'agent_three', '1.0'),\n",
    "         ('agent_three', 'agent_one', '0.0'),\n",
    "         ('agent_three', 'agent_two', '0.0'),\n",
    "        )"
   ]
  },
  {
   "cell_type": "markdown",
   "metadata": {},
   "source": [
    "Next, the xml data structure is created."
   ]
  },
  {
   "cell_type": "code",
   "execution_count": 122,
   "metadata": {},
   "outputs": [],
   "source": [
    "gexf = ET.Element('gexf')\n",
    "gexf.set('xmlns', 'http://www.gexf.net/1.2draft')\n",
    "gexf.set('version', \"1.2\")"
   ]
  },
  {
   "cell_type": "markdown",
   "metadata": {},
   "source": [
    "Within this structure, the graph exists, and within the graph, both the nodes and edges"
   ]
  },
  {
   "cell_type": "code",
   "execution_count": 123,
   "metadata": {},
   "outputs": [],
   "source": [
    "graph = ET.SubElement(gexf, 'graph')\n",
    "graph.set('mode', 'static')\n",
    "graph.set('defaultedgetype', \"directed\")\n",
    "nodes = ET.SubElement(graph, 'nodes')\n",
    "edges = ET.SubElement(graph, 'edges')"
   ]
  },
  {
   "cell_type": "markdown",
   "metadata": {},
   "source": [
    "First, the nodes are created."
   ]
  },
  {
   "cell_type": "code",
   "execution_count": 124,
   "metadata": {},
   "outputs": [],
   "source": [
    "the_nodes = []\n",
    "for x in range(len(node_v)):\n",
    "    the_nodes.append(ET.SubElement(nodes, 'node'))"
   ]
  },
  {
   "cell_type": "code",
   "execution_count": 125,
   "metadata": {},
   "outputs": [],
   "source": [
    "for idx, n in enumerate(the_nodes):\n",
    "    n.set('id', node_v[idx][0])\n",
    "    n.set('label', node_v[idx][1])"
   ]
  },
  {
   "cell_type": "markdown",
   "metadata": {},
   "source": [
    "Second, the edges are created."
   ]
  },
  {
   "cell_type": "code",
   "execution_count": 126,
   "metadata": {},
   "outputs": [],
   "source": [
    "the_edges = []\n",
    "for x in range(len(edge_v)):\n",
    "    the_edges.append(ET.SubElement(edges, 'edge'))"
   ]
  },
  {
   "cell_type": "code",
   "execution_count": 127,
   "metadata": {},
   "outputs": [],
   "source": [
    "for idx, e in enumerate(the_edges):\n",
    "    e.set('id', str(idx))\n",
    "    e.set('source', edge_v[idx][0])\n",
    "    e.set('target', edge_v[idx][1])\n",
    "    e.set('weight', edge_v[idx][2])"
   ]
  },
  {
   "cell_type": "code",
   "execution_count": 128,
   "metadata": {},
   "outputs": [],
   "source": [
    "xml_network = '<?xml version=\"1.0\" encoding=\"UTF-8\"?>' + ET.tostring(gexf, encoding=\"unicode\") "
   ]
  },
  {
   "cell_type": "code",
   "execution_count": 129,
   "metadata": {},
   "outputs": [],
   "source": [
    "myfile = open(\"configs/network2.gexf\", \"w\")\n",
    "#myfile = open(\"configs/degroot_network.gexf\", \"w\")\n",
    "myfile.write(xml_network)\n",
    "myfile.close()"
   ]
  },
  {
   "cell_type": "markdown",
   "metadata": {},
   "source": [
    "Finally, an output xml file regulates what the output csv looks like."
   ]
  },
  {
   "cell_type": "code",
   "execution_count": 130,
   "metadata": {},
   "outputs": [],
   "source": [
    "output_params = (\n",
    "    ('Step', 'current_step'),\n",
    "    ('opinion_agent_one', 'a1_opinion_after_current_step'),\n",
    "    ('opinion_agent_two', 'a2_opinion_after_current_step'),\n",
    "    ('opinion_agent_three', 'a3_opinion_after_current_step'),\n",
    ")"
   ]
  },
  {
   "cell_type": "code",
   "execution_count": 131,
   "metadata": {},
   "outputs": [],
   "source": [
    "measurement = ET.Element('measurement')\n",
    "measurement.set('identifier', 'output_opinion')"
   ]
  },
  {
   "cell_type": "code",
   "execution_count": 132,
   "metadata": {},
   "outputs": [],
   "source": [
    "parameters = [ET.SubElement(measurement, 'parameter')]\n",
    "parameters[0].set('type', 'filename')\n",
    "parameters[0].set('value', 'measurements/Measurement_degroot_new.csv')\n",
    "for x in range(len(output_params)):\n",
    "    parameters.append(ET.SubElement(measurement, 'parameter'))"
   ]
  },
  {
   "cell_type": "code",
   "execution_count": 133,
   "metadata": {},
   "outputs": [],
   "source": [
    "for idx, p in enumerate(parameters):\n",
    "    if idx > 0:\n",
    "        p.set('type', 'output')\n",
    "        p.set('column', str(idx))\n",
    "        p.set('header', output_params[idx-1][0])\n",
    "        p.set('value', output_params[idx-1][1])"
   ]
  },
  {
   "cell_type": "code",
   "execution_count": 134,
   "metadata": {},
   "outputs": [],
   "source": [
    "# parameters.insert(0, ET.SubElement(measurement, 'parameter'))\n",
    "# parameters[0].set('type', 'filename')\n",
    "# parameters[0].set('value', 'measurements/Measurement_degroot_new.csv')"
   ]
  },
  {
   "cell_type": "code",
   "execution_count": 135,
   "metadata": {},
   "outputs": [],
   "source": [
    "xml_params = ET.tostring(measurement, encoding=\"unicode\")\n",
    "myfile = open(\"configs/output_opinion.xml\", \"w\")\n",
    "#myfile = open(\"configs/degroot_output.xml\", \"w\")\n",
    "myfile.write(xml_params)\n",
    "myfile.close()"
   ]
  },
  {
   "cell_type": "markdown",
   "metadata": {},
   "source": [
    "Now, all parameters have been initialized and the Run_deGroot notebook can be used to run the model. "
   ]
  }
 ],
 "metadata": {
  "kernelspec": {
   "display_name": "Python 3",
   "language": "python",
   "name": "python3"
  },
  "language_info": {
   "codemirror_mode": {
    "name": "ipython",
    "version": 3
   },
   "file_extension": ".py",
   "mimetype": "text/x-python",
   "name": "python",
   "nbconvert_exporter": "python",
   "pygments_lexer": "ipython3",
   "version": "3.7.3"
  }
 },
 "nbformat": 4,
 "nbformat_minor": 2
}
