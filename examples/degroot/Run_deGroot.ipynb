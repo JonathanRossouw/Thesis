{
 "cells": [
  {
   "cell_type": "code",
   "execution_count": 1,
   "metadata": {},
   "outputs": [],
   "source": [
    "import sys\n",
    "import logging\n",
    "import os\n",
    "import xml.etree.ElementTree as ET\n",
    "from src.environment import Environment\n",
    "from src.runner import Runner"
   ]
  },
  {
   "cell_type": "markdown",
   "metadata": {},
   "source": [
    "# Running the deGroot Model\n",
    "First, the model needs to be initialized."
   ]
  },
  {
   "cell_type": "code",
   "execution_count": 2,
   "metadata": {},
   "outputs": [],
   "source": [
    "environment_directory = \"configs/environments/\"\n",
    "identifier = \"test_degroot\"\n",
    "log_directory = \"log/\""
   ]
  },
  {
   "cell_type": "markdown",
   "metadata": {},
   "source": [
    "Then, after a log folder is created, if it doesn't exist, the logger will be initialized. The log files will contain information about how the simulation went. "
   ]
  },
  {
   "cell_type": "code",
   "execution_count": 3,
   "metadata": {},
   "outputs": [],
   "source": [
    "if not os.path.exists('log'):\n",
    "    os.makedirs('log')"
   ]
  },
  {
   "cell_type": "code",
   "execution_count": 4,
   "metadata": {},
   "outputs": [],
   "source": [
    "# logging.basicConfig(format='%(asctime)s %(message)s', datefmt='%m/%d/%Y %H:%M:%S',\n",
    "#                     filename=log_directory + identifier + \".log\", level=logging.INFO)\n",
    "# logging.info('START logging for run: %s',  environment_directory + identifier + \".xml\")"
   ]
  },
  {
   "cell_type": "markdown",
   "metadata": {},
   "source": [
    "Before initializing the model, let's inspect the parameters that are used to initialize it."
   ]
  },
  {
   "cell_type": "code",
   "execution_count": 4,
   "metadata": {},
   "outputs": [],
   "source": [
    "tree = ET.parse('configs/environments/test_degroot.xml')\n",
    "root = tree.getroot()"
   ]
  },
  {
   "cell_type": "code",
   "execution_count": 5,
   "metadata": {},
   "outputs": [
    {
     "name": "stdout",
     "output_type": "stream",
     "text": [
      "All parameters: \n",
      "{'type': 'num_sweeps', 'value': '20'}\n",
      "{'type': 'num_simulations', 'value': '1'}\n",
      "{'type': 'num_agents', 'value': '3'}\n",
      "{'type': 'agent_directory', 'value': 'configs/agents/'}\n",
      "{'type': 'lambda', 'value': '0.6'}\n",
      "{'type': 'agent_directory', 'value': 'configs/agents/'}\n",
      "{'type': 'measurement_config', 'value': 'configs/output_opinion.xml'}\n",
      "{'type': 'network_config', 'value': 'configs/network2.gexf'}\n"
     ]
    }
   ],
   "source": [
    "# all item attributes\n",
    "print('All parameters: ')\n",
    "for elem in root:\n",
    "    print(elem.attrib)"
   ]
  },
  {
   "cell_type": "markdown",
   "metadata": {},
   "source": [
    "First, the environment will be initialized. It contains the model parameters and variables. The environment also contains a list of agents. In the Solow model, the environment contains one bank, one firm, and one household. Finally, it also contains initialized transactions for these agents"
   ]
  },
  {
   "cell_type": "code",
   "execution_count": 6,
   "metadata": {},
   "outputs": [],
   "source": [
    "environment = Environment(environment_directory, identifier)"
   ]
  },
  {
   "cell_type": "markdown",
   "metadata": {},
   "source": [
    "Next up, the runner object is created. As the name suggests, the runner object handles the running of the model. But that is not all, it also initializes the updater. "
   ]
  },
  {
   "cell_type": "code",
   "execution_count": 7,
   "metadata": {},
   "outputs": [],
   "source": [
    "runner = Runner(environment)"
   ]
  },
  {
   "cell_type": "markdown",
   "metadata": {},
   "source": [
    "Now you can actually run the model. Since the agent-based model is simulated using Monte Carlo methods. This means that the model will be run multiple times (num_simulations). For every simulation run, the environment and runner will be (re-)initialized. Then, the runner will run the Solow model. During the run, the runner will write data about capital to a csv file specified within the Measurement class and print out all the transactions happening and the books of firm and household at the end of each sweep."
   ]
  },
  {
   "cell_type": "code",
   "execution_count": 8,
   "metadata": {},
   "outputs": [
    {
     "name": "stdout",
     "output_type": "stream",
     "text": [
      "***\n",
      "This run had 20s sweeps and 1s simulations\n",
      "Check the output file that was written as csv in the measurements folder\n",
      "***\n"
     ]
    }
   ],
   "source": [
    "for i in range(int(environment.static_parameters['num_simulations'])):\n",
    "    environment.initialize(environment_directory, identifier)\n",
    "    runner.initialize(environment)\n",
    "    # do the run\n",
    "    runner.do_run(environment)"
   ]
  },
  {
   "cell_type": "markdown",
   "metadata": {},
   "source": [
    "So, now the model has been run. But what did it actually do? Head to the Analyse_Solow notebook to find out. "
   ]
  }
 ],
 "metadata": {
  "kernelspec": {
   "display_name": "Python 3",
   "language": "python",
   "name": "python3"
  },
  "language_info": {
   "codemirror_mode": {
    "name": "ipython",
    "version": 3
   },
   "file_extension": ".py",
   "mimetype": "text/x-python",
   "name": "python",
   "nbconvert_exporter": "python",
   "pygments_lexer": "ipython3",
   "version": "3.7.3"
  }
 },
 "nbformat": 4,
 "nbformat_minor": 2
}
