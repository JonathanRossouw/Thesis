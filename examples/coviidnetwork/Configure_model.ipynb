{
 "cells": [
  {
   "cell_type": "code",
   "execution_count": 2,
   "metadata": {},
   "outputs": [],
   "source": [
    "import xml.etree.ElementTree as ET"
   ]
  },
  {
   "cell_type": "markdown",
   "metadata": {},
   "source": [
    "# Configure Covi-id network model\n",
    "In this notebook, you can set the parameters of the model. \n",
    "\n",
    "This notebook is part of three notebooks which can be used to work with the Black Rhino Covi-id model. These notebooks are:\n",
    "1. **Configuration notebook**\n",
    "2. Run notebook,\n",
    "3. Analysis notebook.\n",
    "\n",
    "*The current notebook is highlighted.*\n",
    "\n",
    "In the Black Rhino framework, parameters are stored in xml files. Using this notebook, you can set change them. Below you will find the parameter inputs for this model.  "
   ]
  },
  {
   "cell_type": "code",
   "execution_count": 56,
   "metadata": {},
   "outputs": [],
   "source": [
    "environment_parameters = (('num_sweeps', '120'), #time periods run\n",
    "                          ('num_simulations', '1'), #monte carlo simulations\n",
    "                          ('num_agents', '500'), # determines grid_lenght and grid height\n",
    "                          ('health_system_capacity', '0.1'),\n",
    "                          ('health_overburdened_multiplier', '5.5'),\n",
    "                          ('agent_directory', 'configs/agents/agents.xml'),\n",
    "                          ('measurement_config', 'configs/output_coviid.xml')\n",
    "                         )"
   ]
  },
  {
   "cell_type": "markdown",
   "metadata": {},
   "source": [
    "To translate this to an xml document, which the framework can read, we first need create an ET element. "
   ]
  },
  {
   "cell_type": "code",
   "execution_count": 57,
   "metadata": {},
   "outputs": [],
   "source": [
    "environment = ET.Element('environment')\n",
    "environment.set('identifier', 'config_coviid')"
   ]
  },
  {
   "cell_type": "markdown",
   "metadata": {},
   "source": [
    "Next, the parameter elements are created."
   ]
  },
  {
   "cell_type": "code",
   "execution_count": 58,
   "metadata": {},
   "outputs": [],
   "source": [
    "parameters = []\n",
    "for x in range(len(environment_parameters)):\n",
    "    parameters.append(ET.SubElement(environment, 'parameter'))"
   ]
  },
  {
   "cell_type": "markdown",
   "metadata": {},
   "source": [
    "Parameter attributes for type, name and value are added to the XML elements."
   ]
  },
  {
   "cell_type": "code",
   "execution_count": 59,
   "metadata": {},
   "outputs": [],
   "source": [
    "for idx, p in enumerate(parameters):\n",
    "    #p.set('type', 'static')\n",
    "    p.set('type', environment_parameters[idx][0])\n",
    "    p.set('value', environment_parameters[idx][1])"
   ]
  },
  {
   "cell_type": "code",
   "execution_count": 60,
   "metadata": {},
   "outputs": [],
   "source": [
    "xml_params = ET.tostring(environment, encoding=\"unicode\")\n",
    "myfile = open(\"configs/environments/config_coviid.xml\", \"w\")\n",
    "myfile.write(xml_params)\n",
    "myfile.close()"
   ]
  },
  {
   "cell_type": "markdown",
   "metadata": {},
   "source": [
    "Second, the agent parameters are determined."
   ]
  },
  {
   "cell_type": "code",
   "execution_count": 61,
   "metadata": {},
   "outputs": [],
   "source": [
    "agent_parameters = (('transmission_rate', '0.50'),\n",
    "                    ('days_incubation', '7'),\n",
    "                    ('days_with_symptoms', '8'),\n",
    "                    ('days_critical', '10'),\n",
    "                    ('probability_hospital', '0.20'),\n",
    "                    ('probability_to_die', '0.03'),\n",
    "                    ('probability_susceptible', '0.03'),\n",
    "                   )"
   ]
  },
  {
   "cell_type": "code",
   "execution_count": 62,
   "metadata": {},
   "outputs": [],
   "source": [
    "param_or_var = ('parameter', 'state_variable', 'state_variable', 'state_variable', 'parameter', 'parameter', 'parameter')"
   ]
  },
  {
   "cell_type": "code",
   "execution_count": 63,
   "metadata": {},
   "outputs": [],
   "source": [
    "agents = ET.Element('agents')\n",
    "agents.set('identifier', 'config_coviid')"
   ]
  },
  {
   "cell_type": "code",
   "execution_count": 64,
   "metadata": {},
   "outputs": [],
   "source": [
    "parameters = []\n",
    "for x in range(len(agent_parameters)):\n",
    "    parameters.append(ET.SubElement(agents, 'parameter'))"
   ]
  },
  {
   "cell_type": "code",
   "execution_count": 65,
   "metadata": {},
   "outputs": [],
   "source": [
    "for idx, p in enumerate(parameters):\n",
    "    p.set('type', param_or_var[idx])\n",
    "    p.set('name', agent_parameters[idx][0])\n",
    "    p.set('value', agent_parameters[idx][1])"
   ]
  },
  {
   "cell_type": "code",
   "execution_count": 66,
   "metadata": {},
   "outputs": [],
   "source": [
    "xml_params = ET.tostring(agents, encoding=\"unicode\")\n",
    "myfile = open(\"configs/agents/agents.xml\", \"w\")\n",
    "myfile.write(xml_params)\n",
    "myfile.close()"
   ]
  },
  {
   "cell_type": "markdown",
   "metadata": {},
   "source": [
    "Now, all parameters have been initialized and the run the model notebook can be used to run the model. "
   ]
  }
 ],
 "metadata": {
  "kernelspec": {
   "display_name": "Python 3",
   "language": "python",
   "name": "python3"
  },
  "language_info": {
   "codemirror_mode": {
    "name": "ipython",
    "version": 3
   },
   "file_extension": ".py",
   "mimetype": "text/x-python",
   "name": "python",
   "nbconvert_exporter": "python",
   "pygments_lexer": "ipython3",
   "version": "3.7.3"
  }
 },
 "nbformat": 4,
 "nbformat_minor": 2
}
