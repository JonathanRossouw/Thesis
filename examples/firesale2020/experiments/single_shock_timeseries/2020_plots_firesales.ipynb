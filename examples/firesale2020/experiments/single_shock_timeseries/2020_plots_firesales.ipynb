{
 "cells": [
  {
   "cell_type": "code",
   "execution_count": 3,
   "metadata": {},
   "outputs": [],
   "source": [
    "#run the whole thing\n",
    "import numpy as np\n",
    "import pandas as pd\n",
    "import csv\n",
    "from matplotlib import cm\n",
    "import sys\n",
    "import matplotlib.pyplot as plt\n",
    "from matplotlib.ticker import MaxNLocator\n",
    "from mpl_toolkits.mplot3d import Axes3D\n",
    "import numpy\n",
    "from numpy.random import randn\n",
    "from scipy import array, newaxis\n",
    "import seaborn as sns\n",
    "from matplotlib.patches import Rectangle\n",
    "from scipy.interpolate import InterpolatedUnivariateSpline\n",
    "\n",
    "import os\n",
    "import pandas as pd\n",
    "\n",
    "assets = [\"m_15\",'m_16' ]\n",
    "\n",
    "\n",
    "p=os.getcwd()+'/output/2020-2/single_shock_1e-13_10_9m_18-0.3.csv/'\n",
    "\n",
    "# df=system \n",
    "\n",
    "# #be careful with the bank string!\n",
    "\n",
    "# sbsa=agents.filter(like='STANDARD') \n",
    "# specs=agents[agents.columns[-5:]]\n",
    "# stressedbank=pd.concat([sbsa,specs],axis=1)\n",
    "# # stressedbank.columns \n",
    "# stressedbank['assets_to_pre_shock'] = stressedbank['total_assets STANDARDBANK']/  stressedbank['total_assets STANDARDBANK'][0]\n",
    "\n",
    "# sns.set_style(\"white\")"
   ]
  },
  {
   "cell_type": "code",
   "execution_count": 2,
   "metadata": {},
   "outputs": [
    {
     "data": {
      "text/plain": [
       "u'/Users/admin/git_repos/BlackRhino/examples/firesale2020/experiments/single_shock_timeseries'"
      ]
     },
     "execution_count": 2,
     "metadata": {},
     "output_type": "execute_result"
    }
   ],
   "source": [
    "pwd"
   ]
  },
  {
   "cell_type": "code",
   "execution_count": null,
   "metadata": {},
   "outputs": [],
   "source": []
  }
 ],
 "metadata": {
  "kernelspec": {
   "display_name": "Python 2",
   "language": "python",
   "name": "python2"
  },
  "language_info": {
   "codemirror_mode": {
    "name": "ipython",
    "version": 2
   },
   "file_extension": ".py",
   "mimetype": "text/x-python",
   "name": "python",
   "nbconvert_exporter": "python",
   "pygments_lexer": "ipython2",
   "version": "2.7.18"
  }
 },
 "nbformat": 4,
 "nbformat_minor": 2
}
