{
 "cells": [
  {
   "cell_type": "code",
   "execution_count": 4,
   "metadata": {},
   "outputs": [],
   "source": [
    "import numpy as np\n",
    "import pandas as pd\n",
    "import csv\n",
    "from matplotlib import cm\n",
    "import sys\n",
    "import matplotlib.pyplot as plt\n",
    "from matplotlib.ticker import MaxNLocator\n",
    "from mpl_toolkits.mplot3d import Axes3D\n",
    "import numpy\n",
    "from numpy.random import randn\n",
    "from scipy import array, newaxis\n",
    "import seaborn as sns\n",
    "from matplotlib.patches import Rectangle\n",
    "from scipy.interpolate import InterpolatedUnivariateSpline\n",
    "\n",
    "\n",
    "d=pd.read_csv('results_all_agents_sweeps.csv')\n",
    "d.filter(like='systemicness') "
   ]
  },
  {
   "cell_type": "code",
   "execution_count": 6,
   "metadata": {},
   "outputs": [
    {
     "data": {
      "text/html": [
       "<div>\n",
       "<style scoped>\n",
       "    .dataframe tbody tr th:only-of-type {\n",
       "        vertical-align: middle;\n",
       "    }\n",
       "\n",
       "    .dataframe tbody tr th {\n",
       "        vertical-align: top;\n",
       "    }\n",
       "\n",
       "    .dataframe thead th {\n",
       "        text-align: right;\n",
       "    }\n",
       "</style>\n",
       "<table border=\"1\" class=\"dataframe\">\n",
       "  <thead>\n",
       "    <tr style=\"text-align: right;\">\n",
       "      <th></th>\n",
       "      <th>systemicness FNB</th>\n",
       "      <th>systemicness CHARTERED</th>\n",
       "      <th>systemicness CAPITEC</th>\n",
       "      <th>systemicness ABSA</th>\n",
       "      <th>systemicness NEDBANK</th>\n",
       "      <th>systemicness AfricanB</th>\n",
       "      <th>systemicness CITYBANK</th>\n",
       "      <th>systemicness INVESTEC</th>\n",
       "      <th>systemicness HSBC</th>\n",
       "      <th>systemicness STANDARDBANK</th>\n",
       "    </tr>\n",
       "  </thead>\n",
       "  <tbody>\n",
       "    <tr>\n",
       "      <th>0</th>\n",
       "      <td>0.000000</td>\n",
       "      <td>0.000000</td>\n",
       "      <td>0.000000</td>\n",
       "      <td>0.000000</td>\n",
       "      <td>0.000000</td>\n",
       "      <td>0.000000</td>\n",
       "      <td>0.0</td>\n",
       "      <td>0.000000</td>\n",
       "      <td>0.000000</td>\n",
       "      <td>0.000000</td>\n",
       "    </tr>\n",
       "    <tr>\n",
       "      <th>1</th>\n",
       "      <td>0.000000</td>\n",
       "      <td>0.000000</td>\n",
       "      <td>0.000000</td>\n",
       "      <td>0.000000</td>\n",
       "      <td>0.000000</td>\n",
       "      <td>0.000000</td>\n",
       "      <td>0.0</td>\n",
       "      <td>0.000000</td>\n",
       "      <td>0.000000</td>\n",
       "      <td>0.000000</td>\n",
       "    </tr>\n",
       "    <tr>\n",
       "      <th>2</th>\n",
       "      <td>0.215396</td>\n",
       "      <td>0.005945</td>\n",
       "      <td>0.004314</td>\n",
       "      <td>0.160467</td>\n",
       "      <td>0.212717</td>\n",
       "      <td>0.005755</td>\n",
       "      <td>0.0</td>\n",
       "      <td>0.076538</td>\n",
       "      <td>0.008578</td>\n",
       "      <td>0.310289</td>\n",
       "    </tr>\n",
       "    <tr>\n",
       "      <th>3</th>\n",
       "      <td>0.217548</td>\n",
       "      <td>0.006087</td>\n",
       "      <td>0.005843</td>\n",
       "      <td>0.151956</td>\n",
       "      <td>0.218835</td>\n",
       "      <td>0.006714</td>\n",
       "      <td>0.0</td>\n",
       "      <td>0.077531</td>\n",
       "      <td>0.009227</td>\n",
       "      <td>0.306259</td>\n",
       "    </tr>\n",
       "    <tr>\n",
       "      <th>4</th>\n",
       "      <td>0.219248</td>\n",
       "      <td>0.006309</td>\n",
       "      <td>0.006346</td>\n",
       "      <td>0.149760</td>\n",
       "      <td>0.218782</td>\n",
       "      <td>0.007195</td>\n",
       "      <td>0.0</td>\n",
       "      <td>0.077637</td>\n",
       "      <td>0.009502</td>\n",
       "      <td>0.305222</td>\n",
       "    </tr>\n",
       "    <tr>\n",
       "      <th>5</th>\n",
       "      <td>0.219802</td>\n",
       "      <td>0.006383</td>\n",
       "      <td>0.006514</td>\n",
       "      <td>0.149095</td>\n",
       "      <td>0.218680</td>\n",
       "      <td>0.007357</td>\n",
       "      <td>0.0</td>\n",
       "      <td>0.077650</td>\n",
       "      <td>0.009592</td>\n",
       "      <td>0.304928</td>\n",
       "    </tr>\n",
       "    <tr>\n",
       "      <th>6</th>\n",
       "      <td>0.219969</td>\n",
       "      <td>0.006406</td>\n",
       "      <td>0.006567</td>\n",
       "      <td>0.148895</td>\n",
       "      <td>0.218644</td>\n",
       "      <td>0.007408</td>\n",
       "      <td>0.0</td>\n",
       "      <td>0.077653</td>\n",
       "      <td>0.009619</td>\n",
       "      <td>0.304839</td>\n",
       "    </tr>\n",
       "    <tr>\n",
       "      <th>7</th>\n",
       "      <td>0.220019</td>\n",
       "      <td>0.006412</td>\n",
       "      <td>0.006584</td>\n",
       "      <td>0.148835</td>\n",
       "      <td>0.218633</td>\n",
       "      <td>0.007424</td>\n",
       "      <td>0.0</td>\n",
       "      <td>0.077654</td>\n",
       "      <td>0.009627</td>\n",
       "      <td>0.304813</td>\n",
       "    </tr>\n",
       "  </tbody>\n",
       "</table>\n",
       "</div>"
      ],
      "text/plain": [
       "   systemicness FNB  systemicness CHARTERED  systemicness CAPITEC  \\\n",
       "0          0.000000                0.000000              0.000000   \n",
       "1          0.000000                0.000000              0.000000   \n",
       "2          0.215396                0.005945              0.004314   \n",
       "3          0.217548                0.006087              0.005843   \n",
       "4          0.219248                0.006309              0.006346   \n",
       "5          0.219802                0.006383              0.006514   \n",
       "6          0.219969                0.006406              0.006567   \n",
       "7          0.220019                0.006412              0.006584   \n",
       "\n",
       "   systemicness ABSA  systemicness NEDBANK  systemicness AfricanB  \\\n",
       "0           0.000000              0.000000               0.000000   \n",
       "1           0.000000              0.000000               0.000000   \n",
       "2           0.160467              0.212717               0.005755   \n",
       "3           0.151956              0.218835               0.006714   \n",
       "4           0.149760              0.218782               0.007195   \n",
       "5           0.149095              0.218680               0.007357   \n",
       "6           0.148895              0.218644               0.007408   \n",
       "7           0.148835              0.218633               0.007424   \n",
       "\n",
       "   systemicness CITYBANK  systemicness INVESTEC  systemicness HSBC  \\\n",
       "0                    0.0               0.000000           0.000000   \n",
       "1                    0.0               0.000000           0.000000   \n",
       "2                    0.0               0.076538           0.008578   \n",
       "3                    0.0               0.077531           0.009227   \n",
       "4                    0.0               0.077637           0.009502   \n",
       "5                    0.0               0.077650           0.009592   \n",
       "6                    0.0               0.077653           0.009619   \n",
       "7                    0.0               0.077654           0.009627   \n",
       "\n",
       "   systemicness STANDARDBANK   \n",
       "0                    0.000000  \n",
       "1                    0.000000  \n",
       "2                    0.310289  \n",
       "3                    0.306259  \n",
       "4                    0.305222  \n",
       "5                    0.304928  \n",
       "6                    0.304839  \n",
       "7                    0.304813  "
      ]
     },
     "execution_count": 6,
     "metadata": {},
     "output_type": "execute_result"
    }
   ],
   "source": []
  },
  {
   "cell_type": "code",
   "execution_count": 7,
   "metadata": {},
   "outputs": [
    {
     "data": {
      "text/plain": [
       "0.999997"
      ]
     },
     "execution_count": 7,
     "metadata": {},
     "output_type": "execute_result"
    }
   ],
   "source": [
    "0.220019+0.006412+0.00658+0.148835+0.218633+0.007424+0.0+0.077654+0.009627+0.304813"
   ]
  },
  {
   "cell_type": "code",
   "execution_count": 12,
   "metadata": {},
   "outputs": [
    {
     "data": {
      "text/plain": [
       "Index([u'Unnamed: 0', u'current_step', u'shock_for_agent FNB',\n",
       "       u'total_assets FNB', u'asset_losses_from_system_deleveraging FNB',\n",
       "       u'equity FNB', u'equity_losses_from_system_deleveraging FNB',\n",
       "       u'systemicness FNB', u'valuation_losses FNB', u'cash_reserves FNB',\n",
       "       u'total_asset_sales FNB', u'debt_paid_by_cash FNB', u'debt FNB',\n",
       "       u'equity_losses FNB'],\n",
       "      dtype='object')"
      ]
     },
     "execution_count": 12,
     "metadata": {},
     "output_type": "execute_result"
    }
   ],
   "source": [
    "d.columns[:14]"
   ]
  },
  {
   "cell_type": "code",
   "execution_count": 13,
   "metadata": {},
   "outputs": [
    {
     "ename": "NameError",
     "evalue": "name 'environment' is not defined",
     "output_type": "error",
     "traceback": [
      "\u001b[0;31m---------------------------------------------------------------------------\u001b[0m",
      "\u001b[0;31mNameError\u001b[0m                                 Traceback (most recent call last)",
      "\u001b[0;32m<ipython-input-13-26ecb27b73d4>\u001b[0m in \u001b[0;36m<module>\u001b[0;34m()\u001b[0m\n\u001b[0;32m----> 1\u001b[0;31m \u001b[0md\u001b[0m\u001b[0;34m=\u001b[0m\u001b[0mpd\u001b[0m\u001b[0;34m.\u001b[0m\u001b[0mread_csv\u001b[0m\u001b[0;34m(\u001b[0m\u001b[0;34m\"./output/single_shock_\"\u001b[0m \u001b[0;34m+\u001b[0m \u001b[0mstr\u001b[0m\u001b[0;34m(\u001b[0m\u001b[0menvironment\u001b[0m\u001b[0;34m.\u001b[0m\u001b[0mstatic_parameters\u001b[0m\u001b[0;34m[\u001b[0m\u001b[0;34m'illiquidity'\u001b[0m\u001b[0;34m]\u001b[0m\u001b[0;34m)\u001b[0m  \u001b[0;34m+\u001b[0m\u001b[0;34m\"_\"\u001b[0m\u001b[0;34m+\u001b[0m \u001b[0mstr\u001b[0m\u001b[0;34m(\u001b[0m\u001b[0menvironment\u001b[0m\u001b[0;34m.\u001b[0m\u001b[0mnum_agents\u001b[0m\u001b[0;34m)\u001b[0m \u001b[0;34m+\u001b[0m \u001b[0;34m\"_\"\u001b[0m \u001b[0;34m+\u001b[0m \u001b[0mstr\u001b[0m\u001b[0;34m(\u001b[0m\u001b[0menvironment\u001b[0m\u001b[0;34m.\u001b[0m\u001b[0mnum_sweeps\u001b[0m\u001b[0;34m)\u001b[0m \u001b[0;34m+\u001b[0m \u001b[0;34m\".csv\"\u001b[0m\u001b[0;34m)\u001b[0m\u001b[0;34m\u001b[0m\u001b[0m\n\u001b[0m",
      "\u001b[0;31mNameError\u001b[0m: name 'environment' is not defined"
     ]
    }
   ],
   "source": [
    "d=pd.read_csv(\"./output/single_shock_\" + str(environment.static_parameters['illiquidity'])  +\"_\"+ str(environment.num_agents) + \"_\" + str(environment.num_sweeps) + \".csv\")\n"
   ]
  },
  {
   "cell_type": "code",
   "execution_count": 22,
   "metadata": {},
   "outputs": [],
   "source": [
    "p='/Users/admin/git_repos/BlackRhino/examples/firesale2020/experiments/single_shock'+'/output/'"
   ]
  },
  {
   "cell_type": "code",
   "execution_count": 23,
   "metadata": {},
   "outputs": [
    {
     "name": "stdout",
     "output_type": "stream",
     "text": [
      "('/Users/admin/git_repos/BlackRhino/examples/firesale2020/experiments/single_shock/output/', [], ['.DS_Store', 'results_system_sweeps.csv', 'single_shock_1e-13_10_9.csv', 'single_shock_1e-13_10_8.csv'])\n"
     ]
    }
   ],
   "source": [
    "import os\n",
    "\n",
    "for files in os.walk(p):\n",
    "    print(files)\n",
    "    t=pd.read_csv(p+'single_shock_1e-13_10_9.csv')\n",
    "    t['system_TAS'][2:].sum()"
   ]
  },
  {
   "cell_type": "code",
   "execution_count": 28,
   "metadata": {},
   "outputs": [
    {
     "data": {
      "text/plain": [
       "-556927358019.1349"
      ]
     },
     "execution_count": 28,
     "metadata": {},
     "output_type": "execute_result"
    }
   ],
   "source": []
  },
  {
   "cell_type": "code",
   "execution_count": 29,
   "metadata": {},
   "outputs": [
    {
     "data": {
      "text/plain": [
       "-834044238658.0405"
      ]
     },
     "execution_count": 29,
     "metadata": {},
     "output_type": "execute_result"
    }
   ],
   "source": [
    "t['system_TAS'][1] "
   ]
  },
  {
   "cell_type": "code",
   "execution_count": 39,
   "metadata": {},
   "outputs": [
    {
     "name": "stdout",
     "output_type": "stream",
     "text": [
      "12.0\n"
     ]
    }
   ],
   "source": [
    "print(\" {}, Asset valuation lost {} %\".format(round((t['system_TAS'][2:].sum())/t['system_assets'][0] *-1 *100,)))"
   ]
  },
  {
   "cell_type": "code",
   "execution_count": 45,
   "metadata": {},
   "outputs": [],
   "source": [
    "temp=[]\n",
    "helper={}\n",
    "helper['asset class'] = str(sys.argv[2])\n",
    "helper['shock'] =  str(sys.argv[1]) \n",
    "helper['time'] = '2015-12'\n",
    "helper['valuation_losses']=t['system_TAS'][2:].sum()/t['system_assets'][0] *-1 *100\n",
    "temp.append(pd.DataFrame(helper, index= ['2015-12']))\n",
    "pd.DataFrame(helper, index= ['2015-12']).to_csv('t.csv')"
   ]
  },
  {
   "cell_type": "code",
   "execution_count": null,
   "metadata": {},
   "outputs": [],
   "source": []
  }
 ],
 "metadata": {
  "kernelspec": {
   "display_name": "Python 2",
   "language": "python",
   "name": "python2"
  },
  "language_info": {
   "codemirror_mode": {
    "name": "ipython",
    "version": 2
   },
   "file_extension": ".py",
   "mimetype": "text/x-python",
   "name": "python",
   "nbconvert_exporter": "python",
   "pygments_lexer": "ipython2",
   "version": "2.7.18"
  }
 },
 "nbformat": 4,
 "nbformat_minor": 2
}
