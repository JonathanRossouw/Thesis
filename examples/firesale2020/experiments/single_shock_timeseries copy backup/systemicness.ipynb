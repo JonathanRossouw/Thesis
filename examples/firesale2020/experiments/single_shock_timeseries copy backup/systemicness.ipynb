{
 "cells": [
  {
   "cell_type": "code",
   "execution_count": 1,
   "metadata": {},
   "outputs": [
    {
     "data": {
      "text/html": [
       "<div>\n",
       "<style scoped>\n",
       "    .dataframe tbody tr th:only-of-type {\n",
       "        vertical-align: middle;\n",
       "    }\n",
       "\n",
       "    .dataframe tbody tr th {\n",
       "        vertical-align: top;\n",
       "    }\n",
       "\n",
       "    .dataframe thead th {\n",
       "        text-align: right;\n",
       "    }\n",
       "</style>\n",
       "<table border=\"1\" class=\"dataframe\">\n",
       "  <thead>\n",
       "    <tr style=\"text-align: right;\">\n",
       "      <th></th>\n",
       "      <th>systemicness FNB</th>\n",
       "      <th>systemicness CHARTERED</th>\n",
       "      <th>systemicness CAPITEC</th>\n",
       "      <th>systemicness ABSA</th>\n",
       "      <th>systemicness NEDBANK</th>\n",
       "      <th>systemicness AfricanB</th>\n",
       "      <th>systemicness CITYBANK</th>\n",
       "      <th>systemicness INVESTEC</th>\n",
       "      <th>systemicness HSBC</th>\n",
       "      <th>systemicness STANDARDBANK</th>\n",
       "    </tr>\n",
       "  </thead>\n",
       "  <tbody>\n",
       "    <tr>\n",
       "      <th>0</th>\n",
       "      <td>0.000000</td>\n",
       "      <td>0.000000</td>\n",
       "      <td>0.000000</td>\n",
       "      <td>0.000000</td>\n",
       "      <td>0.000000</td>\n",
       "      <td>0.000000</td>\n",
       "      <td>0.000000</td>\n",
       "      <td>0.000000</td>\n",
       "      <td>0.000000</td>\n",
       "      <td>0.000000</td>\n",
       "    </tr>\n",
       "    <tr>\n",
       "      <th>1</th>\n",
       "      <td>0.000000</td>\n",
       "      <td>0.000000</td>\n",
       "      <td>0.000000</td>\n",
       "      <td>0.000000</td>\n",
       "      <td>0.000000</td>\n",
       "      <td>0.000000</td>\n",
       "      <td>0.000000</td>\n",
       "      <td>0.000000</td>\n",
       "      <td>0.000000</td>\n",
       "      <td>0.000000</td>\n",
       "    </tr>\n",
       "    <tr>\n",
       "      <th>2</th>\n",
       "      <td>0.191561</td>\n",
       "      <td>0.004785</td>\n",
       "      <td>0.005361</td>\n",
       "      <td>0.210396</td>\n",
       "      <td>0.209040</td>\n",
       "      <td>0.002198</td>\n",
       "      <td>0.004301</td>\n",
       "      <td>0.086299</td>\n",
       "      <td>0.006674</td>\n",
       "      <td>0.279386</td>\n",
       "    </tr>\n",
       "    <tr>\n",
       "      <th>3</th>\n",
       "      <td>0.187991</td>\n",
       "      <td>0.005077</td>\n",
       "      <td>0.005916</td>\n",
       "      <td>0.205992</td>\n",
       "      <td>0.214017</td>\n",
       "      <td>0.002100</td>\n",
       "      <td>0.004077</td>\n",
       "      <td>0.089246</td>\n",
       "      <td>0.007228</td>\n",
       "      <td>0.278355</td>\n",
       "    </tr>\n",
       "    <tr>\n",
       "      <th>4</th>\n",
       "      <td>0.188737</td>\n",
       "      <td>0.005230</td>\n",
       "      <td>0.006173</td>\n",
       "      <td>0.205081</td>\n",
       "      <td>0.213890</td>\n",
       "      <td>0.002161</td>\n",
       "      <td>0.004171</td>\n",
       "      <td>0.089441</td>\n",
       "      <td>0.007446</td>\n",
       "      <td>0.277670</td>\n",
       "    </tr>\n",
       "    <tr>\n",
       "      <th>5</th>\n",
       "      <td>0.189074</td>\n",
       "      <td>0.005282</td>\n",
       "      <td>0.006272</td>\n",
       "      <td>0.204801</td>\n",
       "      <td>0.213754</td>\n",
       "      <td>0.002190</td>\n",
       "      <td>0.004208</td>\n",
       "      <td>0.089458</td>\n",
       "      <td>0.007520</td>\n",
       "      <td>0.277441</td>\n",
       "    </tr>\n",
       "    <tr>\n",
       "      <th>6</th>\n",
       "      <td>0.189192</td>\n",
       "      <td>0.005299</td>\n",
       "      <td>0.006306</td>\n",
       "      <td>0.204708</td>\n",
       "      <td>0.213703</td>\n",
       "      <td>0.002201</td>\n",
       "      <td>0.004221</td>\n",
       "      <td>0.089461</td>\n",
       "      <td>0.007545</td>\n",
       "      <td>0.277364</td>\n",
       "    </tr>\n",
       "    <tr>\n",
       "      <th>7</th>\n",
       "      <td>0.189231</td>\n",
       "      <td>0.005305</td>\n",
       "      <td>0.006318</td>\n",
       "      <td>0.204677</td>\n",
       "      <td>0.213686</td>\n",
       "      <td>0.002204</td>\n",
       "      <td>0.004226</td>\n",
       "      <td>0.089462</td>\n",
       "      <td>0.007553</td>\n",
       "      <td>0.277339</td>\n",
       "    </tr>\n",
       "    <tr>\n",
       "      <th>8</th>\n",
       "      <td>0.189244</td>\n",
       "      <td>0.005307</td>\n",
       "      <td>0.006322</td>\n",
       "      <td>0.204667</td>\n",
       "      <td>0.213680</td>\n",
       "      <td>0.002205</td>\n",
       "      <td>0.004227</td>\n",
       "      <td>0.089462</td>\n",
       "      <td>0.007556</td>\n",
       "      <td>0.277330</td>\n",
       "    </tr>\n",
       "  </tbody>\n",
       "</table>\n",
       "</div>"
      ],
      "text/plain": [
       "   systemicness FNB  systemicness CHARTERED  systemicness CAPITEC  \\\n",
       "0          0.000000                0.000000              0.000000   \n",
       "1          0.000000                0.000000              0.000000   \n",
       "2          0.191561                0.004785              0.005361   \n",
       "3          0.187991                0.005077              0.005916   \n",
       "4          0.188737                0.005230              0.006173   \n",
       "5          0.189074                0.005282              0.006272   \n",
       "6          0.189192                0.005299              0.006306   \n",
       "7          0.189231                0.005305              0.006318   \n",
       "8          0.189244                0.005307              0.006322   \n",
       "\n",
       "   systemicness ABSA  systemicness NEDBANK  systemicness AfricanB  \\\n",
       "0           0.000000              0.000000               0.000000   \n",
       "1           0.000000              0.000000               0.000000   \n",
       "2           0.210396              0.209040               0.002198   \n",
       "3           0.205992              0.214017               0.002100   \n",
       "4           0.205081              0.213890               0.002161   \n",
       "5           0.204801              0.213754               0.002190   \n",
       "6           0.204708              0.213703               0.002201   \n",
       "7           0.204677              0.213686               0.002204   \n",
       "8           0.204667              0.213680               0.002205   \n",
       "\n",
       "   systemicness CITYBANK  systemicness INVESTEC  systemicness HSBC  \\\n",
       "0               0.000000               0.000000           0.000000   \n",
       "1               0.000000               0.000000           0.000000   \n",
       "2               0.004301               0.086299           0.006674   \n",
       "3               0.004077               0.089246           0.007228   \n",
       "4               0.004171               0.089441           0.007446   \n",
       "5               0.004208               0.089458           0.007520   \n",
       "6               0.004221               0.089461           0.007545   \n",
       "7               0.004226               0.089462           0.007553   \n",
       "8               0.004227               0.089462           0.007556   \n",
       "\n",
       "   systemicness STANDARDBANK   \n",
       "0                    0.000000  \n",
       "1                    0.000000  \n",
       "2                    0.279386  \n",
       "3                    0.278355  \n",
       "4                    0.277670  \n",
       "5                    0.277441  \n",
       "6                    0.277364  \n",
       "7                    0.277339  \n",
       "8                    0.277330  "
      ]
     },
     "execution_count": 1,
     "metadata": {},
     "output_type": "execute_result"
    }
   ],
   "source": [
    "import numpy as np\n",
    "import pandas as pd\n",
    "import csv\n",
    "from matplotlib import cm\n",
    "import sys\n",
    "import matplotlib.pyplot as plt\n",
    "from matplotlib.ticker import MaxNLocator\n",
    "from mpl_toolkits.mplot3d import Axes3D\n",
    "import numpy\n",
    "from numpy.random import randn\n",
    "from scipy import array, newaxis\n",
    "import seaborn as sns\n",
    "from matplotlib.patches import Rectangle\n",
    "from scipy.interpolate import InterpolatedUnivariateSpline\n",
    "\n",
    "\n",
    "d=pd.read_csv('results_all_agents_sweeps.csv')\n",
    "d.filter(like='systemicness') "
   ]
  },
  {
   "cell_type": "code",
   "execution_count": null,
   "metadata": {},
   "outputs": [],
   "source": []
  },
  {
   "cell_type": "code",
   "execution_count": null,
   "metadata": {},
   "outputs": [],
   "source": [
    " "
   ]
  },
  {
   "cell_type": "code",
   "execution_count": 12,
   "metadata": {},
   "outputs": [
    {
     "data": {
      "text/plain": [
       "Index([u'Unnamed: 0', u'current_step', u'shock_for_agent FNB',\n",
       "       u'total_assets FNB', u'asset_losses_from_system_deleveraging FNB',\n",
       "       u'equity FNB', u'equity_losses_from_system_deleveraging FNB',\n",
       "       u'systemicness FNB', u'valuation_losses FNB', u'cash_reserves FNB',\n",
       "       u'total_asset_sales FNB', u'debt_paid_by_cash FNB', u'debt FNB',\n",
       "       u'equity_losses FNB'],\n",
       "      dtype='object')"
      ]
     },
     "execution_count": 12,
     "metadata": {},
     "output_type": "execute_result"
    }
   ],
   "source": [
    "d.columns[:14]"
   ]
  },
  {
   "cell_type": "code",
   "execution_count": 13,
   "metadata": {},
   "outputs": [
    {
     "ename": "NameError",
     "evalue": "name 'environment' is not defined",
     "output_type": "error",
     "traceback": [
      "\u001b[0;31m---------------------------------------------------------------------------\u001b[0m",
      "\u001b[0;31mNameError\u001b[0m                                 Traceback (most recent call last)",
      "\u001b[0;32m<ipython-input-13-26ecb27b73d4>\u001b[0m in \u001b[0;36m<module>\u001b[0;34m()\u001b[0m\n\u001b[0;32m----> 1\u001b[0;31m \u001b[0md\u001b[0m\u001b[0;34m=\u001b[0m\u001b[0mpd\u001b[0m\u001b[0;34m.\u001b[0m\u001b[0mread_csv\u001b[0m\u001b[0;34m(\u001b[0m\u001b[0;34m\"./output/single_shock_\"\u001b[0m \u001b[0;34m+\u001b[0m \u001b[0mstr\u001b[0m\u001b[0;34m(\u001b[0m\u001b[0menvironment\u001b[0m\u001b[0;34m.\u001b[0m\u001b[0mstatic_parameters\u001b[0m\u001b[0;34m[\u001b[0m\u001b[0;34m'illiquidity'\u001b[0m\u001b[0;34m]\u001b[0m\u001b[0;34m)\u001b[0m  \u001b[0;34m+\u001b[0m\u001b[0;34m\"_\"\u001b[0m\u001b[0;34m+\u001b[0m \u001b[0mstr\u001b[0m\u001b[0;34m(\u001b[0m\u001b[0menvironment\u001b[0m\u001b[0;34m.\u001b[0m\u001b[0mnum_agents\u001b[0m\u001b[0;34m)\u001b[0m \u001b[0;34m+\u001b[0m \u001b[0;34m\"_\"\u001b[0m \u001b[0;34m+\u001b[0m \u001b[0mstr\u001b[0m\u001b[0;34m(\u001b[0m\u001b[0menvironment\u001b[0m\u001b[0;34m.\u001b[0m\u001b[0mnum_sweeps\u001b[0m\u001b[0;34m)\u001b[0m \u001b[0;34m+\u001b[0m \u001b[0;34m\".csv\"\u001b[0m\u001b[0;34m)\u001b[0m\u001b[0;34m\u001b[0m\u001b[0m\n\u001b[0m",
      "\u001b[0;31mNameError\u001b[0m: name 'environment' is not defined"
     ]
    }
   ],
   "source": [
    "d=pd.read_csv(\"./output/single_shock_\" + str(environment.static_parameters['illiquidity'])  +\"_\"+ str(environment.num_agents) + \"_\" + str(environment.num_sweeps) + \".csv\")\n"
   ]
  },
  {
   "cell_type": "code",
   "execution_count": 22,
   "metadata": {},
   "outputs": [],
   "source": [
    "p='/Users/admin/git_repos/BlackRhino/examples/firesale2020/experiments/single_shock'+'/output/'"
   ]
  },
  {
   "cell_type": "code",
   "execution_count": 23,
   "metadata": {},
   "outputs": [
    {
     "name": "stdout",
     "output_type": "stream",
     "text": [
      "('/Users/admin/git_repos/BlackRhino/examples/firesale2020/experiments/single_shock/output/', [], ['.DS_Store', 'results_system_sweeps.csv', 'single_shock_1e-13_10_9.csv', 'single_shock_1e-13_10_8.csv'])\n"
     ]
    }
   ],
   "source": [
    "import os\n",
    "\n",
    "for files in os.walk(p):\n",
    "    print(files)\n",
    "    t=pd.read_csv(p+'single_shock_1e-13_10_9.csv')\n",
    "    t['system_TAS'][2:].sum()"
   ]
  },
  {
   "cell_type": "code",
   "execution_count": 28,
   "metadata": {},
   "outputs": [
    {
     "data": {
      "text/plain": [
       "-556927358019.1349"
      ]
     },
     "execution_count": 28,
     "metadata": {},
     "output_type": "execute_result"
    }
   ],
   "source": []
  },
  {
   "cell_type": "code",
   "execution_count": 29,
   "metadata": {},
   "outputs": [
    {
     "data": {
      "text/plain": [
       "-834044238658.0405"
      ]
     },
     "execution_count": 29,
     "metadata": {},
     "output_type": "execute_result"
    }
   ],
   "source": [
    "t['system_TAS'][1] "
   ]
  },
  {
   "cell_type": "code",
   "execution_count": null,
   "metadata": {},
   "outputs": [],
   "source": [
    " "
   ]
  },
  {
   "cell_type": "code",
   "execution_count": 45,
   "metadata": {},
   "outputs": [],
   "source": [
    "temp=[]\n",
    "helper={}\n",
    "helper['asset class'] = str(sys.argv[2])\n",
    "helper['shock'] =  str(sys.argv[1]) \n",
    "helper['time'] = '2015-12'\n",
    "helper['valuation_losses']=t['system_TAS'][2:].sum()/t['system_assets'][0] *-1 *100\n",
    "temp.append(pd.DataFrame(helper, index= ['2015-12']))\n",
    "pd.DataFrame(helper, index= ['2015-12']).to_csv('t.csv')"
   ]
  },
  {
   "cell_type": "code",
   "execution_count": null,
   "metadata": {},
   "outputs": [],
   "source": []
  }
 ],
 "metadata": {
  "kernelspec": {
   "display_name": "Python 2",
   "language": "python",
   "name": "python2"
  },
  "language_info": {
   "codemirror_mode": {
    "name": "ipython",
    "version": 2
   },
   "file_extension": ".py",
   "mimetype": "text/x-python",
   "name": "python",
   "nbconvert_exporter": "python",
   "pygments_lexer": "ipython2",
   "version": "2.7.18"
  }
 },
 "nbformat": 4,
 "nbformat_minor": 2
}
