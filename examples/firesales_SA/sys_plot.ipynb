{
 "cells": [
  {
   "cell_type": "markdown",
   "metadata": {},
   "source": [
    "This is for the distribution moments. It will write a csv \n"
   ]
  },
  {
   "cell_type": "code",
   "execution_count": null,
   "metadata": {},
   "outputs": [],
   "source": [
    "import numpy as np\n",
    "import pandas as pd\n",
    "import matplotlib as mpl\n",
    "mpl.rcParams.update({'font.size': 15, 'font.family':'serif'})\n",
    "from matplotlib.patches import Rectangle\n",
    "import matplotlib.pyplot as plt\n",
    "\n",
    "df = pd.read_csv('test100.csv')\n",
    "\n",
    "keys = np.unique(df['current_step'])\n",
    "\n",
    "for key in keys:\n",
    "    if key == 0:\n",
    "        I0 = np.argwhere(df['current_step']==key).squeeze() \n",
    "    if key == 1:\n",
    "        I1 = np.argwhere(df['current_step']==key).squeeze()\n",
    "    if key == 2:\n",
    "        I2 = np.argwhere(df['current_step']==key).squeeze()     \n",
    "    if key == 3:\n",
    "        I3 = np.argwhere(df['current_step']==key).squeeze()     \n",
    "    if key == 4:\n",
    "        I4 = np.argwhere(df['current_step']==key).squeeze()    \n",
    "    if key == 5: \n",
    "        I5 = np.argwhere(df['current_step']==key).squeeze()     \n",
    "    if key == 6: \n",
    "        I6 = np.argwhere(df['current_step']==key).squeeze()\n",
    "    if key == 7:\n",
    "        I7 = np.argwhere(df['current_step']==key).squeeze()\n",
    "\n",
    "period1 = df['system_equity'][I1]\n",
    "period2 = df['system_equity'][I2]\n",
    "period3 = df['system_equity'][I3]\n",
    "period4 = df['system_equity'][I4]\n",
    "period5 = df['system_equity'][I5]\n",
    "period6 =  df['system_equity'][I5]\n",
    "period7 = df['system_equity'][I6]\n",
    "period8 = df['system_equity'][I7]\n",
    "\n",
    "list = [period1, period2, period3, period4, period5, period6, period7, period8]\n",
    "\n",
    "\n",
    "def calc_percentile(array):\n",
    "    p5 = np.percentile(array, 5) \n",
    "    p95 = np.percentile(array, 95)\n",
    "    pm = np.mean(array)   \n",
    "    return p5, pm, p95\n",
    "\n",
    "output = []\n",
    "for i in list:\n",
    "    vfunc = np.array(np.array(calc_percentile(i)))\n",
    "    output.append(vfunc)\n",
    "\n",
    "print output\n",
    "\n",
    "df = pd.DataFrame(output)\n",
    "df.to_csv(\"1000_moments.csv\", index=False, header=False)\n",
    "\n",
    "# fig = plt.figure()\n",
    "# ax1 = fig.add_subplot(121)\n",
    "\n",
    "# for key in keys:    \n",
    "#     I = np.argwhere(df['current_step']==key).squeeze()\n",
    "\n",
    "#     ax1.plot(df['current_step'][I], df['system_equity'][I], label=\"system_Equity\")\n",
    "\n",
    "# plt.show()\n",
    "\n",
    "\n",
    "# ax1 = fig.add_subplot(121)\n",
    "# ax1.plot(df['current_step'][I], df['system_Equity'][I], label=\"system_Equity\")\n",
    "# ax1.set_xlabel('$p$')\n",
    "# ax1.set_ylabel('$x$')\n",
    "\n",
    "# nrows=2, ncols=2,\n",
    "# ax[0,0] top left\n",
    "# ax[0,1] top right\n",
    "# ax[row, col]  \n",
    "\n",
    "    #fig = plt.figure()\n",
    "#     ax[0].plot(df['current_step'][I], df['system_TAS'][I], label=\"system_TAS %s\"%key)\n",
    "    \n",
    "#  ax1 = fig.add_subplot(121)\n",
    "# ax1.plot(p, data_sorted)\n",
    "# ax1.set_xlabel('$p$')\n",
    "# ax1.set_ylabel('$x$')\n",
    "\n",
    "# ax2 = fig.add_subplot(122)\n",
    "# ax2.plot(data_sorted, p)\n",
    "# ax2.set_xlabel('$x$')\n",
    "# ax2.set_ylabel('$p$')\n",
    "\n",
    "# plt.show()   "
   ]
  },
  {
   "cell_type": "markdown",
   "metadata": {},
   "source": [
    "This is for the actual values per shock simulated:\n",
    "\n",
    "    "
   ]
  },
  {
   "cell_type": "code",
   "execution_count": null,
   "metadata": {
    "collapsed": true
   },
   "outputs": [],
   "source": [
    "df = pd.read_csv('test1000.csv')\n",
    "\n",
    "new_df = df[[\"system_equity\", \"shock\"]].copy()\n",
    "numpyMatrix = new_df.as_matrix()\n",
    "\n",
    "df1 = df.pivot(index='current_step', columns='shock', values='system_equity')\n",
    "# output = []\n",
    "# for key in keys2:\n",
    "#     I = np.argwhere(df['shock']==key).squeeze() \n",
    "#     output.append(df['system_equity'][I])  \n",
    "#     print df['system_equity'][I]\n",
    "\n",
    "#  shock_array = np.array(df['system_equity'][I])\n",
    "# df = pd.DataFrame(output)\n",
    "df1.to_csv(\"1000_hihishocks.csv\")"
   ]
  },
  {
   "cell_type": "code",
   "execution_count": 31,
   "metadata": {
    "collapsed": true
   },
   "outputs": [],
   "source": [
    "import pandas as pd\n",
    "import matplotlib.pyplot as plt\n",
    "import seaborn as sns\n",
    "df3 = pd.read_csv('1000_plot.csv')\n",
    "\n",
    "df4 = df3.loc[ : , '5%': ]"
   ]
  },
  {
   "cell_type": "code",
   "execution_count": 77,
   "metadata": {},
   "outputs": [
    {
     "name": "stdout",
     "output_type": "stream",
     "text": [
      "hello\n"
     ]
    },
    {
     "data": {
      "image/png": "[encoded data removed]",
      "text/plain": [
       "<matplotlib.figure.Figure at 0x1c3d8e4e10>"
      ]
     },
     "metadata": {},
     "output_type": "display_data"
    }
   ],
   "source": [
    "cmap1 = sns.diverging_palette(10, 220, sep=80, n=7)\n",
    "\n",
    "cmap2 = sns.light_palette(\"grey\", 1000)\n",
    "\n",
    "col_names=[]\n",
    "for i in df4.columns:\n",
    "    col_names.append(str(i))\n",
    "\n",
    "\n",
    "fig, ax = plt.subplots()\n",
    "\n",
    "df3.plot(x = \"current_step\", y=col_names,  color=sns.color_palette(cmap2), ax=ax, legend=False)\n",
    "df3.plot(x = \"current_step\", y=\"95%\",  color=\"r\", linewidth=3, ax=ax ,  style='--')\n",
    "df3.plot(x = \"current_step\", y=\"Mean\",  color=\"r\", linewidth=3, ax=ax )\n",
    "df3.plot(x = \"current_step\", y=\"5%\",  color=\"r\", linewidth=3, style='--', ax=ax, title=\"Banking system equity\" ) \n",
    "ax.set_xlabel(\"periods\")\n",
    "    \n",
    "# rows = [df4.loc[  : , :label  ] for label in col_names]\n",
    "\n",
    "print \"hello\"\n",
    "\n",
    "plt.show()\n",
    "\n",
    "\n"
   ]
  },
  {
   "cell_type": "code",
   "execution_count": 69,
   "metadata": {},
   "outputs": [
    {
     "ename": "AttributeError",
     "evalue": "'module' object has no attribute 'row'",
     "output_type": "error",
     "traceback": [
      "\u001b[0;31m---------------------------------------------------------------------------\u001b[0m",
      "\u001b[0;31mAttributeError\u001b[0m                            Traceback (most recent call last)",
      "\u001b[0;32m<ipython-input-69-467c9d5e0238>\u001b[0m in \u001b[0;36m<module>\u001b[0;34m()\u001b[0m\n\u001b[1;32m      2\u001b[0m \u001b[0;34m\u001b[0m\u001b[0m\n\u001b[1;32m      3\u001b[0m \u001b[0;32mfor\u001b[0m \u001b[0mrow\u001b[0m \u001b[0;32min\u001b[0m \u001b[0mrows\u001b[0m\u001b[0;34m:\u001b[0m\u001b[0;34m\u001b[0m\u001b[0m\n\u001b[0;32m----> 4\u001b[0;31m     \u001b[0mplt\u001b[0m\u001b[0;34m.\u001b[0m\u001b[0mrow\u001b[0m\u001b[0;34m.\u001b[0m\u001b[0mplot\u001b[0m\u001b[0;34m(\u001b[0m\u001b[0;34m)\u001b[0m\u001b[0;34m\u001b[0m\u001b[0m\n\u001b[0m\u001b[1;32m      5\u001b[0m \u001b[0;34m\u001b[0m\u001b[0m\n\u001b[1;32m      6\u001b[0m \u001b[0mplt\u001b[0m\u001b[0;34m.\u001b[0m\u001b[0mshow\u001b[0m\u001b[0;34m(\u001b[0m\u001b[0;34m)\u001b[0m\u001b[0;34m\u001b[0m\u001b[0m\n",
      "\u001b[0;31mAttributeError\u001b[0m: 'module' object has no attribute 'row'"
     ]
    }
   ],
   "source": [
    "plt.figure(1)\n",
    "\n",
    "for row in rows:\n",
    "    plt.row.plot()\n",
    "\n",
    "plt.show()\n",
    "\n",
    "# df.plot(x=\"current_step\", y = (df3.loc[ : , '5%': ]))\n",
    "\n",
    "\n"
   ]
  },
  {
   "cell_type": "code",
   "execution_count": null,
   "metadata": {
    "collapsed": true
   },
   "outputs": [],
   "source": []
  }
 ],
 "metadata": {
  "kernelspec": {
   "display_name": "Python 2",
   "language": "python",
   "name": "python2"
  },
  "language_info": {
   "codemirror_mode": {
    "name": "ipython",
    "version": 2
   },
   "file_extension": ".py",
   "mimetype": "text/x-python",
   "name": "python",
   "nbconvert_exporter": "python",
   "pygments_lexer": "ipython2",
   "version": "2.7.11"
  }
 },
 "nbformat": 4,
 "nbformat_minor": 2
}
